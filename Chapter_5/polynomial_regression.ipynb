{
 "cells": [
  {
   "cell_type": "code",
   "execution_count": 519,
   "outputs": [],
   "source": [
    "import numpy as np\n",
    "import pandas as pd\n",
    "from matplotlib import pyplot as plt\n",
    "from sklearn.model_selection import train_test_split\n",
    "from sklearn.linear_model import LinearRegression"
   ],
   "metadata": {
    "collapsed": false,
    "pycharm": {
     "name": "#%%\n"
    }
   }
  },
  {
   "cell_type": "code",
   "execution_count": 520,
   "outputs": [],
   "source": [
    "data_url = \"http://lib.stat.cmu.edu/datasets/boston\"\n",
    "raw_df = pd.read_csv(data_url, sep=\"\\s+\", skiprows=22, header=None)\n",
    "data = np.hstack([raw_df.values[::2, :], raw_df.values[1::2, :2]])\n",
    "data = data[:, 4:6]\n",
    "target = raw_df.values[1::2, 2]\n",
    "feature_names = [\"CRIM\", \"ZN\", \"INDUS\", \"CHAS\", \"NOX\", \"RM\", \"AGE\", \"DIS\", \"RAD\", \"TAX\", \"PTRATIO\", \"LSTAT\", \"MEDV\"]"
   ],
   "metadata": {
    "collapsed": false,
    "pycharm": {
     "name": "#%%\n"
    }
   }
  },
  {
   "cell_type": "code",
   "execution_count": 521,
   "outputs": [
    {
     "name": "stdout",
     "output_type": "stream",
     "text": [
      "       NOX     RM\n",
      "0    0.538  6.575\n",
      "1    0.469  6.421\n",
      "2    0.469  7.185\n",
      "3    0.458  6.998\n",
      "4    0.458  7.147\n",
      "..     ...    ...\n",
      "501  0.573  6.593\n",
      "502  0.573  6.120\n",
      "503  0.573  6.976\n",
      "504  0.573  6.794\n",
      "505  0.573  6.030\n",
      "\n",
      "[506 rows x 2 columns]\n"
     ]
    }
   ],
   "source": [
    "df = pd.DataFrame(data, columns=feature_names[4:6])\n",
    "print(df)"
   ],
   "metadata": {
    "collapsed": false,
    "pycharm": {
     "name": "#%%\n"
    }
   }
  },
  {
   "cell_type": "code",
   "execution_count": 522,
   "outputs": [],
   "source": [
    "np.random.seed(42)\n",
    "\n",
    "x_train, x_test, y_train, y_test = train_test_split(data, target, test_size=0.3)"
   ],
   "metadata": {
    "collapsed": false,
    "pycharm": {
     "name": "#%%\n"
    }
   }
  },
  {
   "cell_type": "code",
   "execution_count": 523,
   "outputs": [
    {
     "name": "stdout",
     "output_type": "stream",
     "text": [
      "Coef: [-17.1244824    8.26784898]\n",
      "Intercept: -19.741106770701798\n",
      "Score: 53.83%\n"
     ]
    }
   ],
   "source": [
    "reg = LinearRegression()\n",
    "reg.fit(x_train, y_train)\n",
    "score = reg.score(x_test, y_test)\n",
    "\n",
    "print(f\"Coef: {reg.coef_}\")\n",
    "print(f\"Intercept: {reg.intercept_}\")\n",
    "print(f\"Score: {score*100:.4}%\")"
   ],
   "metadata": {
    "collapsed": false,
    "pycharm": {
     "name": "#%%\n"
    }
   }
  },
  {
   "cell_type": "markdown",
   "source": [
    "###Non-linear Transformation"
   ],
   "metadata": {
    "collapsed": false,
    "pycharm": {
     "name": "#%% md\n"
    }
   }
  },
  {
   "cell_type": "code",
   "execution_count": 524,
   "outputs": [],
   "source": [
    "from sklearn.preprocessing import PolynomialFeatures\n",
    "\n",
    "degree = 3\n",
    "pf = PolynomialFeatures(degree=degree)\n",
    "pf.fit(x_train)\n",
    "\n",
    "x_train_transformed = pf.transform(x_train)\n",
    "x_test_transformed = pf.transform(x_test)"
   ],
   "metadata": {
    "collapsed": false,
    "pycharm": {
     "name": "#%%\n"
    }
   }
  },
  {
   "cell_type": "code",
   "execution_count": 525,
   "outputs": [
    {
     "name": "stdout",
     "output_type": "stream",
     "text": [
      "old num features: 2\n",
      "old feature names: 'x0', 'x1'\n",
      "new num features: 10\n",
      "new feature names: ['1' 'x0' 'x1' 'x0^2' 'x0 x1' 'x1^2' 'x0^3' 'x0^2 x1' 'x0 x1^2' 'x1^3']\n"
     ]
    }
   ],
   "source": [
    "print(f\"old num features: {pf.n_features_in_}\")\n",
    "print(f\"old feature names: 'x0', 'x1'\")\n",
    "print(f\"new num features: {pf.n_output_features_}\")\n",
    "print(f\"new feature names: {pf.get_feature_names_out()}\")"
   ],
   "metadata": {
    "collapsed": false,
    "pycharm": {
     "name": "#%%\n"
    }
   }
  },
  {
   "cell_type": "code",
   "execution_count": 526,
   "outputs": [
    {
     "name": "stdout",
     "output_type": "stream",
     "text": [
      "Coef: [   0.         -216.77832703 -187.82190845 -541.34032376  174.88345836\n",
      "   20.36414758  476.91382093  -57.40453554   -8.89207271   -0.6464787 ]\n",
      "Intercept: 460.2171404529591\n",
      "Score: 73.03%\n"
     ]
    }
   ],
   "source": [
    "poly_reg = LinearRegression()\n",
    "poly_reg.fit(x_train_transformed, y_train)\n",
    "score = poly_reg.score(x_test_transformed, y_test)\n",
    "\n",
    "print(f\"Coef: {poly_reg.coef_}\")\n",
    "print(f\"Intercept: {poly_reg.intercept_}\")\n",
    "print(f\"Score: {score*100:.4}%\")"
   ],
   "metadata": {
    "collapsed": false,
    "pycharm": {
     "name": "#%%\n"
    }
   }
  },
  {
   "cell_type": "code",
   "execution_count": 527,
   "outputs": [],
   "source": [
    "def plot_residuals(reg, x_train, x_test, y_train, y_test):\n",
    "    train_pred = reg.predict(x_train)\n",
    "    test_pred = reg.predict(x_test)\n",
    "\n",
    "    min_val = min(np.min(train_pred), np.min(test_pred))\n",
    "    max_val = max(np.max(train_pred), np.max(test_pred))\n",
    "\n",
    "    plt.scatter(train_pred, train_pred-y_train, color=\"red\")\n",
    "    plt.scatter(test_pred, test_pred-y_test, color=\"blue\")\n",
    "    plt.hlines(0, min_val, max_val, colors=[\"black\"])\n",
    "    plt.legend([\"Train\", \"Test\"])\n",
    "    plt.show()"
   ],
   "metadata": {
    "collapsed": false,
    "pycharm": {
     "name": "#%%\n"
    }
   }
  },
  {
   "cell_type": "code",
   "execution_count": 528,
   "outputs": [
    {
     "data": {
      "text/plain": "<Figure size 432x288 with 1 Axes>",
      "image/png": "[encoded data removed]"
     },
     "metadata": {
      "needs_background": "light"
     },
     "output_type": "display_data"
    }
   ],
   "source": [
    "plot_residuals(reg, x_train, x_test, y_train, y_test)"
   ],
   "metadata": {
    "collapsed": false,
    "pycharm": {
     "name": "#%%\n"
    }
   }
  },
  {
   "cell_type": "code",
   "execution_count": 529,
   "outputs": [
    {
     "data": {
      "text/plain": "<Figure size 432x288 with 1 Axes>",
      "image/png": "[encoded data removed]"
     },
     "metadata": {
      "needs_background": "light"
     },
     "output_type": "display_data"
    }
   ],
   "source": [
    "plot_residuals(poly_reg, x_train_transformed, x_test_transformed, y_train, y_test)"
   ],
   "metadata": {
    "collapsed": false,
    "pycharm": {
     "name": "#%%\n"
    }
   }
  }
 ],
 "metadata": {
  "kernelspec": {
   "display_name": "Python 3",
   "language": "python",
   "name": "python3"
  },
  "language_info": {
   "codemirror_mode": {
    "name": "ipython",
    "version": 2
   },
   "file_extension": ".py",
   "mimetype": "text/x-python",
   "name": "python",
   "nbconvert_exporter": "python",
   "pygments_lexer": "ipython2",
   "version": "2.7.6"
  }
 },
 "nbformat": 4,
 "nbformat_minor": 0
}