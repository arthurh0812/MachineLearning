{
 "cells": [
  {
   "cell_type": "code",
   "execution_count": 322,
   "metadata": {},
   "outputs": [],
   "source": [
    "import numpy as np\n",
    "np.random.seed(42)\n",
    "import pandas as pd\n",
    "import matplotlib.pyplot as plt\n",
    "from sklearn.datasets import fetch_california_housing\n",
    "from sklearn.model_selection import train_test_split\n",
    "from sklearn.metrics import r2_score"
   ]
  },
  {
   "cell_type": "code",
   "execution_count": 323,
   "metadata": {},
   "outputs": [],
   "source": [
    "dataset = fetch_california_housing()"
   ]
  },
  {
   "cell_type": "code",
   "execution_count": 324,
   "metadata": {},
   "outputs": [],
   "source": [
    "x = dataset.data\n",
    "y = dataset.target\n",
    "classes = dataset.target_names\n",
    "features = dataset.feature_names\n",
    "description = dataset.DESCR"
   ]
  },
  {
   "cell_type": "code",
   "execution_count": 325,
   "metadata": {},
   "outputs": [
    {
     "data": {
      "text/html": [
       "<div>\n",
       "<style scoped>\n",
       "    .dataframe tbody tr th:only-of-type {\n",
       "        vertical-align: middle;\n",
       "    }\n",
       "\n",
       "    .dataframe tbody tr th {\n",
       "        vertical-align: top;\n",
       "    }\n",
       "\n",
       "    .dataframe thead th {\n",
       "        text-align: right;\n",
       "    }\n",
       "</style>\n",
       "<table border=\"1\" class=\"dataframe\">\n",
       "  <thead>\n",
       "    <tr style=\"text-align: right;\">\n",
       "      <th></th>\n",
       "      <th>MedInc</th>\n",
       "      <th>HouseAge</th>\n",
       "      <th>AveRooms</th>\n",
       "      <th>AveBedrms</th>\n",
       "      <th>Population</th>\n",
       "      <th>AveOccup</th>\n",
       "      <th>Latitude</th>\n",
       "      <th>Longitude</th>\n",
       "    </tr>\n",
       "  </thead>\n",
       "  <tbody>\n",
       "    <tr>\n",
       "      <th>0</th>\n",
       "      <td>8.3252</td>\n",
       "      <td>41.0</td>\n",
       "      <td>6.984127</td>\n",
       "      <td>1.023810</td>\n",
       "      <td>322.0</td>\n",
       "      <td>2.555556</td>\n",
       "      <td>37.88</td>\n",
       "      <td>-122.23</td>\n",
       "    </tr>\n",
       "    <tr>\n",
       "      <th>1</th>\n",
       "      <td>8.3014</td>\n",
       "      <td>21.0</td>\n",
       "      <td>6.238137</td>\n",
       "      <td>0.971880</td>\n",
       "      <td>2401.0</td>\n",
       "      <td>2.109842</td>\n",
       "      <td>37.86</td>\n",
       "      <td>-122.22</td>\n",
       "    </tr>\n",
       "    <tr>\n",
       "      <th>2</th>\n",
       "      <td>7.2574</td>\n",
       "      <td>52.0</td>\n",
       "      <td>8.288136</td>\n",
       "      <td>1.073446</td>\n",
       "      <td>496.0</td>\n",
       "      <td>2.802260</td>\n",
       "      <td>37.85</td>\n",
       "      <td>-122.24</td>\n",
       "    </tr>\n",
       "    <tr>\n",
       "      <th>3</th>\n",
       "      <td>5.6431</td>\n",
       "      <td>52.0</td>\n",
       "      <td>5.817352</td>\n",
       "      <td>1.073059</td>\n",
       "      <td>558.0</td>\n",
       "      <td>2.547945</td>\n",
       "      <td>37.85</td>\n",
       "      <td>-122.25</td>\n",
       "    </tr>\n",
       "    <tr>\n",
       "      <th>4</th>\n",
       "      <td>3.8462</td>\n",
       "      <td>52.0</td>\n",
       "      <td>6.281853</td>\n",
       "      <td>1.081081</td>\n",
       "      <td>565.0</td>\n",
       "      <td>2.181467</td>\n",
       "      <td>37.85</td>\n",
       "      <td>-122.25</td>\n",
       "    </tr>\n",
       "  </tbody>\n",
       "</table>\n",
       "</div>"
      ],
      "text/plain": [
       "   MedInc  HouseAge  AveRooms  AveBedrms  Population  AveOccup  Latitude  \\\n",
       "0  8.3252      41.0  6.984127   1.023810       322.0  2.555556     37.88   \n",
       "1  8.3014      21.0  6.238137   0.971880      2401.0  2.109842     37.86   \n",
       "2  7.2574      52.0  8.288136   1.073446       496.0  2.802260     37.85   \n",
       "3  5.6431      52.0  5.817352   1.073059       558.0  2.547945     37.85   \n",
       "4  3.8462      52.0  6.281853   1.081081       565.0  2.181467     37.85   \n",
       "\n",
       "   Longitude  \n",
       "0    -122.23  \n",
       "1    -122.22  \n",
       "2    -122.24  \n",
       "3    -122.25  \n",
       "4    -122.25  "
      ]
     },
     "execution_count": 325,
     "metadata": {},
     "output_type": "execute_result"
    }
   ],
   "source": [
    "df = pd.DataFrame(x, columns=features)\n",
    "df.head(5)"
   ]
  },
  {
   "cell_type": "code",
   "execution_count": 326,
   "metadata": {},
   "outputs": [],
   "source": [
    "class SimpleLinearRegression:\n",
    "    def __init__(self) -> None:\n",
    "        self.coef_: float = None\n",
    "        self.intercept_: float = None\n",
    "        \n",
    "    def fit(self, x: np.ndarray, y: np.ndarray) -> None:\n",
    "        self._compute_coef(x, y)\n",
    "        self._compute_intercept(x, y)\n",
    "    \n",
    "    def predict(self, x: np.ndarray) -> np.ndarray:\n",
    "        predictions = self.coef_*x+self.intercept_\n",
    "        return predictions\n",
    "    \n",
    "    def score(self, x: np.ndarray, y: np.ndarray) -> float:\n",
    "        y_pred = self.predict(x)\n",
    "        y_mean = np.mean(y, axis=0)\n",
    "        numerator = np.sum((y - y_pred)**2)\n",
    "        denominator = np.sum((y - y_mean)**2)\n",
    "        return 1 - (numerator/denominator)\n",
    "    \n",
    "    def _compute_coef(self, x: np.ndarray, y: np.ndarray) -> None:\n",
    "        meanX = np.mean(x, axis=0)\n",
    "        meanY = np.mean(y, axis=0)\n",
    "        numerator: float = 0\n",
    "        for i in range(0, len(x)):\n",
    "            numerator += (x[i]-meanX)*(y[i]-meanY)\n",
    "        denominator: float = 0\n",
    "        for i in range(0, len(x)):\n",
    "            denominator += (x[i]-meanX)**2\n",
    "        self.coef_ = numerator/denominator\n",
    "    \n",
    "    def _compute_intercept(self, x: np.ndarray, y: np.ndarray) -> None:\n",
    "        meanX = np.mean(x, axis=0)\n",
    "        meanY = np.mean(y, axis=0)\n",
    "        self.intercept_ = meanY - self.coef_*meanX        "
   ]
  },
  {
   "cell_type": "code",
   "execution_count": 327,
   "metadata": {},
   "outputs": [
    {
     "data": {
      "image/png": "[encoded data removed]",
      "text/plain": [
       "<Figure size 432x288 with 1 Axes>"
      ]
     },
     "metadata": {
      "needs_background": "light"
     },
     "output_type": "display_data"
    }
   ],
   "source": [
    "filtered = x[:, 0]\n",
    "\n",
    "# splits the dataset into a training (70%) and into a testing set (30%) randomly\n",
    "x_train, x_test, y_train, y_test = train_test_split(filtered, y, test_size=0.3)\n",
    "plt.scatter(x_train, y_train)\n",
    "plt.show()"
   ]
  },
  {
   "cell_type": "code",
   "execution_count": 328,
   "metadata": {},
   "outputs": [
    {
     "name": "stdout",
     "output_type": "stream",
     "text": [
      "score (own): 47.29%\n",
      "score (sklearn): 47.29%\n",
      "coef: 0.4181932697598387\n",
      "intercept: 0.447949655560429\n"
     ]
    }
   ],
   "source": [
    "regr = SimpleLinearRegression()\n",
    "regr.fit(x_train, y_train)\n",
    "sc_own = regr.score(x_test, y_test)\n",
    "test_preds = regr.predict(x_test)\n",
    "sc_sklearn = r2_score(y_test, test_preds)\n",
    "\n",
    "print(f\"score (own): {sc_own*100:.4}%\")\n",
    "print(f\"score (sklearn): {sc_sklearn*100:.4}%\")\n",
    "print(f\"coef: {regr.coef_}\")\n",
    "print(f\"intercept: {regr.intercept_}\")"
   ]
  },
  {
   "cell_type": "code",
   "execution_count": 329,
   "metadata": {},
   "outputs": [
    {
     "name": "stdout",
     "output_type": "stream",
     "text": [
      "preds: [1.15101618 1.50652228 1.90330405 ... 1.91664442 1.97435509 1.72427551]\n",
      "expect: [0.477   0.458   5.00001 ... 2.184   1.194   2.098  ]\n"
     ]
    }
   ],
   "source": [
    "print(f\"preds: {test_preds}\")\n",
    "print(f\"expect: {y_test}\")"
   ]
  },
  {
   "cell_type": "code",
   "execution_count": 330,
   "metadata": {},
   "outputs": [
    {
     "data": {
      "image/png": "[encoded data removed]",
      "text/plain": [
       "<Figure size 432x288 with 1 Axes>"
      ]
     },
     "metadata": {
      "needs_background": "light"
     },
     "output_type": "display_data"
    }
   ],
   "source": [
    "x_axis = np.arange(start=0, stop=12, step=0.05)\n",
    "y_preds = regr.predict(x_axis)\n",
    "\n",
    "plt.scatter(x_train, y_train)\n",
    "plt.plot(x_axis, y_preds, color=\"red\")\n",
    "plt.show()"
   ]
  }
 ],
 "metadata": {
  "interpreter": {
   "hash": "51e5c816a08402adef3619d7d3c49e15420d29584bda5bdd5168180760e3c22f"
  },
  "kernelspec": {
   "display_name": "Python 3.10.4 ('sklearn-env')",
   "language": "python",
   "name": "python3"
  },
  "language_info": {
   "codemirror_mode": {
    "name": "ipython",
    "version": 3
   },
   "file_extension": ".py",
   "mimetype": "text/x-python",
   "name": "python",
   "nbconvert_exporter": "python",
   "pygments_lexer": "ipython3",
   "version": "3.10.4"
  },
  "orig_nbformat": 4
 },
 "nbformat": 4,
 "nbformat_minor": 2
}
