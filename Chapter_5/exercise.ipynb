{
 "cells": [
  {
   "cell_type": "code",
   "execution_count": 3,
   "metadata": {
    "pycharm": {
     "name": "#%%\n"
    }
   },
   "outputs": [],
   "source": [
    "import numpy as np\n",
    "import itertools\n",
    "np.random.seed(42)\n",
    "import pandas as pd;\n",
    "import matplotlib.pyplot as plt\n",
    "from sklearn.datasets import fetch_california_housing\n",
    "from sklearn.utils import Bunch\n",
    "from sklearn.model_selection import train_test_split\n",
    "from sklearn.linear_model import LinearRegression"
   ]
  },
  {
   "cell_type": "code",
   "execution_count": 4,
   "metadata": {
    "pycharm": {
     "name": "#%%\n"
    }
   },
   "outputs": [],
   "source": [
    "data: Bunch = fetch_california_housing()\n",
    "x = data.data\n",
    "y = data.target\n",
    "features = data.feature_names\n",
    "features_len = len(features)"
   ]
  },
  {
   "cell_type": "code",
   "execution_count": 5,
   "metadata": {
    "pycharm": {
     "name": "#%%\n"
    }
   },
   "outputs": [
    {
     "name": "stdout",
     "output_type": "stream",
     "text": [
      "combs with 1: 8\n",
      "combs with 2: 28\n",
      "combs with 3: 56\n",
      "combs with 4: 70\n",
      "combs with 5: 56\n",
      "combs with 6: 28\n",
      "combs with 7: 8\n",
      "total combs: 254\n"
     ]
    }
   ],
   "source": [
    "scores = np.zeros(shape=(features_len), dtype=float)\n",
    "total_combs = 0\n",
    "for i in range(1, features_len):\n",
    "    curr_feature_combs = len([v for v in itertools.combinations(features, i)])\n",
    "    total_combs += curr_feature_combs\n",
    "    print(f\"combs with {i}: {curr_feature_combs}\")\n",
    "\n",
    "print(f\"total combs: {total_combs}\")"
   ]
  },
  {
   "cell_type": "code",
   "execution_count": 6,
   "metadata": {
    "pycharm": {
     "name": "#%%\n"
    }
   },
   "outputs": [],
   "source": [
    "df = pd.DataFrame(x, columns=features)\n",
    "best_score = 0\n",
    "best_comb = np.array([])\n",
    "for i in range(1, features_len+1):\n",
    "    for comb in itertools.combinations(features, i):\n",
    "        df_features = pd.DataFrame(df, columns=comb)\n",
    "        \n",
    "        filtered = df_features.to_numpy()\n",
    "        x_train, x_test, y_train, y_test = train_test_split(filtered, y, test_size=0.3)\n",
    "        reg = LinearRegression()\n",
    "        reg.fit(x_train, y_train)\n",
    "        r2_score = reg.score(x_test, y_test)\n",
    "        \n",
    "        if best_score < r2_score:\n",
    "            best_score = r2_score\n",
    "            best_comb = comb"
   ]
  },
  {
   "cell_type": "code",
   "execution_count": null,
   "outputs": [],
   "source": [
    "best_model = LinearRegression()\n",
    "indices = np.zeros(shape=(len(best_comb)), dtype=int)\n",
    "for i, feature in enumerate(best_comb):\n",
    "    index = features.index(feature)\n",
    "    indices[i] = index\n",
    "\n",
    "best_data = x[:, indices]\n",
    "x_train, x_test, y_train, y_test = train_test_split(best_data, y, test_size=0.3)\n",
    "best_model.fit(best_data, y)\n",
    "\n",
    "score = best_model.score(x_test, y_test)\n",
    "print(f\"best comb: {best_comb}\")\n",
    "print(f\"best score: {score*100:.4}%\")\n",
    "\n",
    "data_frame = pd.DataFrame()"
   ],
   "metadata": {
    "collapsed": false,
    "pycharm": {
     "name": "#%%\n"
    }
   }
  }
 ],
 "metadata": {
  "interpreter": {
   "hash": "51e5c816a08402adef3619d7d3c49e15420d29584bda5bdd5168180760e3c22f"
  },
  "kernelspec": {
   "display_name": "Python 3.10.4 ('sklearn-env')",
   "language": "python",
   "name": "python3"
  },
  "language_info": {
   "codemirror_mode": {
    "name": "ipython",
    "version": 3
   },
   "file_extension": ".py",
   "mimetype": "text/x-python",
   "name": "python",
   "nbconvert_exporter": "python",
   "pygments_lexer": "ipython3",
   "version": "3.10.4"
  },
  "orig_nbformat": 4
 },
 "nbformat": 4,
 "nbformat_minor": 2
}