{
 "cells": [
  {
   "cell_type": "code",
   "execution_count": 47,
   "metadata": {
    "collapsed": true,
    "pycharm": {
     "name": "#%%\n"
    }
   },
   "outputs": [],
   "source": [
    "import numpy as np\n",
    "from sklearn.preprocessing import PolynomialFeatures"
   ]
  },
  {
   "cell_type": "code",
   "execution_count": 48,
   "outputs": [
    {
     "name": "stdout",
     "output_type": "stream",
     "text": [
      "[[ 1.  1.  1.  1.]\n",
      " [ 1.  2.  4.  8.]\n",
      " [ 1.  3.  9. 27.]]\n",
      "[-6.00196309 -6.35731628 -6.20997245  1.02188452 -3.42312273 -3.91387751\n",
      " -3.64616065 -4.22858452 -1.57792714 -4.4717559   0.36586053 -1.44803987\n",
      " -6.16285677 -7.92496751 -4.27430034 -7.16328778  1.11066135 -1.88339543\n",
      " -6.79606755 -8.7542053 ]\n"
     ]
    }
   ],
   "source": [
    "x = np.array([[1], [2], [3]])\n",
    "\n",
    "features = PolynomialFeatures(degree=3)\n",
    "features.fit(x)\n",
    "x_transformed = features.transform(x)\n",
    "\n",
    "print(x_transformed)\n",
    "\n",
    "np.random.seed(0)\n",
    "print(np.random.default_rng().normal(-3, 3, 20))"
   ],
   "metadata": {
    "collapsed": false,
    "pycharm": {
     "name": "#%%\n"
    }
   }
  }
 ],
 "metadata": {
  "kernelspec": {
   "display_name": "Python 3",
   "language": "python",
   "name": "python3"
  },
  "language_info": {
   "codemirror_mode": {
    "name": "ipython",
    "version": 2
   },
   "file_extension": ".py",
   "mimetype": "text/x-python",
   "name": "python",
   "nbconvert_exporter": "python",
   "pygments_lexer": "ipython2",
   "version": "2.7.6"
  }
 },
 "nbformat": 4,
 "nbformat_minor": 0
}