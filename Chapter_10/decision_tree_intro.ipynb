{
 "cells": [
  {
   "cell_type": "code",
   "execution_count": 29,
   "outputs": [],
   "source": [
    "import numpy as np\n",
    "np.random.seed(42)\n",
    "import pandas as pd\n",
    "from sklearn.datasets import load_wine\n",
    "from sklearn.tree import DecisionTreeClassifier, plot_tree\n",
    "from sklearn.model_selection import GridSearchCV, train_test_split"
   ],
   "metadata": {
    "collapsed": false,
    "pycharm": {
     "name": "#%%\n"
    }
   }
  },
  {
   "cell_type": "code",
   "execution_count": 30,
   "outputs": [],
   "source": [
    "dataset = load_wine()\n",
    "x = dataset.data\n",
    "y = dataset.target"
   ],
   "metadata": {
    "collapsed": false,
    "pycharm": {
     "name": "#%%\n"
    }
   }
  },
  {
   "cell_type": "code",
   "execution_count": 31,
   "outputs": [
    {
     "name": "stdout",
     "output_type": "stream",
     "text": [
      "target names: ['class_0' 'class_1' 'class_2']\n",
      "description:\n",
      ".. _wine_dataset:\n",
      "\n",
      "Wine recognition dataset\n",
      "------------------------\n",
      "\n",
      "**Data Set Characteristics:**\n",
      "\n",
      "    :Number of Instances: 178 (50 in each of three classes)\n",
      "    :Number of Attributes: 13 numeric, predictive attributes and the class\n",
      "    :Attribute Information:\n",
      " \t\t- Alcohol\n",
      " \t\t- Malic acid\n",
      " \t\t- Ash\n",
      "\t\t- Alcalinity of ash  \n",
      " \t\t- Magnesium\n",
      "\t\t- Total phenols\n",
      " \t\t- Flavanoids\n",
      " \t\t- Nonflavanoid phenols\n",
      " \t\t- Proanthocyanins\n",
      "\t\t- Color intensity\n",
      " \t\t- Hue\n",
      " \t\t- OD280/OD315 of diluted wines\n",
      " \t\t- Proline\n",
      "\n",
      "    - class:\n",
      "            - class_0\n",
      "            - class_1\n",
      "            - class_2\n",
      "\t\t\n",
      "    :Summary Statistics:\n",
      "    \n",
      "    ============================= ==== ===== ======= =====\n",
      "                                   Min   Max   Mean     SD\n",
      "    ============================= ==== ===== ======= =====\n",
      "    Alcohol:                      11.0  14.8    13.0   0.8\n",
      "    Malic Acid:                   0.74  5.80    2.34  1.12\n",
      "    Ash:                          1.36  3.23    2.36  0.27\n",
      "    Alcalinity of Ash:            10.6  30.0    19.5   3.3\n",
      "    Magnesium:                    70.0 162.0    99.7  14.3\n",
      "    Total Phenols:                0.98  3.88    2.29  0.63\n",
      "    Flavanoids:                   0.34  5.08    2.03  1.00\n",
      "    Nonflavanoid Phenols:         0.13  0.66    0.36  0.12\n",
      "    Proanthocyanins:              0.41  3.58    1.59  0.57\n",
      "    Colour Intensity:              1.3  13.0     5.1   2.3\n",
      "    Hue:                          0.48  1.71    0.96  0.23\n",
      "    OD280/OD315 of diluted wines: 1.27  4.00    2.61  0.71\n",
      "    Proline:                       278  1680     746   315\n",
      "    ============================= ==== ===== ======= =====\n",
      "\n",
      "    :Missing Attribute Values: None\n",
      "    :Class Distribution: class_0 (59), class_1 (71), class_2 (48)\n",
      "    :Creator: R.A. Fisher\n",
      "    :Donor: Michael Marshall (MARSHALL%PLU@io.arc.nasa.gov)\n",
      "    :Date: July, 1988\n",
      "\n",
      "This is a copy of UCI ML Wine recognition datasets.\n",
      "https://archive.ics.uci.edu/ml/machine-learning-databases/wine/wine.data\n",
      "\n",
      "The data is the results of a chemical analysis of wines grown in the same\n",
      "region in Italy by three different cultivators. There are thirteen different\n",
      "measurements taken for different constituents found in the three types of\n",
      "wine.\n",
      "\n",
      "Original Owners: \n",
      "\n",
      "Forina, M. et al, PARVUS - \n",
      "An Extendible Package for Data Exploration, Classification and Correlation. \n",
      "Institute of Pharmaceutical and Food Analysis and Technologies,\n",
      "Via Brigata Salerno, 16147 Genoa, Italy.\n",
      "\n",
      "Citation:\n",
      "\n",
      "Lichman, M. (2013). UCI Machine Learning Repository\n",
      "[https://archive.ics.uci.edu/ml]. Irvine, CA: University of California,\n",
      "School of Information and Computer Science. \n",
      "\n",
      ".. topic:: References\n",
      "\n",
      "  (1) S. Aeberhard, D. Coomans and O. de Vel, \n",
      "  Comparison of Classifiers in High Dimensional Settings, \n",
      "  Tech. Rep. no. 92-02, (1992), Dept. of Computer Science and Dept. of  \n",
      "  Mathematics and Statistics, James Cook University of North Queensland. \n",
      "  (Also submitted to Technometrics). \n",
      "\n",
      "  The data was used with many others for comparing various \n",
      "  classifiers. The classes are separable, though only RDA \n",
      "  has achieved 100% correct classification. \n",
      "  (RDA : 100%, QDA 99.4%, LDA 98.9%, 1NN 96.1% (z-transformed data)) \n",
      "  (All results using the leave-one-out technique) \n",
      "\n",
      "  (2) S. Aeberhard, D. Coomans and O. de Vel, \n",
      "  \"THE CLASSIFICATION PERFORMANCE OF RDA\" \n",
      "  Tech. Rep. no. 92-01, (1992), Dept. of Computer Science and Dept. of \n",
      "  Mathematics and Statistics, James Cook University of North Queensland. \n",
      "  (Also submitted to Journal of Chemometrics).\n",
      "\n"
     ]
    }
   ],
   "source": [
    "print(f\"target names: {dataset.target_names}\")\n",
    "print(f\"description:\\n{dataset.DESCR}\")"
   ],
   "metadata": {
    "collapsed": false,
    "pycharm": {
     "name": "#%%\n"
    }
   }
  },
  {
   "cell_type": "code",
   "execution_count": 32,
   "outputs": [
    {
     "data": {
      "text/plain": "    alcohol  malic_acid   ash  alcalinity_of_ash  magnesium  total_phenols  \\\n0     14.23        1.71  2.43               15.6      127.0           2.80   \n1     13.20        1.78  2.14               11.2      100.0           2.65   \n2     13.16        2.36  2.67               18.6      101.0           2.80   \n3     14.37        1.95  2.50               16.8      113.0           3.85   \n4     13.24        2.59  2.87               21.0      118.0           2.80   \n..      ...         ...   ...                ...        ...            ...   \n95    12.47        1.52  2.20               19.0      162.0           2.50   \n96    11.81        2.12  2.74               21.5      134.0           1.60   \n97    12.29        1.41  1.98               16.0       85.0           2.55   \n98    12.37        1.07  2.10               18.5       88.0           3.52   \n99    12.29        3.17  2.21               18.0       88.0           2.85   \n\n    flavanoids  nonflavanoid_phenols  proanthocyanins  color_intensity   hue  \\\n0         3.06                  0.28             2.29             5.64  1.04   \n1         2.76                  0.26             1.28             4.38  1.05   \n2         3.24                  0.30             2.81             5.68  1.03   \n3         3.49                  0.24             2.18             7.80  0.86   \n4         2.69                  0.39             1.82             4.32  1.04   \n..         ...                   ...              ...              ...   ...   \n95        2.27                  0.32             3.28             2.60  1.16   \n96        0.99                  0.14             1.56             2.50  0.95   \n97        2.50                  0.29             1.77             2.90  1.23   \n98        3.75                  0.24             1.95             4.50  1.04   \n99        2.99                  0.45             2.81             2.30  1.42   \n\n    od280/od315_of_diluted_wines  proline  y  \n0                           3.92   1065.0  0  \n1                           3.40   1050.0  0  \n2                           3.17   1185.0  0  \n3                           3.45   1480.0  0  \n4                           2.93    735.0  0  \n..                           ...      ... ..  \n95                          2.63    937.0  1  \n96                          2.26    625.0  1  \n97                          2.74    428.0  1  \n98                          2.77    660.0  1  \n99                          2.83    406.0  1  \n\n[100 rows x 14 columns]",
      "text/html": "<div>\n<style scoped>\n    .dataframe tbody tr th:only-of-type {\n        vertical-align: middle;\n    }\n\n    .dataframe tbody tr th {\n        vertical-align: top;\n    }\n\n    .dataframe thead th {\n        text-align: right;\n    }\n</style>\n<table border=\"1\" class=\"dataframe\">\n  <thead>\n    <tr style=\"text-align: right;\">\n      <th></th>\n      <th>alcohol</th>\n      <th>malic_acid</th>\n      <th>ash</th>\n      <th>alcalinity_of_ash</th>\n      <th>magnesium</th>\n      <th>total_phenols</th>\n      <th>flavanoids</th>\n      <th>nonflavanoid_phenols</th>\n      <th>proanthocyanins</th>\n      <th>color_intensity</th>\n      <th>hue</th>\n      <th>od280/od315_of_diluted_wines</th>\n      <th>proline</th>\n      <th>y</th>\n    </tr>\n  </thead>\n  <tbody>\n    <tr>\n      <th>0</th>\n      <td>14.23</td>\n      <td>1.71</td>\n      <td>2.43</td>\n      <td>15.6</td>\n      <td>127.0</td>\n      <td>2.80</td>\n      <td>3.06</td>\n      <td>0.28</td>\n      <td>2.29</td>\n      <td>5.64</td>\n      <td>1.04</td>\n      <td>3.92</td>\n      <td>1065.0</td>\n      <td>0</td>\n    </tr>\n    <tr>\n      <th>1</th>\n      <td>13.20</td>\n      <td>1.78</td>\n      <td>2.14</td>\n      <td>11.2</td>\n      <td>100.0</td>\n      <td>2.65</td>\n      <td>2.76</td>\n      <td>0.26</td>\n      <td>1.28</td>\n      <td>4.38</td>\n      <td>1.05</td>\n      <td>3.40</td>\n      <td>1050.0</td>\n      <td>0</td>\n    </tr>\n    <tr>\n      <th>2</th>\n      <td>13.16</td>\n      <td>2.36</td>\n      <td>2.67</td>\n      <td>18.6</td>\n      <td>101.0</td>\n      <td>2.80</td>\n      <td>3.24</td>\n      <td>0.30</td>\n      <td>2.81</td>\n      <td>5.68</td>\n      <td>1.03</td>\n      <td>3.17</td>\n      <td>1185.0</td>\n      <td>0</td>\n    </tr>\n    <tr>\n      <th>3</th>\n      <td>14.37</td>\n      <td>1.95</td>\n      <td>2.50</td>\n      <td>16.8</td>\n      <td>113.0</td>\n      <td>3.85</td>\n      <td>3.49</td>\n      <td>0.24</td>\n      <td>2.18</td>\n      <td>7.80</td>\n      <td>0.86</td>\n      <td>3.45</td>\n      <td>1480.0</td>\n      <td>0</td>\n    </tr>\n    <tr>\n      <th>4</th>\n      <td>13.24</td>\n      <td>2.59</td>\n      <td>2.87</td>\n      <td>21.0</td>\n      <td>118.0</td>\n      <td>2.80</td>\n      <td>2.69</td>\n      <td>0.39</td>\n      <td>1.82</td>\n      <td>4.32</td>\n      <td>1.04</td>\n      <td>2.93</td>\n      <td>735.0</td>\n      <td>0</td>\n    </tr>\n    <tr>\n      <th>...</th>\n      <td>...</td>\n      <td>...</td>\n      <td>...</td>\n      <td>...</td>\n      <td>...</td>\n      <td>...</td>\n      <td>...</td>\n      <td>...</td>\n      <td>...</td>\n      <td>...</td>\n      <td>...</td>\n      <td>...</td>\n      <td>...</td>\n      <td>...</td>\n    </tr>\n    <tr>\n      <th>95</th>\n      <td>12.47</td>\n      <td>1.52</td>\n      <td>2.20</td>\n      <td>19.0</td>\n      <td>162.0</td>\n      <td>2.50</td>\n      <td>2.27</td>\n      <td>0.32</td>\n      <td>3.28</td>\n      <td>2.60</td>\n      <td>1.16</td>\n      <td>2.63</td>\n      <td>937.0</td>\n      <td>1</td>\n    </tr>\n    <tr>\n      <th>96</th>\n      <td>11.81</td>\n      <td>2.12</td>\n      <td>2.74</td>\n      <td>21.5</td>\n      <td>134.0</td>\n      <td>1.60</td>\n      <td>0.99</td>\n      <td>0.14</td>\n      <td>1.56</td>\n      <td>2.50</td>\n      <td>0.95</td>\n      <td>2.26</td>\n      <td>625.0</td>\n      <td>1</td>\n    </tr>\n    <tr>\n      <th>97</th>\n      <td>12.29</td>\n      <td>1.41</td>\n      <td>1.98</td>\n      <td>16.0</td>\n      <td>85.0</td>\n      <td>2.55</td>\n      <td>2.50</td>\n      <td>0.29</td>\n      <td>1.77</td>\n      <td>2.90</td>\n      <td>1.23</td>\n      <td>2.74</td>\n      <td>428.0</td>\n      <td>1</td>\n    </tr>\n    <tr>\n      <th>98</th>\n      <td>12.37</td>\n      <td>1.07</td>\n      <td>2.10</td>\n      <td>18.5</td>\n      <td>88.0</td>\n      <td>3.52</td>\n      <td>3.75</td>\n      <td>0.24</td>\n      <td>1.95</td>\n      <td>4.50</td>\n      <td>1.04</td>\n      <td>2.77</td>\n      <td>660.0</td>\n      <td>1</td>\n    </tr>\n    <tr>\n      <th>99</th>\n      <td>12.29</td>\n      <td>3.17</td>\n      <td>2.21</td>\n      <td>18.0</td>\n      <td>88.0</td>\n      <td>2.85</td>\n      <td>2.99</td>\n      <td>0.45</td>\n      <td>2.81</td>\n      <td>2.30</td>\n      <td>1.42</td>\n      <td>2.83</td>\n      <td>406.0</td>\n      <td>1</td>\n    </tr>\n  </tbody>\n</table>\n<p>100 rows × 14 columns</p>\n</div>"
     },
     "execution_count": 32,
     "metadata": {},
     "output_type": "execute_result"
    }
   ],
   "source": [
    "df = pd.DataFrame(x, columns=dataset.feature_names)\n",
    "df[\"y\"] = y\n",
    "df.head(n=100)"
   ],
   "metadata": {
    "collapsed": false,
    "pycharm": {
     "name": "#%%\n"
    }
   }
  },
  {
   "cell_type": "markdown",
   "source": [
    "#### CART Classifier"
   ],
   "metadata": {
    "collapsed": false,
    "pycharm": {
     "name": "#%% md\n"
    }
   }
  },
  {
   "cell_type": "code",
   "execution_count": 33,
   "outputs": [
    {
     "name": "stdout",
     "output_type": "stream",
     "text": [
      "x_train shape: (124, 13), x_test shape: (54, 13)\n"
     ]
    },
    {
     "name": "stderr",
     "output_type": "stream",
     "text": [
      "/home/arthur/anaconda3/envs/sklearn-env/lib/python3.9/site-packages/sklearn/model_selection/_validation.py:372: FitFailedWarning: \n",
      "720 fits failed out of a total of 2160.\n",
      "The score on these train-test partitions for these parameters will be set to nan.\n",
      "If these failures are not expected, you can try to debug them by setting error_score='raise'.\n",
      "\n",
      "Below are more details about the failures:\n",
      "--------------------------------------------------------------------------------\n",
      "720 fits failed with the following error:\n",
      "Traceback (most recent call last):\n",
      "  File \"/home/arthur/anaconda3/envs/sklearn-env/lib/python3.9/site-packages/sklearn/model_selection/_validation.py\", line 680, in _fit_and_score\n",
      "    estimator.fit(X_train, y_train, **fit_params)\n",
      "  File \"/home/arthur/anaconda3/envs/sklearn-env/lib/python3.9/site-packages/sklearn/tree/_classes.py\", line 937, in fit\n",
      "    super().fit(\n",
      "  File \"/home/arthur/anaconda3/envs/sklearn-env/lib/python3.9/site-packages/sklearn/tree/_classes.py\", line 250, in fit\n",
      "    raise ValueError(\n",
      "ValueError: min_samples_split must be an integer greater than 1 or a float in (0.0, 1.0]; got the integer 1\n",
      "\n",
      "  warnings.warn(some_fits_failed_message, FitFailedWarning)\n",
      "/home/arthur/anaconda3/envs/sklearn-env/lib/python3.9/site-packages/sklearn/model_selection/_search.py:969: UserWarning: One or more of the test scores are non-finite: [       nan 0.89679487 0.87948718        nan 0.91858974 0.91153846\n",
      "        nan 0.89679487 0.9275641         nan 0.88076923 0.88141026\n",
      "        nan 0.90448718 0.88076923        nan 0.8724359  0.91089744\n",
      "        nan 0.80961538 0.82435897        nan 0.84679487 0.84679487\n",
      "        nan 0.82564103 0.79871795        nan 0.86410256 0.83717949\n",
      "        nan 0.8724359  0.82564103        nan 0.86410256 0.85448718\n",
      "        nan 0.88653846 0.89615385        nan 0.87884615 0.91282051\n",
      "        nan 0.88012821 0.90384615        nan 0.9025641  0.9275641\n",
      "        nan 0.88846154 0.91217949        nan 0.88076923 0.90064103\n",
      "        nan 0.86987179 0.91923077        nan 0.91282051 0.91153846\n",
      "        nan 0.90384615 0.8974359         nan 0.88205128 0.86346154\n",
      "        nan 0.89423077 0.91089744        nan 0.86282051 0.91025641\n",
      "        nan 0.89551282 0.89615385        nan 0.85384615 0.85576923\n",
      "        nan 0.89551282 0.88012821        nan 0.93525641 0.88846154\n",
      "        nan 0.88910256 0.88910256        nan 0.82435897 0.88782051\n",
      "        nan 0.9025641  0.92115385        nan 0.87051282 0.88076923\n",
      "        nan 0.90384615 0.91987179        nan 0.92051282 0.91025641\n",
      "        nan 0.88076923 0.88012821        nan 0.85576923 0.87115385\n",
      "        nan 0.91089744 0.93653846        nan 0.85448718 0.89551282\n",
      "        nan 0.88782051 0.91217949        nan 0.91089744 0.89358974\n",
      "        nan 0.88653846 0.87115385        nan 0.91217949 0.9275641\n",
      "        nan 0.84551282 0.8224359         nan 0.8474359  0.81730769\n",
      "        nan 0.76794872 0.84230769        nan 0.80512821 0.85576923\n",
      "        nan 0.78333333 0.84807692        nan 0.79038462 0.85\n",
      "        nan 0.86538462 0.90384615        nan 0.88076923 0.86410256\n",
      "        nan 0.91282051 0.89679487        nan 0.90384615 0.91089744\n",
      "        nan 0.91987179 0.9025641         nan 0.93782051 0.87115385\n",
      "        nan 0.93589744 0.92820513        nan 0.94358974 0.88589744\n",
      "        nan 0.87179487 0.91217949        nan 0.87051282 0.90512821\n",
      "        nan 0.90512821 0.90384615        nan 0.92692308 0.9275641\n",
      "        nan 0.91217949 0.91217949        nan 0.88782051 0.90384615\n",
      "        nan 0.87884615 0.91089744        nan 0.88589744 0.9025641\n",
      "        nan 0.89423077 0.88717949        nan 0.88012821 0.91987179\n",
      "        nan 0.93653846 0.91089744        nan 0.90384615 0.88012821\n",
      "        nan 0.94294872 0.92051282        nan 0.87820513 0.83974359\n",
      "        nan 0.89487179 0.87884615        nan 0.90320513 0.87051282]\n",
      "  warnings.warn(\n"
     ]
    },
    {
     "data": {
      "text/plain": "GridSearchCV(cv=10, estimator=DecisionTreeClassifier(), n_jobs=-1,\n             param_grid={'criterion': ['gini', 'entropy'],\n                         'max_depth': [None, 2, 4, 6, 8, 10],\n                         'max_features': ['auto', 'sqrt', 'log2'],\n                         'min_samples_leaf': [1, 2],\n                         'min_samples_split': [1, 2, 4]},\n             scoring='accuracy')"
     },
     "execution_count": 33,
     "metadata": {},
     "output_type": "execute_result"
    }
   ],
   "source": [
    "x_train, x_test, y_train, y_test = train_test_split(x, y, test_size=0.3)\n",
    "print(f\"x_train shape: {x_train.shape}, x_test shape: {x_test.shape}\")\n",
    "\n",
    "parameter = {\n",
    "    \"criterion\": [\"gini\", \"entropy\"],\n",
    "    \"max_depth\": [None, 2, 4, 6, 8, 10],\n",
    "    \"min_samples_split\": [1, 2, 4],\n",
    "    \"min_samples_leaf\": [1, 2],\n",
    "    \"max_features\": [\"auto\", \"sqrt\", \"log2\"]\n",
    "}\n",
    "\n",
    "cv = GridSearchCV(DecisionTreeClassifier(), param_grid=parameter, scoring=\"accuracy\", cv=10, n_jobs=-1)\n",
    "cv.fit(x_train, y_train)"
   ],
   "metadata": {
    "collapsed": false,
    "pycharm": {
     "name": "#%%\n"
    }
   }
  },
  {
   "cell_type": "code",
   "execution_count": 34,
   "outputs": [
    {
     "name": "stdout",
     "output_type": "stream",
     "text": [
      "best params: {'criterion': 'entropy', 'max_depth': 6, 'max_features': 'auto', 'min_samples_leaf': 2, 'min_samples_split': 2}\n",
      "best params score: 0.9435897435897436\n"
     ]
    }
   ],
   "source": [
    "print(f\"best params: {cv.best_params_}\")\n",
    "print(f\"best params score: {cv.best_score_}\")"
   ],
   "metadata": {
    "collapsed": false,
    "pycharm": {
     "name": "#%%\n"
    }
   }
  },
  {
   "cell_type": "code",
   "execution_count": 35,
   "outputs": [
    {
     "name": "stdout",
     "output_type": "stream",
     "text": [
      "score: 87.04%\n"
     ]
    },
    {
     "data": {
      "text/plain": "[Text(0.4666666666666667, 0.9166666666666666, 'X[11] <= 2.19\\nentropy = 1.567\\nsamples = 124\\nvalue = [40, 50, 34]'),\n Text(0.2, 0.75, 'X[3] <= 17.15\\nentropy = 0.61\\nsamples = 40\\nvalue = [0, 6, 34]'),\n Text(0.13333333333333333, 0.5833333333333334, 'entropy = 0.0\\nsamples = 3\\nvalue = [0, 3, 0]'),\n Text(0.26666666666666666, 0.5833333333333334, 'X[1] <= 1.755\\nentropy = 0.406\\nsamples = 37\\nvalue = [0, 3, 34]'),\n Text(0.13333333333333333, 0.4166666666666667, 'X[3] <= 19.2\\nentropy = 1.0\\nsamples = 4\\nvalue = [0, 2, 2]'),\n Text(0.06666666666666667, 0.25, 'entropy = 0.0\\nsamples = 2\\nvalue = [0, 0, 2]'),\n Text(0.2, 0.25, 'entropy = 0.0\\nsamples = 2\\nvalue = [0, 2, 0]'),\n Text(0.4, 0.4166666666666667, 'X[1] <= 3.845\\nentropy = 0.196\\nsamples = 33\\nvalue = [0, 1, 32]'),\n Text(0.3333333333333333, 0.25, 'entropy = 0.0\\nsamples = 21\\nvalue = [0, 0, 21]'),\n Text(0.4666666666666667, 0.25, 'X[10] <= 0.765\\nentropy = 0.414\\nsamples = 12\\nvalue = [0, 1, 11]'),\n Text(0.4, 0.08333333333333333, 'entropy = 0.0\\nsamples = 10\\nvalue = [0, 0, 10]'),\n Text(0.5333333333333333, 0.08333333333333333, 'entropy = 1.0\\nsamples = 2\\nvalue = [0, 1, 1]'),\n Text(0.7333333333333333, 0.75, 'X[12] <= 726.5\\nentropy = 0.998\\nsamples = 84\\nvalue = [40, 44, 0]'),\n Text(0.6, 0.5833333333333334, 'X[1] <= 3.925\\nentropy = 0.165\\nsamples = 41\\nvalue = [1, 40, 0]'),\n Text(0.5333333333333333, 0.4166666666666667, 'entropy = 0.0\\nsamples = 37\\nvalue = [0, 37, 0]'),\n Text(0.6666666666666666, 0.4166666666666667, 'X[3] <= 21.25\\nentropy = 0.811\\nsamples = 4\\nvalue = [1, 3, 0]'),\n Text(0.6, 0.25, 'entropy = 1.0\\nsamples = 2\\nvalue = [1, 1, 0]'),\n Text(0.7333333333333333, 0.25, 'entropy = 0.0\\nsamples = 2\\nvalue = [0, 2, 0]'),\n Text(0.8666666666666667, 0.5833333333333334, 'X[9] <= 3.49\\nentropy = 0.446\\nsamples = 43\\nvalue = [39, 4, 0]'),\n Text(0.8, 0.4166666666666667, 'entropy = 0.0\\nsamples = 4\\nvalue = [0, 4, 0]'),\n Text(0.9333333333333333, 0.4166666666666667, 'entropy = 0.0\\nsamples = 39\\nvalue = [39, 0, 0]')]"
     },
     "execution_count": 35,
     "metadata": {},
     "output_type": "execute_result"
    },
    {
     "data": {
      "text/plain": "<Figure size 432x288 with 1 Axes>",
      "image/png": "[encoded data removed]"
     },
     "metadata": {
      "needs_background": "light"
     },
     "output_type": "display_data"
    }
   ],
   "source": [
    "clf = DecisionTreeClassifier(criterion=cv.best_params_[\"criterion\"], max_depth=cv.best_params_[\"max_depth\"], min_samples_split=cv.best_params_[\"min_samples_split\"], min_samples_leaf=cv.best_params_[\"min_samples_leaf\"], max_features=cv.best_params_[\"max_features\"])\n",
    "clf.fit(x_train, y_train)\n",
    "\n",
    "score = clf.score(x_test, y_test)\n",
    "print(f\"score: {score*100:.4}%\")\n",
    "\n",
    "plot_tree(clf)"
   ],
   "metadata": {
    "collapsed": false,
    "pycharm": {
     "name": "#%%\n"
    }
   }
  }
 ],
 "metadata": {
  "kernelspec": {
   "display_name": "Python 3",
   "language": "python",
   "name": "python3"
  },
  "language_info": {
   "codemirror_mode": {
    "name": "ipython",
    "version": 2
   },
   "file_extension": ".py",
   "mimetype": "text/x-python",
   "name": "python",
   "nbconvert_exporter": "python",
   "pygments_lexer": "ipython2",
   "version": "2.7.6"
  }
 },
 "nbformat": 4,
 "nbformat_minor": 0
}