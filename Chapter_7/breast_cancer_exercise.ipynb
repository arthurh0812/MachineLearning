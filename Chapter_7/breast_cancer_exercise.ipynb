{
 "cells": [
  {
   "cell_type": "code",
   "execution_count": 370,
   "outputs": [],
   "source": [
    "import numpy as np\n",
    "np.random.seed(42)\n",
    "from sklearn.datasets import load_breast_cancer\n",
    "from sklearn.preprocessing import StandardScaler\n",
    "from sklearn.decomposition import PCA\n",
    "from sklearn.model_selection import train_test_split, cross_val_score\n",
    "from sklearn.neighbors import KNeighborsClassifier\n",
    "from matplotlib import pyplot as plt"
   ],
   "metadata": {
    "collapsed": false,
    "pycharm": {
     "name": "#%%\n"
    }
   }
  },
  {
   "cell_type": "code",
   "execution_count": 371,
   "outputs": [],
   "source": [
    "dataset = load_breast_cancer()\n",
    "\n",
    "X = dataset.data\n",
    "y = dataset.target\n",
    "\n",
    "scaler = StandardScaler()\n",
    "scaler.fit(X)\n",
    "x_scaled = scaler.transform(X)"
   ],
   "metadata": {
    "collapsed": false,
    "pycharm": {
     "name": "#%%\n"
    }
   }
  },
  {
   "cell_type": "markdown",
   "source": [
    "#### Exercise 1: Find the number of components to explain 90% of the variance and apply it to the scaled dataset, in order to get a reduced dataset"
   ],
   "metadata": {
    "collapsed": false,
    "pycharm": {
     "name": "#%% md\n"
    }
   }
  },
  {
   "cell_type": "code",
   "execution_count": 372,
   "outputs": [
    {
     "name": "stdout",
     "output_type": "stream",
     "text": [
      "7\n",
      "[[ 9.19283683  1.94858307 -1.12316616 ... -1.19511012  1.41142444\n",
      "   2.15936904]\n",
      " [ 2.3878018  -3.76817174 -0.52929269 ...  0.62177498  0.02865631\n",
      "   0.01335786]\n",
      " [ 5.73389628 -1.0751738  -0.55174759 ... -0.1770859   0.5414521\n",
      "  -0.66816696]\n",
      " ...\n",
      " [ 1.25617928 -1.90229671  0.56273053 ...  1.80999133 -0.53444725\n",
      "  -0.19275929]\n",
      " [10.37479406  1.67201011 -1.87702933 ... -0.03374193  0.56793642\n",
      "   0.22307965]\n",
      " [-5.4752433  -0.67063679  1.49044308 ... -0.18470331  1.61783734\n",
      "   1.69895095]]\n"
     ]
    }
   ],
   "source": [
    "n_components = 1\n",
    "x_reduced = np.array([])\n",
    "required_explained_variance = 90/100 # = 90%\n",
    "for n in range(1, 10):\n",
    "    pca = PCA(n_components=n, copy=True)\n",
    "    pca.fit(x_scaled)\n",
    "    if sum(pca.explained_variance_ratio_) >= required_explained_variance:\n",
    "        n_components = n\n",
    "        x_reduced = pca.transform(x_scaled)\n",
    "        break\n",
    "\n",
    "print(n_components)\n",
    "print(x_reduced)"
   ],
   "metadata": {
    "collapsed": false,
    "pycharm": {
     "name": "#%%\n"
    }
   }
  },
  {
   "cell_type": "markdown",
   "source": [
    "#### Exercise 3: Split the reduced dataset into a training and a testing dataset"
   ],
   "metadata": {
    "collapsed": false,
    "pycharm": {
     "name": "#%% md\n"
    }
   }
  },
  {
   "cell_type": "code",
   "execution_count": 373,
   "outputs": [],
   "source": [
    "x_train, x_test, y_train, y_test = train_test_split(x_reduced, y, test_size=0.3)"
   ],
   "metadata": {
    "collapsed": false,
    "pycharm": {
     "name": "#%%\n"
    }
   }
  },
  {
   "cell_type": "markdown",
   "source": [
    "#### Exercise 4: Apply the K-Nearest-Neighbors Classifier to the reduced dataset"
   ],
   "metadata": {
    "collapsed": false,
    "pycharm": {
     "name": "#%% md\n"
    }
   }
  },
  {
   "cell_type": "code",
   "execution_count": 374,
   "outputs": [],
   "source": [
    "n_neighbors = 1\n",
    "for n in range(1, 10):\n",
    "    clf = KNeighborsClassifier(n_neighbors=n)\n",
    "    clf.fit(x_train, y_train)\n",
    "\n",
    "    score = clf.score(x_test, y_test)\n",
    "    if 0.9 <= score <= 0.95:\n",
    "        n_neighbors = n\n",
    "        break\n",
    "    if n == 9 and n_neighbors == 1: # last case (default)\n",
    "        n_neighbors = 3\n",
    "        break"
   ],
   "metadata": {
    "collapsed": false,
    "pycharm": {
     "name": "#%%\n"
    }
   }
  },
  {
   "cell_type": "markdown",
   "source": [
    "#### Exercise 4.a: Plot the result"
   ],
   "metadata": {
    "collapsed": false,
    "pycharm": {
     "name": "#%% md\n"
    }
   }
  },
  {
   "cell_type": "code",
   "execution_count": 375,
   "outputs": [],
   "source": [
    "def plot_dataset(\n",
    "        x_train: np.ndarray,\n",
    "        y_train: np.ndarray,\n",
    "        x_test: np.ndarray,\n",
    "        y_test: np.ndarray,\n",
    "        n_neighbors: int,\n",
    "        n_components: int\n",
    "):\n",
    "    colors = [\"red\", \"blue\"]\n",
    "    for index, point in enumerate(x_test):\n",
    "        clf = KNeighborsClassifier(n_neighbors=n_neighbors)\n",
    "        clf.fit(x_train, y_train)\n",
    "        y_pred = clf.predict(x_test)\n",
    "        score = clf.score(x_test, y_test)\n",
    "\n",
    "        is_accurate = y_pred[index] == y_test[index]\n",
    "        if is_accurate:\n",
    "            plt.scatter(point[0], point[1], color=colors[y_pred[index]])\n",
    "        else:\n",
    "            plt.scatter(point[0], point[1], color=colors[y_pred[index]], marker=\"*\")\n",
    "        plt.title(f\"Score: {score*100:.4}%, Dimensions: {n_components} Neighbors: {n_neighbors}\")\n",
    "    plt.show()"
   ],
   "metadata": {
    "collapsed": false,
    "pycharm": {
     "name": "#%%\n"
    }
   }
  },
  {
   "cell_type": "code",
   "execution_count": 376,
   "outputs": [
    {
     "data": {
      "text/plain": "<Figure size 432x288 with 1 Axes>",
      "image/png": "[encoded data removed]"
     },
     "metadata": {
      "needs_background": "light"
     },
     "output_type": "display_data"
    }
   ],
   "source": [
    "plot_dataset(x_train, y_train, x_test, y_test, n_neighbors, n_components)"
   ],
   "metadata": {
    "collapsed": false,
    "pycharm": {
     "name": "#%%\n"
    }
   }
  },
  {
   "cell_type": "markdown",
   "source": [
    "#### Exercise 5: Apply the K-Nearest-Neighbor Classifier to the scaled dataset"
   ],
   "metadata": {
    "collapsed": false,
    "pycharm": {
     "name": "#%% md\n"
    }
   }
  },
  {
   "cell_type": "code",
   "execution_count": 377,
   "outputs": [],
   "source": [
    "x_train, x_test, y_train, y_test = train_test_split(x_scaled, y, test_size=0.3)"
   ],
   "metadata": {
    "collapsed": false,
    "pycharm": {
     "name": "#%%\n"
    }
   }
  },
  {
   "cell_type": "code",
   "execution_count": 378,
   "outputs": [],
   "source": [
    "n_neighbors = 1\n",
    "for n in range(1, 10):\n",
    "    clf = KNeighborsClassifier(n)\n",
    "    clf.fit(x_train, y_train)\n",
    "\n",
    "    score = clf.score(x_test, y_test)\n",
    "    if 0.9 <= score <= 0.95:\n",
    "        n_neighbors = n\n",
    "        break\n",
    "    if n == 9 and n_neighbors == 1:\n",
    "        n_neighbors = 3\n",
    "        break"
   ],
   "metadata": {
    "collapsed": false,
    "pycharm": {
     "name": "#%%\n"
    }
   }
  },
  {
   "cell_type": "code",
   "execution_count": 379,
   "outputs": [
    {
     "data": {
      "text/plain": "<Figure size 432x288 with 1 Axes>",
      "image/png": "[encoded data removed]"
     },
     "metadata": {
      "needs_background": "light"
     },
     "output_type": "display_data"
    }
   ],
   "source": [
    "plot_dataset(x_train, y_train, x_test, y_test, n_neighbors, n_components)"
   ],
   "metadata": {
    "collapsed": false,
    "pycharm": {
     "name": "#%%\n"
    }
   }
  }
 ],
 "metadata": {
  "kernelspec": {
   "display_name": "Python 3",
   "language": "python",
   "name": "python3"
  },
  "language_info": {
   "codemirror_mode": {
    "name": "ipython",
    "version": 2
   },
   "file_extension": ".py",
   "mimetype": "text/x-python",
   "name": "python",
   "nbconvert_exporter": "python",
   "pygments_lexer": "ipython2",
   "version": "2.7.6"
  }
 },
 "nbformat": 4,
 "nbformat_minor": 0
}