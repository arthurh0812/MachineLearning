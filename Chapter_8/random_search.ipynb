{
 "cells": [
  {
   "cell_type": "code",
   "execution_count": 110,
   "metadata": {
    "collapsed": true,
    "pycharm": {
     "name": "#%%\n"
    }
   },
   "outputs": [],
   "source": [
    "import numpy as np\n",
    "np.random.seed(42)\n",
    "from sklearn.neighbors import KNeighborsClassifier\n",
    "from sklearn.model_selection import train_test_split\n",
    "from sklearn.datasets import load_breast_cancer"
   ]
  },
  {
   "cell_type": "code",
   "execution_count": 111,
   "outputs": [
    {
     "name": "stdout",
     "output_type": "stream",
     "text": [
      "x_train shape: (398, 30) x_test shape: (171, 30)\n"
     ]
    }
   ],
   "source": [
    "dataset = load_breast_cancer()\n",
    "x = dataset.data\n",
    "y = dataset.target\n",
    "\n",
    "x_train, x_test, y_train, y_test = train_test_split(x, y, test_size=0.3)\n",
    "print(f\"x_train shape: {x_train.shape} x_test shape: {x_test.shape}\")"
   ],
   "metadata": {
    "collapsed": false,
    "pycharm": {
     "name": "#%%\n"
    }
   }
  },
  {
   "cell_type": "markdown",
   "source": [
    "#### Random Search"
   ],
   "metadata": {
    "collapsed": false,
    "pycharm": {
     "name": "#%% md\n"
    }
   }
  },
  {
   "cell_type": "code",
   "execution_count": 112,
   "outputs": [
    {
     "data": {
      "text/plain": "RandomizedSearchCV(cv=KFold(n_splits=10, random_state=None, shuffle=True),\n                   estimator=KNeighborsClassifier(), n_iter=20,\n                   param_distributions={'n_neighbors': <scipy.stats._distn_infrastructure.rv_frozen object at 0x7fa7064b1c40>,\n                                        'weights': ['uniform', 'distance']})"
     },
     "execution_count": 112,
     "metadata": {},
     "output_type": "execute_result"
    }
   ],
   "source": [
    "from sklearn.model_selection import RandomizedSearchCV, KFold\n",
    "from scipy.stats import randint as rand_generator\n",
    "\n",
    "params = {\n",
    "    \"n_neighbors\": rand_generator(1, 15),\n",
    "    \"weights\": [\"uniform\", \"distance\"],\n",
    "}\n",
    "kf = KFold(n_splits=10, shuffle=True)\n",
    "\n",
    "clf = KNeighborsClassifier()\n",
    "cv = RandomizedSearchCV(clf, params, n_iter=20, cv=kf)\n",
    "cv.fit(x_train, y_train)"
   ],
   "metadata": {
    "collapsed": false,
    "pycharm": {
     "name": "#%%\n"
    }
   }
  },
  {
   "cell_type": "code",
   "execution_count": 113,
   "outputs": [
    {
     "name": "stdout",
     "output_type": "stream",
     "text": [
      "Random Search keys: dict_keys(['mean_fit_time', 'std_fit_time', 'mean_score_time', 'std_score_time', 'param_n_neighbors', 'param_weights', 'params', 'split0_test_score', 'split1_test_score', 'split2_test_score', 'split3_test_score', 'split4_test_score', 'split5_test_score', 'split6_test_score', 'split7_test_score', 'split8_test_score', 'split9_test_score', 'mean_test_score', 'std_test_score', 'rank_test_score'])\n",
      "\tmean_fit_time\n",
      "\tstd_fit_time\n",
      "\tmean_score_time\n",
      "\tstd_score_time\n",
      "\tparam_n_neighbors\n",
      "\tparam_weights\n",
      "\tparams\n",
      "\tsplit0_test_score\n",
      "\tsplit1_test_score\n",
      "\tsplit2_test_score\n",
      "\tsplit3_test_score\n",
      "\tsplit4_test_score\n",
      "\tsplit5_test_score\n",
      "\tsplit6_test_score\n",
      "\tsplit7_test_score\n",
      "\tsplit8_test_score\n",
      "\tsplit9_test_score\n",
      "\tmean_test_score\n",
      "\tstd_test_score\n",
      "\trank_test_score\n"
     ]
    }
   ],
   "source": [
    "print(f\"Random Search keys: {cv.cv_results_.keys()}\")\n",
    "for key in cv.cv_results_.keys():\n",
    "    print(f\"\\t{key}\")"
   ],
   "metadata": {
    "collapsed": false,
    "pycharm": {
     "name": "#%%\n"
    }
   }
  },
  {
   "cell_type": "code",
   "execution_count": 114,
   "outputs": [
    {
     "name": "stdout",
     "output_type": "stream",
     "text": [
      "Random Search params: [{'n_neighbors': 9, 'weights': 'uniform'}, {'n_neighbors': 12, 'weights': 'distance'}, {'n_neighbors': 4, 'weights': 'uniform'}, {'n_neighbors': 10, 'weights': 'uniform'}, {'n_neighbors': 5, 'weights': 'uniform'}, {'n_neighbors': 3, 'weights': 'distance'}, {'n_neighbors': 9, 'weights': 'distance'}, {'n_neighbors': 11, 'weights': 'uniform'}, {'n_neighbors': 4, 'weights': 'uniform'}, {'n_neighbors': 7, 'weights': 'distance'}, {'n_neighbors': 9, 'weights': 'uniform'}, {'n_neighbors': 13, 'weights': 'uniform'}, {'n_neighbors': 10, 'weights': 'distance'}, {'n_neighbors': 7, 'weights': 'distance'}, {'n_neighbors': 10, 'weights': 'uniform'}, {'n_neighbors': 3, 'weights': 'uniform'}, {'n_neighbors': 13, 'weights': 'uniform'}, {'n_neighbors': 11, 'weights': 'distance'}, {'n_neighbors': 12, 'weights': 'uniform'}, {'n_neighbors': 10, 'weights': 'distance'}]\n"
     ]
    }
   ],
   "source": [
    "print(f\"Random Search params: {cv.cv_results_.get('params')}\")"
   ],
   "metadata": {
    "collapsed": false,
    "pycharm": {
     "name": "#%%\n"
    }
   }
  },
  {
   "cell_type": "code",
   "execution_count": 115,
   "outputs": [
    {
     "name": "stdout",
     "output_type": "stream",
     "text": [
      "Best params: {'n_neighbors': 12, 'weights': 'uniform'}\n"
     ]
    }
   ],
   "source": [
    "print(f\"Best params: {cv.best_params_}\")"
   ],
   "metadata": {
    "collapsed": false,
    "pycharm": {
     "name": "#%%\n"
    }
   }
  },
  {
   "cell_type": "markdown",
   "source": [
    "#### Display all Random Hyper-Parameter combinations and their evaluation"
   ],
   "metadata": {
    "collapsed": false,
    "pycharm": {
     "name": "#%% md\n"
    }
   }
  },
  {
   "cell_type": "code",
   "execution_count": 116,
   "outputs": [
    {
     "name": "stdout",
     "output_type": "stream",
     "text": [
      "91.0% (+/-4.62%) for {'n_neighbors': 9, 'weights': 'uniform'}\n",
      "91.5% (+/-4.2%) for {'n_neighbors': 12, 'weights': 'distance'}\n",
      "91.0% (+/-3.59%) for {'n_neighbors': 4, 'weights': 'uniform'}\n",
      "91.2% (+/-3.92%) for {'n_neighbors': 10, 'weights': 'uniform'}\n",
      "90.7% (+/-3.9%) for {'n_neighbors': 5, 'weights': 'uniform'}\n",
      "90.2% (+/-4.43%) for {'n_neighbors': 3, 'weights': 'distance'}\n",
      "91.0% (+/-4.63%) for {'n_neighbors': 9, 'weights': 'distance'}\n",
      "91.0% (+/-4.5%) for {'n_neighbors': 11, 'weights': 'uniform'}\n",
      "91.0% (+/-3.59%) for {'n_neighbors': 4, 'weights': 'uniform'}\n",
      "91.2% (+/-3.91%) for {'n_neighbors': 7, 'weights': 'distance'}\n",
      "91.0% (+/-4.62%) for {'n_neighbors': 9, 'weights': 'uniform'}\n",
      "91.2% (+/-4.63%) for {'n_neighbors': 13, 'weights': 'uniform'}\n",
      "90.9% (+/-4.23%) for {'n_neighbors': 10, 'weights': 'distance'}\n",
      "91.2% (+/-3.91%) for {'n_neighbors': 7, 'weights': 'distance'}\n",
      "91.2% (+/-3.92%) for {'n_neighbors': 10, 'weights': 'uniform'}\n",
      "90.2% (+/-4.26%) for {'n_neighbors': 3, 'weights': 'uniform'}\n",
      "91.2% (+/-4.63%) for {'n_neighbors': 13, 'weights': 'uniform'}\n",
      "90.9% (+/-4.38%) for {'n_neighbors': 11, 'weights': 'distance'}\n",
      "91.7% (+/-3.87%) for {'n_neighbors': 12, 'weights': 'uniform'}\n",
      "90.9% (+/-4.23%) for {'n_neighbors': 10, 'weights': 'distance'}\n"
     ]
    }
   ],
   "source": [
    "mean_score = cv.cv_results_.get(\"mean_test_score\")\n",
    "std_score = cv.cv_results_.get(\"std_test_score\")\n",
    "params = cv.cv_results_.get(\"params\")\n",
    "\n",
    "for mean, std, prm in zip(mean_score, std_score, params):\n",
    "    print(f\"{mean*100:.3}% (+/-{std*100:.3}%) for {prm}\")"
   ],
   "metadata": {
    "collapsed": false,
    "pycharm": {
     "name": "#%%\n"
    }
   }
  },
  {
   "cell_type": "markdown",
   "source": [
    "#### Train the Best Found Model"
   ],
   "metadata": {
    "collapsed": false,
    "pycharm": {
     "name": "#%% md\n"
    }
   }
  },
  {
   "cell_type": "code",
   "execution_count": 117,
   "outputs": [
    {
     "name": "stdout",
     "output_type": "stream",
     "text": [
      "best model score: 97.66%\n"
     ]
    }
   ],
   "source": [
    "n, w = (cv.best_params_[k] for k in [\"n_neighbors\", \"weights\"])\n",
    "clf = KNeighborsClassifier(n_neighbors=n, weights=w)\n",
    "clf.fit(x_train, y_train)\n",
    "\n",
    "score = clf.score(x_test, y_test)\n",
    "print(f\"best model score: {score*100:.4}%\")"
   ],
   "metadata": {
    "collapsed": false,
    "pycharm": {
     "name": "#%%\n"
    }
   }
  }
 ],
 "metadata": {
  "kernelspec": {
   "display_name": "Python 3",
   "language": "python",
   "name": "python3"
  },
  "language_info": {
   "codemirror_mode": {
    "name": "ipython",
    "version": 2
   },
   "file_extension": ".py",
   "mimetype": "text/x-python",
   "name": "python",
   "nbconvert_exporter": "python",
   "pygments_lexer": "ipython2",
   "version": "2.7.6"
  }
 },
 "nbformat": 4,
 "nbformat_minor": 0
}