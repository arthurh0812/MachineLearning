{
 "cells": [
  {
   "cell_type": "code",
   "execution_count": 146,
   "metadata": {
    "collapsed": true,
    "pycharm": {
     "name": "#%%\n"
    }
   },
   "outputs": [],
   "source": [
    "import numpy as np\n",
    "np.random.seed(0)"
   ]
  },
  {
   "cell_type": "code",
   "execution_count": 147,
   "outputs": [],
   "source": [
    "from sklearn.linear_model import LinearRegression\n",
    "from sklearn.model_selection import train_test_split\n",
    "from sklearn.datasets import load_diabetes"
   ],
   "metadata": {
    "collapsed": false,
    "pycharm": {
     "name": "#%%\n"
    }
   }
  },
  {
   "cell_type": "code",
   "execution_count": 148,
   "outputs": [],
   "source": [
    "dataset = load_diabetes()\n",
    "x = dataset.data\n",
    "y = dataset.target\n",
    "\n",
    "x_train, x_test, y_train, y_test = train_test_split(x, y, test_size=0.4)"
   ],
   "metadata": {
    "collapsed": false,
    "pycharm": {
     "name": "#%%\n"
    }
   }
  },
  {
   "cell_type": "code",
   "execution_count": 149,
   "outputs": [],
   "source": [
    "reg = LinearRegression()\n",
    "reg.fit(x_train, y_train)\n",
    "\n",
    "y_pred = reg.predict(x_test)\n",
    "y_true = y_test\n",
    "\n",
    "# print(f\"y diff : {[np.abs(y_true[i] - y_pred[i]) for i in range(y_test.size)]}\")"
   ],
   "metadata": {
    "collapsed": false,
    "pycharm": {
     "name": "#%%\n"
    }
   }
  },
  {
   "cell_type": "code",
   "execution_count": 150,
   "outputs": [],
   "source": [
    "def r2_score(y_true: np.ndarray, y_pred: np.ndarray) -> float:\n",
    "    n = y_true.size\n",
    "    mean = np.mean(y_true)\n",
    "    sumResiduals = np.sum([(y_true[i] - y_pred[i])**2 for i in range(n)])\n",
    "    totalSum = np.sum([(y_true[i] - mean)**2 for i in range(n)])\n",
    "    return 1.0 - sumResiduals/totalSum"
   ],
   "metadata": {
    "collapsed": false,
    "pycharm": {
     "name": "#%%\n"
    }
   }
  },
  {
   "cell_type": "code",
   "execution_count": 151,
   "outputs": [],
   "source": [
    "def mape(y_true: np.ndarray, y_pred: np.ndarray) -> float:\n",
    "    n = y_true.size\n",
    "    meanError = np.mean([np.abs((y_true[i] - y_pred[i]) / y_true[i]) for i in range(n)])\n",
    "    return 100.0 * meanError"
   ],
   "metadata": {
    "collapsed": false,
    "pycharm": {
     "name": "#%%\n"
    }
   }
  },
  {
   "cell_type": "code",
   "execution_count": 152,
   "outputs": [
    {
     "name": "stdout",
     "output_type": "stream",
     "text": [
      "R2: 38.65%\n",
      "R2: 38.65%\n",
      "MAPE: 42.07%\n"
     ]
    }
   ],
   "source": [
    "print(f\"R2: {r2_score(y_true, y_pred)*100:.4}%\")\n",
    "print(f\"R2: {reg.score(x_test, y_test)*100:.4}%\")\n",
    "print(f\"MAPE: {mape(y_true, y_pred):.4}%\")"
   ],
   "metadata": {
    "collapsed": false,
    "pycharm": {
     "name": "#%%\n"
    }
   }
  },
  {
   "cell_type": "code",
   "execution_count": 153,
   "outputs": [
    {
     "data": {
      "text/plain": "0.16004689754689755"
     },
     "execution_count": 153,
     "metadata": {},
     "output_type": "execute_result"
    }
   ],
   "source": [
    "diffs = [0.1/1.6, 0.2/2.2, 0.1/0.4, 0.4/1.4, 0.3/2.7]\n",
    "np.mean(diffs)"
   ],
   "metadata": {
    "collapsed": false,
    "pycharm": {
     "name": "#%%\n"
    }
   }
  }
 ],
 "metadata": {
  "kernelspec": {
   "display_name": "Python 3",
   "language": "python",
   "name": "python3"
  },
  "language_info": {
   "codemirror_mode": {
    "name": "ipython",
    "version": 2
   },
   "file_extension": ".py",
   "mimetype": "text/x-python",
   "name": "python",
   "nbconvert_exporter": "python",
   "pygments_lexer": "ipython2",
   "version": "2.7.6"
  }
 },
 "nbformat": 4,
 "nbformat_minor": 0
}