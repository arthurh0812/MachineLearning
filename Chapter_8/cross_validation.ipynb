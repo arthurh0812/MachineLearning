{
 "cells": [
  {
   "cell_type": "code",
   "execution_count": 9,
   "metadata": {
    "collapsed": true,
    "pycharm": {
     "name": "#%%\n"
    }
   },
   "outputs": [],
   "source": [
    "import numpy as np\n",
    "np.random.seed(0)\n",
    "from matplotlib import pyplot as plt\n",
    "from sklearn.neighbors import KNeighborsClassifier\n",
    "from sklearn.model_selection import train_test_split\n",
    "from sklearn.datasets import load_breast_cancer"
   ]
  },
  {
   "cell_type": "code",
   "execution_count": 10,
   "outputs": [
    {
     "name": "stdout",
     "output_type": "stream",
     "text": [
      "x_train shape: (398, 30), x_test shape: (171, 30)\n"
     ]
    }
   ],
   "source": [
    "dataset = load_breast_cancer()\n",
    "x = dataset.data\n",
    "y = dataset.target\n",
    "\n",
    "x_train, x_test, y_train, y_test = train_test_split(x, y, test_size=0.3)\n",
    "print(f\"x_train shape: {x_train.shape}, x_test shape: {x_test.shape}\")"
   ],
   "metadata": {
    "collapsed": false,
    "pycharm": {
     "name": "#%%\n"
    }
   }
  },
  {
   "cell_type": "markdown",
   "source": [
    "#### Visualizing Cross-Validation"
   ],
   "metadata": {
    "collapsed": false,
    "pycharm": {
     "name": "#%% md\n"
    }
   }
  },
  {
   "cell_type": "code",
   "execution_count": 11,
   "outputs": [],
   "source": [
    "def plot_cross_validation(scores: np.ndarray, mean_score: float):\n",
    "    scores_percent = scores*100\n",
    "    mean_score_percent = mean_score*100\n",
    "    plt.plot(range(1, len(scores)+1), scores_percent, color=\"red\")\n",
    "    plt.scatter(range(1, len(scores)+1), scores_percent, color=\"red\", marker=\"*\")\n",
    "    plt.xlim(1, len(scores))\n",
    "    plt.ylim(85, 100)\n",
    "    plt.ylabel(\"accuracy (%)\")\n",
    "    plt.xlabel(\"fold\")\n",
    "    plt.axhline(mean_score_percent, color=\"blue\")\n",
    "    plt.legend([\"Connection of Scores\", \"Validation Scores\", \"Mean Score\"])\n",
    "    plt.show()"
   ],
   "metadata": {
    "collapsed": false,
    "pycharm": {
     "name": "#%%\n"
    }
   }
  },
  {
   "cell_type": "markdown",
   "source": [
    "#### Cross-Validation"
   ],
   "metadata": {
    "collapsed": false,
    "pycharm": {
     "name": "#%% md\n"
    }
   }
  },
  {
   "cell_type": "code",
   "execution_count": 12,
   "outputs": [],
   "source": [
    "from sklearn.model_selection import KFold\n",
    "from sklearn.model_selection import cross_val_score\n",
    "from sklearn.model_selection import cross_val_predict"
   ],
   "metadata": {
    "collapsed": false,
    "pycharm": {
     "name": "#%%\n"
    }
   }
  },
  {
   "cell_type": "code",
   "execution_count": 13,
   "outputs": [
    {
     "name": "stdout",
     "output_type": "stream",
     "text": [
      "accuraries: [0.9375     0.9375     0.95       0.89873418 0.88607595]\n",
      "mean score: 92.2%\n",
      "std deviation score: 2.489%\n"
     ]
    }
   ],
   "source": [
    "kf = KFold(n_splits=5, shuffle=True)\n",
    "clf = KNeighborsClassifier(n_neighbors=4)\n",
    "\n",
    "scores = cross_val_score(clf, X=x_train, y=y_train, cv=kf, n_jobs=-1)\n",
    "predictions = cross_val_predict(clf, X=x_train, y=y_train, cv=kf, n_jobs=-1)\n",
    "mean_score = np.mean(scores)\n",
    "std_score = np.std(scores)\n",
    "\n",
    "print(f\"accuraries: {scores}\")\n",
    "print(f\"mean score: {mean_score*100:.4}%\")\n",
    "print(f\"std deviation score: {std_score*100:.4}%\")"
   ],
   "metadata": {
    "collapsed": false,
    "pycharm": {
     "name": "#%%\n"
    }
   }
  },
  {
   "cell_type": "code",
   "execution_count": 14,
   "outputs": [
    {
     "data": {
      "text/plain": "<Figure size 432x288 with 1 Axes>",
      "image/png": "[encoded data removed]"
     },
     "metadata": {
      "needs_background": "light"
     },
     "output_type": "display_data"
    }
   ],
   "source": [
    "plot_cross_validation(scores, mean_score)"
   ],
   "metadata": {
    "collapsed": false,
    "pycharm": {
     "name": "#%%\n"
    }
   }
  },
  {
   "cell_type": "code",
   "execution_count": 15,
   "outputs": [
    {
     "name": "stdout",
     "output_type": "stream",
     "text": [
      "accuraries: [0.91729323 0.91729323 0.93939394]\n",
      "mean score: 92.47%\n",
      "std deviation score: 1.042%\n"
     ]
    }
   ],
   "source": [
    "kf = KFold(n_splits=3, shuffle=True)\n",
    "clf = KNeighborsClassifier(n_neighbors=4)\n",
    "\n",
    "scores = cross_val_score(clf, X=x_train, y=y_train, cv=kf, n_jobs=-1)\n",
    "predictions = cross_val_predict(clf, X=x_train, y=y_train, cv=kf, n_jobs=-1)\n",
    "mean_score = np.mean(scores)\n",
    "std_score = np.std(scores)\n",
    "\n",
    "print(f\"accuraries: {scores}\")\n",
    "print(f\"mean score: {mean_score*100:.4}%\")\n",
    "print(f\"std deviation score: {std_score*100:.4}%\")"
   ],
   "metadata": {
    "collapsed": false,
    "pycharm": {
     "name": "#%%\n"
    }
   }
  },
  {
   "cell_type": "code",
   "execution_count": 16,
   "outputs": [
    {
     "data": {
      "text/plain": "<Figure size 432x288 with 1 Axes>",
      "image/png": "[encoded data removed]"
     },
     "metadata": {
      "needs_background": "light"
     },
     "output_type": "display_data"
    }
   ],
   "source": [
    "plot_cross_validation(scores, mean_score)"
   ],
   "metadata": {
    "collapsed": false,
    "pycharm": {
     "name": "#%%\n"
    }
   }
  },
  {
   "cell_type": "code",
   "execution_count": 17,
   "outputs": [
    {
     "name": "stdout",
     "output_type": "stream",
     "text": [
      "accuraries: [0.91729323 0.90977444 0.91666667]\n",
      "mean score: 91.46%\n",
      "std deviation score: 0.3406%\n"
     ]
    }
   ],
   "source": [
    "kf = KFold(n_splits=3, shuffle=True)\n",
    "clf = KNeighborsClassifier(n_neighbors=5)\n",
    "\n",
    "scores = cross_val_score(clf, X=x_train, y=y_train, cv=kf, n_jobs=-1)\n",
    "predictions = cross_val_predict(clf, X=x_train, y=y_train, cv=kf, n_jobs=-1)\n",
    "mean_score = np.mean(scores)\n",
    "std_score = np.std(scores)\n",
    "\n",
    "print(f\"accuraries: {scores}\")\n",
    "print(f\"mean score: {mean_score*100:.4}%\")\n",
    "print(f\"std deviation score: {std_score*100:.4}%\")"
   ],
   "metadata": {
    "collapsed": false,
    "pycharm": {
     "name": "#%%\n"
    }
   }
  },
  {
   "cell_type": "code",
   "execution_count": 18,
   "outputs": [
    {
     "data": {
      "text/plain": "<Figure size 432x288 with 1 Axes>",
      "image/png": "[encoded data removed]"
     },
     "metadata": {
      "needs_background": "light"
     },
     "output_type": "display_data"
    }
   ],
   "source": [
    "plot_cross_validation(scores, mean_score)"
   ],
   "metadata": {
    "collapsed": false,
    "pycharm": {
     "name": "#%%\n"
    }
   }
  }
 ],
 "metadata": {
  "kernelspec": {
   "display_name": "Python 3",
   "language": "python",
   "name": "python3"
  },
  "language_info": {
   "codemirror_mode": {
    "name": "ipython",
    "version": 2
   },
   "file_extension": ".py",
   "mimetype": "text/x-python",
   "name": "python",
   "nbconvert_exporter": "python",
   "pygments_lexer": "ipython2",
   "version": "2.7.6"
  }
 },
 "nbformat": 4,
 "nbformat_minor": 0
}