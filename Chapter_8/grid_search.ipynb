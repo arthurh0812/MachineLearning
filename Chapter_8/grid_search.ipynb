{
 "cells": [
  {
   "cell_type": "code",
   "execution_count": 144,
   "outputs": [],
   "source": [
    "import numpy as np\n",
    "np.random.seed(42)\n",
    "from sklearn.neighbors import KNeighborsClassifier\n",
    "from sklearn.datasets import load_iris, load_breast_cancer\n",
    "from sklearn.model_selection import train_test_split, KFold"
   ],
   "metadata": {
    "collapsed": false,
    "pycharm": {
     "name": "#%%\n"
    }
   }
  },
  {
   "cell_type": "code",
   "execution_count": 145,
   "outputs": [],
   "source": [
    "dataset = load_iris()\n",
    "x = dataset.data\n",
    "y = dataset.target\n",
    "\n",
    "x_train, x_test, y_train, y_test = train_test_split(x, y, test_size=0.4)"
   ],
   "metadata": {
    "collapsed": false,
    "pycharm": {
     "name": "#%%\n"
    }
   }
  },
  {
   "cell_type": "code",
   "execution_count": 146,
   "outputs": [],
   "source": [
    "n_neighbors = [1, 2, 3, 4, 5, 6, 7, 8, 9, 10, 11, 12, 13, 14]\n",
    "weights = ['uniform', 'distance']\n",
    "\n",
    "best_score = 0\n",
    "best_hyperparameters = {}"
   ],
   "metadata": {
    "collapsed": false,
    "pycharm": {
     "name": "#%%\n"
    }
   }
  },
  {
   "cell_type": "code",
   "execution_count": 147,
   "outputs": [],
   "source": [
    "for n in n_neighbors:\n",
    "    for w in weights:\n",
    "        clf = KNeighborsClassifier(n_neighbors=n, weights=w)\n",
    "        clf.fit(x_train, y_train)\n",
    "\n",
    "        score = clf.score(x_test, y_test)\n",
    "        if score > best_score:\n",
    "            best_score = score\n",
    "            best_hyperparameters['n_neighbors'] = n\n",
    "            best_hyperparameters['weights'] = w\n"
   ],
   "metadata": {
    "collapsed": false,
    "pycharm": {
     "name": "#%%\n"
    }
   }
  },
  {
   "cell_type": "code",
   "execution_count": 148,
   "outputs": [
    {
     "name": "stdout",
     "output_type": "stream",
     "text": [
      "best score: 98.33%\n",
      "best hyper-parameters: {'n_neighbors': 2, 'weights': 'uniform'}\n"
     ]
    }
   ],
   "source": [
    "print(f\"best score: {best_score*100:.4}%\")\n",
    "print(f\"best hyper-parameters: {best_hyperparameters}\")"
   ],
   "metadata": {
    "collapsed": false,
    "pycharm": {
     "name": "#%%\n"
    }
   }
  },
  {
   "cell_type": "markdown",
   "source": [
    "#### Built-in Grid Search Functionality"
   ],
   "metadata": {
    "collapsed": false,
    "pycharm": {
     "name": "#%% md\n"
    }
   }
  },
  {
   "cell_type": "code",
   "execution_count": 149,
   "outputs": [
    {
     "name": "stdout",
     "output_type": "stream",
     "text": [
      "x_train shape: (398, 30), x_test shape: (171, 30)\n"
     ]
    }
   ],
   "source": [
    "dataset = load_breast_cancer()\n",
    "x = dataset.data\n",
    "y = dataset.target\n",
    "\n",
    "x_train, x_test, y_train, y_test = train_test_split(x, y, test_size=0.3)\n",
    "print(f\"x_train shape: {x_train.shape}, x_test shape: {x_test.shape}\")"
   ],
   "metadata": {
    "collapsed": false,
    "pycharm": {
     "name": "#%%\n"
    }
   }
  },
  {
   "cell_type": "code",
   "execution_count": 150,
   "outputs": [],
   "source": [
    "from sklearn.model_selection import GridSearchCV\n",
    "\n",
    "params = {\n",
    "    'n_neighbors': [1, 2, 3, 4, 5, 6, 7, 8, 9, 10, 11, 12, 13, 14],\n",
    "    'weights': ['uniform', 'distance'],\n",
    "}\n",
    "\n",
    "kf = KFold(n_splits=10, shuffle=True)\n",
    "\n",
    "clf = KNeighborsClassifier()\n",
    "grid_cv = GridSearchCV(clf, param_grid=params, cv=kf)\n",
    "fitted = grid_cv.fit(x_train, y_train)"
   ],
   "metadata": {
    "collapsed": false,
    "pycharm": {
     "name": "#%%\n"
    }
   }
  },
  {
   "cell_type": "code",
   "execution_count": 151,
   "outputs": [
    {
     "name": "stdout",
     "output_type": "stream",
     "text": [
      "GridSearch results:\n",
      "k=mean_fit_time\n",
      "k=std_fit_time\n",
      "k=mean_score_time\n",
      "k=std_score_time\n",
      "k=param_n_neighbors\n",
      "k=param_weights\n",
      "k=params\n",
      "k=split0_test_score\n",
      "k=split1_test_score\n",
      "k=split2_test_score\n",
      "k=split3_test_score\n",
      "k=split4_test_score\n",
      "k=split5_test_score\n",
      "k=split6_test_score\n",
      "k=split7_test_score\n",
      "k=split8_test_score\n",
      "k=split9_test_score\n",
      "k=mean_test_score\n",
      "k=std_test_score\n",
      "k=rank_test_score\n"
     ]
    }
   ],
   "source": [
    "print(f\"GridSearch results:\")\n",
    "for k in grid_cv.cv_results_.keys():\n",
    "    print(f\"k={k}\")"
   ],
   "metadata": {
    "collapsed": false,
    "pycharm": {
     "name": "#%%\n"
    }
   }
  },
  {
   "cell_type": "code",
   "execution_count": 152,
   "outputs": [
    {
     "name": "stdout",
     "output_type": "stream",
     "text": [
      "0.914 (+/-0.042830107937718374) for {'n_neighbors': 2, 'weights': 'uniform'}\n",
      "0.914 (+/-0.0346832193830368) for {'n_neighbors': 2, 'weights': 'distance'}\n",
      "0.932 (+/-0.03562447734255631) for {'n_neighbors': 3, 'weights': 'uniform'}\n",
      "0.932 (+/-0.031923398721475565) for {'n_neighbors': 3, 'weights': 'distance'}\n",
      "0.932 (+/-0.03933354436141698) for {'n_neighbors': 4, 'weights': 'uniform'}\n",
      "0.932 (+/-0.039072077228308584) for {'n_neighbors': 4, 'weights': 'distance'}\n",
      "0.932 (+/-0.034236350740573344) for {'n_neighbors': 5, 'weights': 'uniform'}\n",
      "0.924 (+/-0.03752579651838518) for {'n_neighbors': 5, 'weights': 'distance'}\n",
      "0.929 (+/-0.037260080642256464) for {'n_neighbors': 6, 'weights': 'uniform'}\n",
      "0.932 (+/-0.032041023999474644) for {'n_neighbors': 6, 'weights': 'distance'}\n",
      "0.94 (+/-0.028321511050183726) for {'n_neighbors': 7, 'weights': 'uniform'}\n",
      "0.937 (+/-0.030514167175626626) for {'n_neighbors': 7, 'weights': 'distance'}\n",
      "0.94 (+/-0.028321511050183726) for {'n_neighbors': 8, 'weights': 'uniform'}\n",
      "0.94 (+/-0.028321511050183726) for {'n_neighbors': 8, 'weights': 'distance'}\n",
      "0.935 (+/-0.028242181372523253) for {'n_neighbors': 9, 'weights': 'uniform'}\n",
      "0.94 (+/-0.03243621414662443) for {'n_neighbors': 9, 'weights': 'distance'}\n",
      "0.937 (+/-0.030514167175626626) for {'n_neighbors': 10, 'weights': 'uniform'}\n",
      "0.94 (+/-0.03243621414662443) for {'n_neighbors': 10, 'weights': 'distance'}\n",
      "0.935 (+/-0.028242181372523253) for {'n_neighbors': 11, 'weights': 'uniform'}\n",
      "0.94 (+/-0.03243621414662443) for {'n_neighbors': 11, 'weights': 'distance'}\n",
      "0.932 (+/-0.025526990009300157) for {'n_neighbors': 12, 'weights': 'uniform'}\n",
      "0.935 (+/-0.025934934136768107) for {'n_neighbors': 12, 'weights': 'distance'}\n"
     ]
    }
   ],
   "source": [
    "means = grid_cv.cv_results_.get('mean_test_score')\n",
    "stds = grid_cv.cv_results_.get('std_test_score')\n",
    "params = grid_cv.cv_results_.get('params')\n",
    "\n",
    "for mean, std, params in zip(means, stds, params):\n",
    "    print(f\"{mean:.3} (+/-{std}) for {params}\")"
   ],
   "metadata": {
    "collapsed": false,
    "pycharm": {
     "name": "#%%\n"
    }
   }
  },
  {
   "cell_type": "code",
   "execution_count": 153,
   "outputs": [
    {
     "name": "stdout",
     "output_type": "stream",
     "text": [
      "best params: {'n_neighbors': 7, 'weights': 'uniform'}\n"
     ]
    }
   ],
   "source": [
    "print(f\"best params: {grid_cv.best_params_}\")"
   ],
   "metadata": {
    "collapsed": false,
    "pycharm": {
     "name": "#%%\n"
    }
   }
  },
  {
   "cell_type": "markdown",
   "source": [
    "#### Train new model with Best Hyper-Parameters"
   ],
   "metadata": {
    "collapsed": false,
    "pycharm": {
     "name": "#%% md\n"
    }
   }
  },
  {
   "cell_type": "code",
   "execution_count": 154,
   "outputs": [
    {
     "name": "stdout",
     "output_type": "stream",
     "text": [
      "accuracy: 92.98%\n"
     ]
    }
   ],
   "source": [
    "n, w = (grid_cv.best_params_[k] for k in ['n_neighbors', 'weights'])\n",
    "clf = KNeighborsClassifier(n_neighbors=n, weights=w)\n",
    "clf.fit(x_train, y_train)\n",
    "\n",
    "score = clf.score(x_test, y_test)\n",
    "print(f\"accuracy: {score*100:.4}%\")"
   ],
   "metadata": {
    "collapsed": false,
    "pycharm": {
     "name": "#%%\n"
    }
   }
  },
  {
   "cell_type": "markdown",
   "source": [],
   "metadata": {
    "collapsed": false,
    "pycharm": {
     "name": "#%% md\n"
    }
   }
  }
 ],
 "metadata": {
  "kernelspec": {
   "display_name": "Python 3",
   "language": "python",
   "name": "python3"
  },
  "language_info": {
   "codemirror_mode": {
    "name": "ipython",
    "version": 2
   },
   "file_extension": ".py",
   "mimetype": "text/x-python",
   "name": "python",
   "nbconvert_exporter": "python",
   "pygments_lexer": "ipython2",
   "version": "2.7.6"
  }
 },
 "nbformat": 4,
 "nbformat_minor": 0
}