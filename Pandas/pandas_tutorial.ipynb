{
 "cells": [
  {
   "cell_type": "code",
   "execution_count": 932,
   "metadata": {
    "collapsed": true,
    "pycharm": {
     "name": "#%%\n"
    }
   },
   "outputs": [],
   "source": [
    "import pandas as pd\n",
    "import numpy as np"
   ]
  },
  {
   "cell_type": "code",
   "execution_count": 933,
   "outputs": [
    {
     "data": {
      "text/plain": "     #                       Name Type 1  Type 2  HP  Attack  Defense  \\\n0    1                  Bulbasaur  Grass  Poison  45      49       49   \n1    2                    Ivysaur  Grass  Poison  60      62       63   \n2    3                   Venusaur  Grass  Poison  80      82       83   \n3    3      VenusaurMega Venusaur  Grass  Poison  80     100      123   \n4    4                 Charmander   Fire     NaN  39      52       43   \n5    5                 Charmeleon   Fire     NaN  58      64       58   \n6    6                  Charizard   Fire  Flying  78      84       78   \n7    6  CharizardMega Charizard X   Fire  Dragon  78     130      111   \n8    6  CharizardMega Charizard Y   Fire  Flying  78     104       78   \n9    7                   Squirtle  Water     NaN  44      48       65   \n10   8                  Wartortle  Water     NaN  59      63       80   \n11   9                  Blastoise  Water     NaN  79      83      100   \n12   9    BlastoiseMega Blastoise  Water     NaN  79     103      120   \n13  10                   Caterpie    Bug     NaN  45      30       35   \n14  11                    Metapod    Bug     NaN  50      20       55   \n15  12                 Butterfree    Bug  Flying  60      45       50   \n16  13                     Weedle    Bug  Poison  40      35       30   \n17  14                     Kakuna    Bug  Poison  45      25       50   \n18  15                   Beedrill    Bug  Poison  65      90       40   \n19  15      BeedrillMega Beedrill    Bug  Poison  65     150       40   \n\n    Sp. Atk  Sp. Def  Speed  Generation  Legendary  \n0        65       65     45           1      False  \n1        80       80     60           1      False  \n2       100      100     80           1      False  \n3       122      120     80           1      False  \n4        60       50     65           1      False  \n5        80       65     80           1      False  \n6       109       85    100           1      False  \n7       130       85    100           1      False  \n8       159      115    100           1      False  \n9        50       64     43           1      False  \n10       65       80     58           1      False  \n11       85      105     78           1      False  \n12      135      115     78           1      False  \n13       20       20     45           1      False  \n14       25       25     30           1      False  \n15       90       80     70           1      False  \n16       20       20     50           1      False  \n17       25       25     35           1      False  \n18       45       80     75           1      False  \n19       15       80    145           1      False  ",
      "text/html": "<div>\n<style scoped>\n    .dataframe tbody tr th:only-of-type {\n        vertical-align: middle;\n    }\n\n    .dataframe tbody tr th {\n        vertical-align: top;\n    }\n\n    .dataframe thead th {\n        text-align: right;\n    }\n</style>\n<table border=\"1\" class=\"dataframe\">\n  <thead>\n    <tr style=\"text-align: right;\">\n      <th></th>\n      <th>#</th>\n      <th>Name</th>\n      <th>Type 1</th>\n      <th>Type 2</th>\n      <th>HP</th>\n      <th>Attack</th>\n      <th>Defense</th>\n      <th>Sp. Atk</th>\n      <th>Sp. Def</th>\n      <th>Speed</th>\n      <th>Generation</th>\n      <th>Legendary</th>\n    </tr>\n  </thead>\n  <tbody>\n    <tr>\n      <th>0</th>\n      <td>1</td>\n      <td>Bulbasaur</td>\n      <td>Grass</td>\n      <td>Poison</td>\n      <td>45</td>\n      <td>49</td>\n      <td>49</td>\n      <td>65</td>\n      <td>65</td>\n      <td>45</td>\n      <td>1</td>\n      <td>False</td>\n    </tr>\n    <tr>\n      <th>1</th>\n      <td>2</td>\n      <td>Ivysaur</td>\n      <td>Grass</td>\n      <td>Poison</td>\n      <td>60</td>\n      <td>62</td>\n      <td>63</td>\n      <td>80</td>\n      <td>80</td>\n      <td>60</td>\n      <td>1</td>\n      <td>False</td>\n    </tr>\n    <tr>\n      <th>2</th>\n      <td>3</td>\n      <td>Venusaur</td>\n      <td>Grass</td>\n      <td>Poison</td>\n      <td>80</td>\n      <td>82</td>\n      <td>83</td>\n      <td>100</td>\n      <td>100</td>\n      <td>80</td>\n      <td>1</td>\n      <td>False</td>\n    </tr>\n    <tr>\n      <th>3</th>\n      <td>3</td>\n      <td>VenusaurMega Venusaur</td>\n      <td>Grass</td>\n      <td>Poison</td>\n      <td>80</td>\n      <td>100</td>\n      <td>123</td>\n      <td>122</td>\n      <td>120</td>\n      <td>80</td>\n      <td>1</td>\n      <td>False</td>\n    </tr>\n    <tr>\n      <th>4</th>\n      <td>4</td>\n      <td>Charmander</td>\n      <td>Fire</td>\n      <td>NaN</td>\n      <td>39</td>\n      <td>52</td>\n      <td>43</td>\n      <td>60</td>\n      <td>50</td>\n      <td>65</td>\n      <td>1</td>\n      <td>False</td>\n    </tr>\n    <tr>\n      <th>5</th>\n      <td>5</td>\n      <td>Charmeleon</td>\n      <td>Fire</td>\n      <td>NaN</td>\n      <td>58</td>\n      <td>64</td>\n      <td>58</td>\n      <td>80</td>\n      <td>65</td>\n      <td>80</td>\n      <td>1</td>\n      <td>False</td>\n    </tr>\n    <tr>\n      <th>6</th>\n      <td>6</td>\n      <td>Charizard</td>\n      <td>Fire</td>\n      <td>Flying</td>\n      <td>78</td>\n      <td>84</td>\n      <td>78</td>\n      <td>109</td>\n      <td>85</td>\n      <td>100</td>\n      <td>1</td>\n      <td>False</td>\n    </tr>\n    <tr>\n      <th>7</th>\n      <td>6</td>\n      <td>CharizardMega Charizard X</td>\n      <td>Fire</td>\n      <td>Dragon</td>\n      <td>78</td>\n      <td>130</td>\n      <td>111</td>\n      <td>130</td>\n      <td>85</td>\n      <td>100</td>\n      <td>1</td>\n      <td>False</td>\n    </tr>\n    <tr>\n      <th>8</th>\n      <td>6</td>\n      <td>CharizardMega Charizard Y</td>\n      <td>Fire</td>\n      <td>Flying</td>\n      <td>78</td>\n      <td>104</td>\n      <td>78</td>\n      <td>159</td>\n      <td>115</td>\n      <td>100</td>\n      <td>1</td>\n      <td>False</td>\n    </tr>\n    <tr>\n      <th>9</th>\n      <td>7</td>\n      <td>Squirtle</td>\n      <td>Water</td>\n      <td>NaN</td>\n      <td>44</td>\n      <td>48</td>\n      <td>65</td>\n      <td>50</td>\n      <td>64</td>\n      <td>43</td>\n      <td>1</td>\n      <td>False</td>\n    </tr>\n    <tr>\n      <th>10</th>\n      <td>8</td>\n      <td>Wartortle</td>\n      <td>Water</td>\n      <td>NaN</td>\n      <td>59</td>\n      <td>63</td>\n      <td>80</td>\n      <td>65</td>\n      <td>80</td>\n      <td>58</td>\n      <td>1</td>\n      <td>False</td>\n    </tr>\n    <tr>\n      <th>11</th>\n      <td>9</td>\n      <td>Blastoise</td>\n      <td>Water</td>\n      <td>NaN</td>\n      <td>79</td>\n      <td>83</td>\n      <td>100</td>\n      <td>85</td>\n      <td>105</td>\n      <td>78</td>\n      <td>1</td>\n      <td>False</td>\n    </tr>\n    <tr>\n      <th>12</th>\n      <td>9</td>\n      <td>BlastoiseMega Blastoise</td>\n      <td>Water</td>\n      <td>NaN</td>\n      <td>79</td>\n      <td>103</td>\n      <td>120</td>\n      <td>135</td>\n      <td>115</td>\n      <td>78</td>\n      <td>1</td>\n      <td>False</td>\n    </tr>\n    <tr>\n      <th>13</th>\n      <td>10</td>\n      <td>Caterpie</td>\n      <td>Bug</td>\n      <td>NaN</td>\n      <td>45</td>\n      <td>30</td>\n      <td>35</td>\n      <td>20</td>\n      <td>20</td>\n      <td>45</td>\n      <td>1</td>\n      <td>False</td>\n    </tr>\n    <tr>\n      <th>14</th>\n      <td>11</td>\n      <td>Metapod</td>\n      <td>Bug</td>\n      <td>NaN</td>\n      <td>50</td>\n      <td>20</td>\n      <td>55</td>\n      <td>25</td>\n      <td>25</td>\n      <td>30</td>\n      <td>1</td>\n      <td>False</td>\n    </tr>\n    <tr>\n      <th>15</th>\n      <td>12</td>\n      <td>Butterfree</td>\n      <td>Bug</td>\n      <td>Flying</td>\n      <td>60</td>\n      <td>45</td>\n      <td>50</td>\n      <td>90</td>\n      <td>80</td>\n      <td>70</td>\n      <td>1</td>\n      <td>False</td>\n    </tr>\n    <tr>\n      <th>16</th>\n      <td>13</td>\n      <td>Weedle</td>\n      <td>Bug</td>\n      <td>Poison</td>\n      <td>40</td>\n      <td>35</td>\n      <td>30</td>\n      <td>20</td>\n      <td>20</td>\n      <td>50</td>\n      <td>1</td>\n      <td>False</td>\n    </tr>\n    <tr>\n      <th>17</th>\n      <td>14</td>\n      <td>Kakuna</td>\n      <td>Bug</td>\n      <td>Poison</td>\n      <td>45</td>\n      <td>25</td>\n      <td>50</td>\n      <td>25</td>\n      <td>25</td>\n      <td>35</td>\n      <td>1</td>\n      <td>False</td>\n    </tr>\n    <tr>\n      <th>18</th>\n      <td>15</td>\n      <td>Beedrill</td>\n      <td>Bug</td>\n      <td>Poison</td>\n      <td>65</td>\n      <td>90</td>\n      <td>40</td>\n      <td>45</td>\n      <td>80</td>\n      <td>75</td>\n      <td>1</td>\n      <td>False</td>\n    </tr>\n    <tr>\n      <th>19</th>\n      <td>15</td>\n      <td>BeedrillMega Beedrill</td>\n      <td>Bug</td>\n      <td>Poison</td>\n      <td>65</td>\n      <td>150</td>\n      <td>40</td>\n      <td>15</td>\n      <td>80</td>\n      <td>145</td>\n      <td>1</td>\n      <td>False</td>\n    </tr>\n  </tbody>\n</table>\n</div>"
     },
     "execution_count": 933,
     "metadata": {},
     "output_type": "execute_result"
    }
   ],
   "source": [
    "pokemon_df = pd.read_csv(\"pokemon_data.csv\")\n",
    "pokemon_df.head(20)"
   ],
   "metadata": {
    "collapsed": false,
    "pycharm": {
     "name": "#%%\n"
    }
   }
  },
  {
   "cell_type": "code",
   "execution_count": 934,
   "outputs": [
    {
     "data": {
      "text/plain": "       #                 Name   Type 1  Type 2   HP  Attack  Defense  Sp. Atk  \\\n790  714               Noibat   Flying  Dragon   40      30       35       45   \n791  715              Noivern   Flying  Dragon   85      70       80       97   \n792  716              Xerneas    Fairy     NaN  126     131       95      131   \n793  717              Yveltal     Dark  Flying  126     131       95      131   \n794  718     Zygarde50% Forme   Dragon  Ground  108     100      121       81   \n795  719              Diancie     Rock   Fairy   50     100      150      100   \n796  719  DiancieMega Diancie     Rock   Fairy   50     160      110      160   \n797  720  HoopaHoopa Confined  Psychic   Ghost   80     110       60      150   \n798  720   HoopaHoopa Unbound  Psychic    Dark   80     160       60      170   \n799  721            Volcanion     Fire   Water   80     110      120      130   \n\n     Sp. Def  Speed  Generation  Legendary  \n790       40     55           6      False  \n791       80    123           6      False  \n792       98     99           6       True  \n793       98     99           6       True  \n794       95     95           6       True  \n795      150     50           6       True  \n796      110    110           6       True  \n797      130     70           6       True  \n798      130     80           6       True  \n799       90     70           6       True  ",
      "text/html": "<div>\n<style scoped>\n    .dataframe tbody tr th:only-of-type {\n        vertical-align: middle;\n    }\n\n    .dataframe tbody tr th {\n        vertical-align: top;\n    }\n\n    .dataframe thead th {\n        text-align: right;\n    }\n</style>\n<table border=\"1\" class=\"dataframe\">\n  <thead>\n    <tr style=\"text-align: right;\">\n      <th></th>\n      <th>#</th>\n      <th>Name</th>\n      <th>Type 1</th>\n      <th>Type 2</th>\n      <th>HP</th>\n      <th>Attack</th>\n      <th>Defense</th>\n      <th>Sp. Atk</th>\n      <th>Sp. Def</th>\n      <th>Speed</th>\n      <th>Generation</th>\n      <th>Legendary</th>\n    </tr>\n  </thead>\n  <tbody>\n    <tr>\n      <th>790</th>\n      <td>714</td>\n      <td>Noibat</td>\n      <td>Flying</td>\n      <td>Dragon</td>\n      <td>40</td>\n      <td>30</td>\n      <td>35</td>\n      <td>45</td>\n      <td>40</td>\n      <td>55</td>\n      <td>6</td>\n      <td>False</td>\n    </tr>\n    <tr>\n      <th>791</th>\n      <td>715</td>\n      <td>Noivern</td>\n      <td>Flying</td>\n      <td>Dragon</td>\n      <td>85</td>\n      <td>70</td>\n      <td>80</td>\n      <td>97</td>\n      <td>80</td>\n      <td>123</td>\n      <td>6</td>\n      <td>False</td>\n    </tr>\n    <tr>\n      <th>792</th>\n      <td>716</td>\n      <td>Xerneas</td>\n      <td>Fairy</td>\n      <td>NaN</td>\n      <td>126</td>\n      <td>131</td>\n      <td>95</td>\n      <td>131</td>\n      <td>98</td>\n      <td>99</td>\n      <td>6</td>\n      <td>True</td>\n    </tr>\n    <tr>\n      <th>793</th>\n      <td>717</td>\n      <td>Yveltal</td>\n      <td>Dark</td>\n      <td>Flying</td>\n      <td>126</td>\n      <td>131</td>\n      <td>95</td>\n      <td>131</td>\n      <td>98</td>\n      <td>99</td>\n      <td>6</td>\n      <td>True</td>\n    </tr>\n    <tr>\n      <th>794</th>\n      <td>718</td>\n      <td>Zygarde50% Forme</td>\n      <td>Dragon</td>\n      <td>Ground</td>\n      <td>108</td>\n      <td>100</td>\n      <td>121</td>\n      <td>81</td>\n      <td>95</td>\n      <td>95</td>\n      <td>6</td>\n      <td>True</td>\n    </tr>\n    <tr>\n      <th>795</th>\n      <td>719</td>\n      <td>Diancie</td>\n      <td>Rock</td>\n      <td>Fairy</td>\n      <td>50</td>\n      <td>100</td>\n      <td>150</td>\n      <td>100</td>\n      <td>150</td>\n      <td>50</td>\n      <td>6</td>\n      <td>True</td>\n    </tr>\n    <tr>\n      <th>796</th>\n      <td>719</td>\n      <td>DiancieMega Diancie</td>\n      <td>Rock</td>\n      <td>Fairy</td>\n      <td>50</td>\n      <td>160</td>\n      <td>110</td>\n      <td>160</td>\n      <td>110</td>\n      <td>110</td>\n      <td>6</td>\n      <td>True</td>\n    </tr>\n    <tr>\n      <th>797</th>\n      <td>720</td>\n      <td>HoopaHoopa Confined</td>\n      <td>Psychic</td>\n      <td>Ghost</td>\n      <td>80</td>\n      <td>110</td>\n      <td>60</td>\n      <td>150</td>\n      <td>130</td>\n      <td>70</td>\n      <td>6</td>\n      <td>True</td>\n    </tr>\n    <tr>\n      <th>798</th>\n      <td>720</td>\n      <td>HoopaHoopa Unbound</td>\n      <td>Psychic</td>\n      <td>Dark</td>\n      <td>80</td>\n      <td>160</td>\n      <td>60</td>\n      <td>170</td>\n      <td>130</td>\n      <td>80</td>\n      <td>6</td>\n      <td>True</td>\n    </tr>\n    <tr>\n      <th>799</th>\n      <td>721</td>\n      <td>Volcanion</td>\n      <td>Fire</td>\n      <td>Water</td>\n      <td>80</td>\n      <td>110</td>\n      <td>120</td>\n      <td>130</td>\n      <td>90</td>\n      <td>70</td>\n      <td>6</td>\n      <td>True</td>\n    </tr>\n  </tbody>\n</table>\n</div>"
     },
     "execution_count": 934,
     "metadata": {},
     "output_type": "execute_result"
    }
   ],
   "source": [
    "pokemon_df.tail(10)"
   ],
   "metadata": {
    "collapsed": false,
    "pycharm": {
     "name": "#%%\n"
    }
   }
  },
  {
   "cell_type": "markdown",
   "source": [
    "#### Reading Data in Pandas"
   ],
   "metadata": {
    "collapsed": false,
    "pycharm": {
     "name": "#%% md\n"
    }
   }
  },
  {
   "cell_type": "code",
   "execution_count": 935,
   "outputs": [
    {
     "name": "stdout",
     "output_type": "stream",
     "text": [
      "Index(['#', 'Name', 'Type 1', 'Type 2', 'HP', 'Attack', 'Defense', 'Sp. Atk',\n",
      "       'Sp. Def', 'Speed', 'Generation', 'Legendary'],\n",
      "      dtype='object')\n",
      "0                  Bulbasaur\n",
      "1                    Ivysaur\n",
      "2                   Venusaur\n",
      "3      VenusaurMega Venusaur\n",
      "4                 Charmander\n",
      "               ...          \n",
      "795                  Diancie\n",
      "796      DiancieMega Diancie\n",
      "797      HoopaHoopa Confined\n",
      "798       HoopaHoopa Unbound\n",
      "799                Volcanion\n",
      "Name: Name, Length: 800, dtype: object \n",
      " 0                  Bulbasaur\n",
      "1                    Ivysaur\n",
      "2                   Venusaur\n",
      "3      VenusaurMega Venusaur\n",
      "4                 Charmander\n",
      "               ...          \n",
      "795                  Diancie\n",
      "796      DiancieMega Diancie\n",
      "797      HoopaHoopa Confined\n",
      "798       HoopaHoopa Unbound\n",
      "799                Volcanion\n",
      "Name: Name, Length: 800, dtype: object\n",
      "0    45\n",
      "1    60\n",
      "2    80\n",
      "3    80\n",
      "4    39\n",
      "5    58\n",
      "6    78\n",
      "7    78\n",
      "8    78\n",
      "9    44\n",
      "Name: HP, dtype: int64 \n",
      " 0    45\n",
      "1    60\n",
      "2    80\n",
      "3    80\n",
      "4    39\n",
      "5    58\n",
      "6    78\n",
      "7    78\n",
      "8    78\n",
      "9    44\n",
      "Name: HP, dtype: int64\n",
      "                      Name  HP  Attack\n",
      "0                Bulbasaur  45      49\n",
      "1                  Ivysaur  60      62\n",
      "2                 Venusaur  80      82\n",
      "3    VenusaurMega Venusaur  80     100\n",
      "4               Charmander  39      52\n",
      "..                     ...  ..     ...\n",
      "795                Diancie  50     100\n",
      "796    DiancieMega Diancie  50     160\n",
      "797    HoopaHoopa Confined  80     110\n",
      "798     HoopaHoopa Unbound  80     160\n",
      "799              Volcanion  80     110\n",
      "\n",
      "[800 rows x 3 columns] \n",
      "                       Name  HP  Attack\n",
      "0                Bulbasaur  45      49\n",
      "1                  Ivysaur  60      62\n",
      "2                 Venusaur  80      82\n",
      "3    VenusaurMega Venusaur  80     100\n",
      "4               Charmander  39      52\n",
      "..                     ...  ..     ...\n",
      "795                Diancie  50     100\n",
      "796    DiancieMega Diancie  50     160\n",
      "797    HoopaHoopa Confined  80     110\n",
      "798     HoopaHoopa Unbound  80     160\n",
      "799              Volcanion  80     110\n",
      "\n",
      "[800 rows x 3 columns]\n"
     ]
    }
   ],
   "source": [
    "print(pokemon_df.columns)\n",
    "\n",
    "print(pokemon_df[\"Name\"], '\\n', pokemon_df.get(\"Name\"))\n",
    "\n",
    "print(pokemon_df[\"HP\"][:10], '\\n', pokemon_df.get(\"HP\")[:10])\n",
    "\n",
    "print(pokemon_df[[\"Name\", \"HP\", \"Attack\"]], '\\n', pokemon_df.get([\"Name\", \"HP\", \"Attack\"][:10]))"
   ],
   "metadata": {
    "collapsed": false,
    "pycharm": {
     "name": "#%%\n"
    }
   }
  },
  {
   "cell_type": "code",
   "execution_count": 936,
   "outputs": [
    {
     "data": {
      "text/plain": "    Type 2  HP\n10     NaN  59\n11     NaN  79\n12     NaN  79\n13     NaN  45\n14     NaN  50\n15  Flying  60\n16  Poison  40\n17  Poison  45\n18  Poison  65\n19  Poison  65",
      "text/html": "<div>\n<style scoped>\n    .dataframe tbody tr th:only-of-type {\n        vertical-align: middle;\n    }\n\n    .dataframe tbody tr th {\n        vertical-align: top;\n    }\n\n    .dataframe thead th {\n        text-align: right;\n    }\n</style>\n<table border=\"1\" class=\"dataframe\">\n  <thead>\n    <tr style=\"text-align: right;\">\n      <th></th>\n      <th>Type 2</th>\n      <th>HP</th>\n    </tr>\n  </thead>\n  <tbody>\n    <tr>\n      <th>10</th>\n      <td>NaN</td>\n      <td>59</td>\n    </tr>\n    <tr>\n      <th>11</th>\n      <td>NaN</td>\n      <td>79</td>\n    </tr>\n    <tr>\n      <th>12</th>\n      <td>NaN</td>\n      <td>79</td>\n    </tr>\n    <tr>\n      <th>13</th>\n      <td>NaN</td>\n      <td>45</td>\n    </tr>\n    <tr>\n      <th>14</th>\n      <td>NaN</td>\n      <td>50</td>\n    </tr>\n    <tr>\n      <th>15</th>\n      <td>Flying</td>\n      <td>60</td>\n    </tr>\n    <tr>\n      <th>16</th>\n      <td>Poison</td>\n      <td>40</td>\n    </tr>\n    <tr>\n      <th>17</th>\n      <td>Poison</td>\n      <td>45</td>\n    </tr>\n    <tr>\n      <th>18</th>\n      <td>Poison</td>\n      <td>65</td>\n    </tr>\n    <tr>\n      <th>19</th>\n      <td>Poison</td>\n      <td>65</td>\n    </tr>\n  </tbody>\n</table>\n</div>"
     },
     "execution_count": 936,
     "metadata": {},
     "output_type": "execute_result"
    }
   ],
   "source": [
    "pokemon_df.iloc[10:20, 3:5]"
   ],
   "metadata": {
    "collapsed": false,
    "pycharm": {
     "name": "#%%\n"
    }
   }
  },
  {
   "cell_type": "code",
   "execution_count": 937,
   "outputs": [
    {
     "name": "stdout",
     "output_type": "stream",
     "text": [
      "0 Bulbasaur\n",
      "1 Ivysaur\n",
      "2 Venusaur\n",
      "3 VenusaurMega Venusaur\n",
      "4 Charmander\n",
      "5 Charmeleon\n",
      "6 Charizard\n",
      "7 CharizardMega Charizard X\n",
      "8 CharizardMega Charizard Y\n",
      "9 Squirtle\n",
      "10 Wartortle\n",
      "11 Blastoise\n",
      "12 BlastoiseMega Blastoise\n",
      "13 Caterpie\n",
      "14 Metapod\n",
      "15 Butterfree\n",
      "16 Weedle\n",
      "17 Kakuna\n",
      "18 Beedrill\n",
      "19 BeedrillMega Beedrill\n",
      "20 Pidgey\n",
      "21 Pidgeotto\n",
      "22 Pidgeot\n",
      "23 PidgeotMega Pidgeot\n",
      "24 Rattata\n",
      "25 Raticate\n",
      "26 Spearow\n",
      "27 Fearow\n",
      "28 Ekans\n",
      "29 Arbok\n",
      "30 Pikachu\n",
      "31 Raichu\n",
      "32 Sandshrew\n",
      "33 Sandslash\n",
      "34 Nidoran (Female)\n",
      "35 Nidorina\n",
      "36 Nidoqueen\n",
      "37 Nidoran (Male)\n",
      "38 Nidorino\n",
      "39 Nidoking\n",
      "40 Clefairy\n",
      "41 Clefable\n",
      "42 Vulpix\n",
      "43 Ninetales\n",
      "44 Jigglypuff\n",
      "45 Wigglytuff\n",
      "46 Zubat\n",
      "47 Golbat\n",
      "48 Oddish\n",
      "49 Gloom\n",
      "50 Vileplume\n",
      "51 Paras\n",
      "52 Parasect\n",
      "53 Venonat\n",
      "54 Venomoth\n",
      "55 Diglett\n",
      "56 Dugtrio\n",
      "57 Meowth\n",
      "58 Persian\n",
      "59 Psyduck\n",
      "60 Golduck\n",
      "61 Mankey\n",
      "62 Primeape\n",
      "63 Growlithe\n",
      "64 Arcanine\n",
      "65 Poliwag\n",
      "66 Poliwhirl\n",
      "67 Poliwrath\n",
      "68 Abra\n",
      "69 Kadabra\n",
      "70 Alakazam\n",
      "71 AlakazamMega Alakazam\n",
      "72 Machop\n",
      "73 Machoke\n",
      "74 Machamp\n",
      "75 Bellsprout\n",
      "76 Weepinbell\n",
      "77 Victreebel\n",
      "78 Tentacool\n",
      "79 Tentacruel\n",
      "80 Geodude\n",
      "81 Graveler\n",
      "82 Golem\n",
      "83 Ponyta\n",
      "84 Rapidash\n",
      "85 Slowpoke\n",
      "86 Slowbro\n",
      "87 SlowbroMega Slowbro\n",
      "88 Magnemite\n",
      "89 Magneton\n",
      "90 Farfetch'd\n",
      "91 Doduo\n",
      "92 Dodrio\n",
      "93 Seel\n",
      "94 Dewgong\n",
      "95 Grimer\n",
      "96 Muk\n",
      "97 Shellder\n",
      "98 Cloyster\n",
      "99 Gastly\n",
      "100 Haunter\n",
      "101 Gengar\n",
      "102 GengarMega Gengar\n",
      "103 Onix\n",
      "104 Drowzee\n",
      "105 Hypno\n",
      "106 Krabby\n",
      "107 Kingler\n",
      "108 Voltorb\n",
      "109 Electrode\n",
      "110 Exeggcute\n",
      "111 Exeggutor\n",
      "112 Cubone\n",
      "113 Marowak\n",
      "114 Hitmonlee\n",
      "115 Hitmonchan\n",
      "116 Lickitung\n",
      "117 Koffing\n",
      "118 Weezing\n",
      "119 Rhyhorn\n",
      "120 Rhydon\n",
      "121 Chansey\n",
      "122 Tangela\n",
      "123 Kangaskhan\n",
      "124 KangaskhanMega Kangaskhan\n",
      "125 Horsea\n",
      "126 Seadra\n",
      "127 Goldeen\n",
      "128 Seaking\n",
      "129 Staryu\n",
      "130 Starmie\n",
      "131 Mr. Mime\n",
      "132 Scyther\n",
      "133 Jynx\n",
      "134 Electabuzz\n",
      "135 Magmar\n",
      "136 Pinsir\n",
      "137 PinsirMega Pinsir\n",
      "138 Tauros\n",
      "139 Magikarp\n",
      "140 Gyarados\n",
      "141 GyaradosMega Gyarados\n",
      "142 Lapras\n",
      "143 Ditto\n",
      "144 Eevee\n",
      "145 Vaporeon\n",
      "146 Jolteon\n",
      "147 Flareon\n",
      "148 Porygon\n",
      "149 Omanyte\n",
      "150 Omastar\n",
      "151 Kabuto\n",
      "152 Kabutops\n",
      "153 Aerodactyl\n",
      "154 AerodactylMega Aerodactyl\n",
      "155 Snorlax\n",
      "156 Articuno\n",
      "157 Zapdos\n",
      "158 Moltres\n",
      "159 Dratini\n",
      "160 Dragonair\n",
      "161 Dragonite\n",
      "162 Mewtwo\n",
      "163 MewtwoMega Mewtwo X\n",
      "164 MewtwoMega Mewtwo Y\n",
      "165 Mew\n",
      "166 Chikorita\n",
      "167 Bayleef\n",
      "168 Meganium\n",
      "169 Cyndaquil\n",
      "170 Quilava\n",
      "171 Typhlosion\n",
      "172 Totodile\n",
      "173 Croconaw\n",
      "174 Feraligatr\n",
      "175 Sentret\n",
      "176 Furret\n",
      "177 Hoothoot\n",
      "178 Noctowl\n",
      "179 Ledyba\n",
      "180 Ledian\n",
      "181 Spinarak\n",
      "182 Ariados\n",
      "183 Crobat\n",
      "184 Chinchou\n",
      "185 Lanturn\n",
      "186 Pichu\n",
      "187 Cleffa\n",
      "188 Igglybuff\n",
      "189 Togepi\n",
      "190 Togetic\n",
      "191 Natu\n",
      "192 Xatu\n",
      "193 Mareep\n",
      "194 Flaaffy\n",
      "195 Ampharos\n",
      "196 AmpharosMega Ampharos\n",
      "197 Bellossom\n",
      "198 Marill\n",
      "199 Azumarill\n",
      "200 Sudowoodo\n",
      "201 Politoed\n",
      "202 Hoppip\n",
      "203 Skiploom\n",
      "204 Jumpluff\n",
      "205 Aipom\n",
      "206 Sunkern\n",
      "207 Sunflora\n",
      "208 Yanma\n",
      "209 Wooper\n",
      "210 Quagsire\n",
      "211 Espeon\n",
      "212 Umbreon\n",
      "213 Murkrow\n",
      "214 Slowking\n",
      "215 Misdreavus\n",
      "216 Unown\n",
      "217 Wobbuffet\n",
      "218 Girafarig\n",
      "219 Pineco\n",
      "220 Forretress\n",
      "221 Dunsparce\n",
      "222 Gligar\n",
      "223 Steelix\n",
      "224 SteelixMega Steelix\n",
      "225 Snubbull\n",
      "226 Granbull\n",
      "227 Qwilfish\n",
      "228 Scizor\n",
      "229 ScizorMega Scizor\n",
      "230 Shuckle\n",
      "231 Heracross\n",
      "232 HeracrossMega Heracross\n",
      "233 Sneasel\n",
      "234 Teddiursa\n",
      "235 Ursaring\n",
      "236 Slugma\n",
      "237 Magcargo\n",
      "238 Swinub\n",
      "239 Piloswine\n",
      "240 Corsola\n",
      "241 Remoraid\n",
      "242 Octillery\n",
      "243 Delibird\n",
      "244 Mantine\n",
      "245 Skarmory\n",
      "246 Houndour\n",
      "247 Houndoom\n",
      "248 HoundoomMega Houndoom\n",
      "249 Kingdra\n",
      "250 Phanpy\n",
      "251 Donphan\n",
      "252 Porygon2\n",
      "253 Stantler\n",
      "254 Smeargle\n",
      "255 Tyrogue\n",
      "256 Hitmontop\n",
      "257 Smoochum\n",
      "258 Elekid\n",
      "259 Magby\n",
      "260 Miltank\n",
      "261 Blissey\n",
      "262 Raikou\n",
      "263 Entei\n",
      "264 Suicune\n",
      "265 Larvitar\n",
      "266 Pupitar\n",
      "267 Tyranitar\n",
      "268 TyranitarMega Tyranitar\n",
      "269 Lugia\n",
      "270 Ho-oh\n",
      "271 Celebi\n",
      "272 Treecko\n",
      "273 Grovyle\n",
      "274 Sceptile\n",
      "275 SceptileMega Sceptile\n",
      "276 Torchic\n",
      "277 Combusken\n",
      "278 Blaziken\n",
      "279 BlazikenMega Blaziken\n",
      "280 Mudkip\n",
      "281 Marshtomp\n",
      "282 Swampert\n",
      "283 SwampertMega Swampert\n",
      "284 Poochyena\n",
      "285 Mightyena\n",
      "286 Zigzagoon\n",
      "287 Linoone\n",
      "288 Wurmple\n",
      "289 Silcoon\n",
      "290 Beautifly\n",
      "291 Cascoon\n",
      "292 Dustox\n",
      "293 Lotad\n",
      "294 Lombre\n",
      "295 Ludicolo\n",
      "296 Seedot\n",
      "297 Nuzleaf\n",
      "298 Shiftry\n",
      "299 Taillow\n",
      "300 Swellow\n",
      "301 Wingull\n",
      "302 Pelipper\n",
      "303 Ralts\n",
      "304 Kirlia\n",
      "305 Gardevoir\n",
      "306 GardevoirMega Gardevoir\n",
      "307 Surskit\n",
      "308 Masquerain\n",
      "309 Shroomish\n",
      "310 Breloom\n",
      "311 Slakoth\n",
      "312 Vigoroth\n",
      "313 Slaking\n",
      "314 Nincada\n",
      "315 Ninjask\n",
      "316 Shedinja\n",
      "317 Whismur\n",
      "318 Loudred\n",
      "319 Exploud\n",
      "320 Makuhita\n",
      "321 Hariyama\n",
      "322 Azurill\n",
      "323 Nosepass\n",
      "324 Skitty\n",
      "325 Delcatty\n",
      "326 Sableye\n",
      "327 SableyeMega Sableye\n",
      "328 Mawile\n",
      "329 MawileMega Mawile\n",
      "330 Aron\n",
      "331 Lairon\n",
      "332 Aggron\n",
      "333 AggronMega Aggron\n",
      "334 Meditite\n",
      "335 Medicham\n",
      "336 MedichamMega Medicham\n",
      "337 Electrike\n",
      "338 Manectric\n",
      "339 ManectricMega Manectric\n",
      "340 Plusle\n",
      "341 Minun\n",
      "342 Volbeat\n",
      "343 Illumise\n",
      "344 Roselia\n",
      "345 Gulpin\n",
      "346 Swalot\n",
      "347 Carvanha\n",
      "348 Sharpedo\n",
      "349 SharpedoMega Sharpedo\n",
      "350 Wailmer\n",
      "351 Wailord\n",
      "352 Numel\n",
      "353 Camerupt\n",
      "354 CameruptMega Camerupt\n",
      "355 Torkoal\n",
      "356 Spoink\n",
      "357 Grumpig\n",
      "358 Spinda\n",
      "359 Trapinch\n",
      "360 Vibrava\n",
      "361 Flygon\n",
      "362 Cacnea\n",
      "363 Cacturne\n",
      "364 Swablu\n",
      "365 Altaria\n",
      "366 AltariaMega Altaria\n",
      "367 Zangoose\n",
      "368 Seviper\n",
      "369 Lunatone\n",
      "370 Solrock\n",
      "371 Barboach\n",
      "372 Whiscash\n",
      "373 Corphish\n",
      "374 Crawdaunt\n",
      "375 Baltoy\n",
      "376 Claydol\n",
      "377 Lileep\n",
      "378 Cradily\n",
      "379 Anorith\n",
      "380 Armaldo\n",
      "381 Feebas\n",
      "382 Milotic\n",
      "383 Castform\n",
      "384 Kecleon\n",
      "385 Shuppet\n",
      "386 Banette\n",
      "387 BanetteMega Banette\n",
      "388 Duskull\n",
      "389 Dusclops\n",
      "390 Tropius\n",
      "391 Chimecho\n",
      "392 Absol\n",
      "393 AbsolMega Absol\n",
      "394 Wynaut\n",
      "395 Snorunt\n",
      "396 Glalie\n",
      "397 GlalieMega Glalie\n",
      "398 Spheal\n",
      "399 Sealeo\n",
      "400 Walrein\n",
      "401 Clamperl\n",
      "402 Huntail\n",
      "403 Gorebyss\n",
      "404 Relicanth\n",
      "405 Luvdisc\n",
      "406 Bagon\n",
      "407 Shelgon\n",
      "408 Salamence\n",
      "409 SalamenceMega Salamence\n",
      "410 Beldum\n",
      "411 Metang\n",
      "412 Metagross\n",
      "413 MetagrossMega Metagross\n",
      "414 Regirock\n",
      "415 Regice\n",
      "416 Registeel\n",
      "417 Latias\n",
      "418 LatiasMega Latias\n",
      "419 Latios\n",
      "420 LatiosMega Latios\n",
      "421 Kyogre\n",
      "422 KyogrePrimal Kyogre\n",
      "423 Groudon\n",
      "424 GroudonPrimal Groudon\n",
      "425 Rayquaza\n",
      "426 RayquazaMega Rayquaza\n",
      "427 Jirachi\n",
      "428 DeoxysNormal Forme\n",
      "429 DeoxysAttack Forme\n",
      "430 DeoxysDefense Forme\n",
      "431 DeoxysSpeed Forme\n",
      "432 Turtwig\n",
      "433 Grotle\n",
      "434 Torterra\n",
      "435 Chimchar\n",
      "436 Monferno\n",
      "437 Infernape\n",
      "438 Piplup\n",
      "439 Prinplup\n",
      "440 Empoleon\n",
      "441 Starly\n",
      "442 Staravia\n",
      "443 Staraptor\n",
      "444 Bidoof\n",
      "445 Bibarel\n",
      "446 Kricketot\n",
      "447 Kricketune\n",
      "448 Shinx\n",
      "449 Luxio\n",
      "450 Luxray\n",
      "451 Budew\n",
      "452 Roserade\n",
      "453 Cranidos\n",
      "454 Rampardos\n",
      "455 Shieldon\n",
      "456 Bastiodon\n",
      "457 Burmy\n",
      "458 WormadamPlant Cloak\n",
      "459 WormadamSandy Cloak\n",
      "460 WormadamTrash Cloak\n",
      "461 Mothim\n",
      "462 Combee\n",
      "463 Vespiquen\n",
      "464 Pachirisu\n",
      "465 Buizel\n",
      "466 Floatzel\n",
      "467 Cherubi\n",
      "468 Cherrim\n",
      "469 Shellos\n",
      "470 Gastrodon\n",
      "471 Ambipom\n",
      "472 Drifloon\n",
      "473 Drifblim\n",
      "474 Buneary\n",
      "475 Lopunny\n",
      "476 LopunnyMega Lopunny\n",
      "477 Mismagius\n",
      "478 Honchkrow\n",
      "479 Glameow\n",
      "480 Purugly\n",
      "481 Chingling\n",
      "482 Stunky\n",
      "483 Skuntank\n",
      "484 Bronzor\n",
      "485 Bronzong\n",
      "486 Bonsly\n",
      "487 Mime Jr.\n",
      "488 Happiny\n",
      "489 Chatot\n",
      "490 Spiritomb\n",
      "491 Gible\n",
      "492 Gabite\n",
      "493 Garchomp\n",
      "494 GarchompMega Garchomp\n",
      "495 Munchlax\n",
      "496 Riolu\n",
      "497 Lucario\n",
      "498 LucarioMega Lucario\n",
      "499 Hippopotas\n",
      "500 Hippowdon\n",
      "501 Skorupi\n",
      "502 Drapion\n",
      "503 Croagunk\n",
      "504 Toxicroak\n",
      "505 Carnivine\n",
      "506 Finneon\n",
      "507 Lumineon\n",
      "508 Mantyke\n",
      "509 Snover\n",
      "510 Abomasnow\n",
      "511 AbomasnowMega Abomasnow\n",
      "512 Weavile\n",
      "513 Magnezone\n",
      "514 Lickilicky\n",
      "515 Rhyperior\n",
      "516 Tangrowth\n",
      "517 Electivire\n",
      "518 Magmortar\n",
      "519 Togekiss\n",
      "520 Yanmega\n",
      "521 Leafeon\n",
      "522 Glaceon\n",
      "523 Gliscor\n",
      "524 Mamoswine\n",
      "525 Porygon-Z\n",
      "526 Gallade\n",
      "527 GalladeMega Gallade\n",
      "528 Probopass\n",
      "529 Dusknoir\n",
      "530 Froslass\n",
      "531 Rotom\n",
      "532 RotomHeat Rotom\n",
      "533 RotomWash Rotom\n",
      "534 RotomFrost Rotom\n",
      "535 RotomFan Rotom\n",
      "536 RotomMow Rotom\n",
      "537 Uxie\n",
      "538 Mesprit\n",
      "539 Azelf\n",
      "540 Dialga\n",
      "541 Palkia\n",
      "542 Heatran\n",
      "543 Regigigas\n",
      "544 GiratinaAltered Forme\n",
      "545 GiratinaOrigin Forme\n",
      "546 Cresselia\n",
      "547 Phione\n",
      "548 Manaphy\n",
      "549 Darkrai\n",
      "550 ShayminLand Forme\n",
      "551 ShayminSky Forme\n",
      "552 Arceus\n",
      "553 Victini\n",
      "554 Snivy\n",
      "555 Servine\n",
      "556 Serperior\n",
      "557 Tepig\n",
      "558 Pignite\n",
      "559 Emboar\n",
      "560 Oshawott\n",
      "561 Dewott\n",
      "562 Samurott\n",
      "563 Patrat\n",
      "564 Watchog\n",
      "565 Lillipup\n",
      "566 Herdier\n",
      "567 Stoutland\n",
      "568 Purrloin\n",
      "569 Liepard\n",
      "570 Pansage\n",
      "571 Simisage\n",
      "572 Pansear\n",
      "573 Simisear\n",
      "574 Panpour\n",
      "575 Simipour\n",
      "576 Munna\n",
      "577 Musharna\n",
      "578 Pidove\n",
      "579 Tranquill\n",
      "580 Unfezant\n",
      "581 Blitzle\n",
      "582 Zebstrika\n",
      "583 Roggenrola\n",
      "584 Boldore\n",
      "585 Gigalith\n",
      "586 Woobat\n",
      "587 Swoobat\n",
      "588 Drilbur\n",
      "589 Excadrill\n",
      "590 Audino\n",
      "591 AudinoMega Audino\n",
      "592 Timburr\n",
      "593 Gurdurr\n",
      "594 Conkeldurr\n",
      "595 Tympole\n",
      "596 Palpitoad\n",
      "597 Seismitoad\n",
      "598 Throh\n",
      "599 Sawk\n",
      "600 Sewaddle\n",
      "601 Swadloon\n",
      "602 Leavanny\n",
      "603 Venipede\n",
      "604 Whirlipede\n",
      "605 Scolipede\n",
      "606 Cottonee\n",
      "607 Whimsicott\n",
      "608 Petilil\n",
      "609 Lilligant\n",
      "610 Basculin\n",
      "611 Sandile\n",
      "612 Krokorok\n",
      "613 Krookodile\n",
      "614 Darumaka\n",
      "615 DarmanitanStandard Mode\n",
      "616 DarmanitanZen Mode\n",
      "617 Maractus\n",
      "618 Dwebble\n",
      "619 Crustle\n",
      "620 Scraggy\n",
      "621 Scrafty\n",
      "622 Sigilyph\n",
      "623 Yamask\n",
      "624 Cofagrigus\n",
      "625 Tirtouga\n",
      "626 Carracosta\n",
      "627 Archen\n",
      "628 Archeops\n",
      "629 Trubbish\n",
      "630 Garbodor\n",
      "631 Zorua\n",
      "632 Zoroark\n",
      "633 Minccino\n",
      "634 Cinccino\n",
      "635 Gothita\n",
      "636 Gothorita\n",
      "637 Gothitelle\n",
      "638 Solosis\n",
      "639 Duosion\n",
      "640 Reuniclus\n",
      "641 Ducklett\n",
      "642 Swanna\n",
      "643 Vanillite\n",
      "644 Vanillish\n",
      "645 Vanilluxe\n",
      "646 Deerling\n",
      "647 Sawsbuck\n",
      "648 Emolga\n",
      "649 Karrablast\n",
      "650 Escavalier\n",
      "651 Foongus\n",
      "652 Amoonguss\n",
      "653 Frillish\n",
      "654 Jellicent\n",
      "655 Alomomola\n",
      "656 Joltik\n",
      "657 Galvantula\n",
      "658 Ferroseed\n",
      "659 Ferrothorn\n",
      "660 Klink\n",
      "661 Klang\n",
      "662 Klinklang\n",
      "663 Tynamo\n",
      "664 Eelektrik\n",
      "665 Eelektross\n",
      "666 Elgyem\n",
      "667 Beheeyem\n",
      "668 Litwick\n",
      "669 Lampent\n",
      "670 Chandelure\n",
      "671 Axew\n",
      "672 Fraxure\n",
      "673 Haxorus\n",
      "674 Cubchoo\n",
      "675 Beartic\n",
      "676 Cryogonal\n",
      "677 Shelmet\n",
      "678 Accelgor\n",
      "679 Stunfisk\n",
      "680 Mienfoo\n",
      "681 Mienshao\n",
      "682 Druddigon\n",
      "683 Golett\n",
      "684 Golurk\n",
      "685 Pawniard\n",
      "686 Bisharp\n",
      "687 Bouffalant\n",
      "688 Rufflet\n",
      "689 Braviary\n",
      "690 Vullaby\n",
      "691 Mandibuzz\n",
      "692 Heatmor\n",
      "693 Durant\n",
      "694 Deino\n",
      "695 Zweilous\n",
      "696 Hydreigon\n",
      "697 Larvesta\n",
      "698 Volcarona\n",
      "699 Cobalion\n",
      "700 Terrakion\n",
      "701 Virizion\n",
      "702 TornadusIncarnate Forme\n",
      "703 TornadusTherian Forme\n",
      "704 ThundurusIncarnate Forme\n",
      "705 ThundurusTherian Forme\n",
      "706 Reshiram\n",
      "707 Zekrom\n",
      "708 LandorusIncarnate Forme\n",
      "709 LandorusTherian Forme\n",
      "710 Kyurem\n",
      "711 KyuremBlack Kyurem\n",
      "712 KyuremWhite Kyurem\n",
      "713 KeldeoOrdinary Forme\n",
      "714 KeldeoResolute Forme\n",
      "715 MeloettaAria Forme\n",
      "716 MeloettaPirouette Forme\n",
      "717 Genesect\n",
      "718 Chespin\n",
      "719 Quilladin\n",
      "720 Chesnaught\n",
      "721 Fennekin\n",
      "722 Braixen\n",
      "723 Delphox\n",
      "724 Froakie\n",
      "725 Frogadier\n",
      "726 Greninja\n",
      "727 Bunnelby\n",
      "728 Diggersby\n",
      "729 Fletchling\n",
      "730 Fletchinder\n",
      "731 Talonflame\n",
      "732 Scatterbug\n",
      "733 Spewpa\n",
      "734 Vivillon\n",
      "735 Litleo\n",
      "736 Pyroar\n",
      "737 Flabébé\n",
      "738 Floette\n",
      "739 Florges\n",
      "740 Skiddo\n",
      "741 Gogoat\n",
      "742 Pancham\n",
      "743 Pangoro\n",
      "744 Furfrou\n",
      "745 Espurr\n",
      "746 MeowsticMale\n",
      "747 MeowsticFemale\n",
      "748 Honedge\n",
      "749 Doublade\n",
      "750 AegislashBlade Forme\n",
      "751 AegislashShield Forme\n",
      "752 Spritzee\n",
      "753 Aromatisse\n",
      "754 Swirlix\n",
      "755 Slurpuff\n",
      "756 Inkay\n",
      "757 Malamar\n",
      "758 Binacle\n",
      "759 Barbaracle\n",
      "760 Skrelp\n",
      "761 Dragalge\n",
      "762 Clauncher\n",
      "763 Clawitzer\n",
      "764 Helioptile\n",
      "765 Heliolisk\n",
      "766 Tyrunt\n",
      "767 Tyrantrum\n",
      "768 Amaura\n",
      "769 Aurorus\n",
      "770 Sylveon\n",
      "771 Hawlucha\n",
      "772 Dedenne\n",
      "773 Carbink\n",
      "774 Goomy\n",
      "775 Sliggoo\n",
      "776 Goodra\n",
      "777 Klefki\n",
      "778 Phantump\n",
      "779 Trevenant\n",
      "780 PumpkabooAverage Size\n",
      "781 PumpkabooSmall Size\n",
      "782 PumpkabooLarge Size\n",
      "783 PumpkabooSuper Size\n",
      "784 GourgeistAverage Size\n",
      "785 GourgeistSmall Size\n",
      "786 GourgeistLarge Size\n",
      "787 GourgeistSuper Size\n",
      "788 Bergmite\n",
      "789 Avalugg\n",
      "790 Noibat\n",
      "791 Noivern\n",
      "792 Xerneas\n",
      "793 Yveltal\n",
      "794 Zygarde50% Forme\n",
      "795 Diancie\n",
      "796 DiancieMega Diancie\n",
      "797 HoopaHoopa Confined\n",
      "798 HoopaHoopa Unbound\n",
      "799 Volcanion\n"
     ]
    }
   ],
   "source": [
    "for key, row in pokemon_df.iterrows():\n",
    "    print(key, row[\"Name\"])"
   ],
   "metadata": {
    "collapsed": false,
    "pycharm": {
     "name": "#%%\n"
    }
   }
  },
  {
   "cell_type": "code",
   "execution_count": 938,
   "outputs": [
    {
     "name": "stdout",
     "output_type": "stream",
     "text": [
      "       #                   Name Type 1   Type 2  HP  Attack  Defense  Sp. Atk  \\\n",
      "0      1              Bulbasaur  Grass   Poison  45      49       49       65   \n",
      "1      2                Ivysaur  Grass   Poison  60      62       63       80   \n",
      "2      3               Venusaur  Grass   Poison  80      82       83      100   \n",
      "3      3  VenusaurMega Venusaur  Grass   Poison  80     100      123      122   \n",
      "48    43                 Oddish  Grass   Poison  45      50       55       75   \n",
      "49    44                  Gloom  Grass   Poison  60      65       70       85   \n",
      "50    45              Vileplume  Grass   Poison  75      80       85      110   \n",
      "75    69             Bellsprout  Grass   Poison  50      75       35       70   \n",
      "76    70             Weepinbell  Grass   Poison  65      90       50       85   \n",
      "77    71             Victreebel  Grass   Poison  80     105       65      100   \n",
      "110  102              Exeggcute  Grass  Psychic  60      40       80       60   \n",
      "111  103              Exeggutor  Grass  Psychic  95      95       85      125   \n",
      "122  114                Tangela  Grass      NaN  65      55      115      100   \n",
      "166  152              Chikorita  Grass      NaN  45      49       65       49   \n",
      "167  153                Bayleef  Grass      NaN  60      62       80       63   \n",
      "168  154               Meganium  Grass      NaN  80      82      100       83   \n",
      "197  182              Bellossom  Grass      NaN  75      80       95       90   \n",
      "202  187                 Hoppip  Grass   Flying  35      35       40       35   \n",
      "203  188               Skiploom  Grass   Flying  55      45       50       45   \n",
      "204  189               Jumpluff  Grass   Flying  75      55       70       55   \n",
      "\n",
      "     Sp. Def  Speed  Generation  Legendary  \n",
      "0         65     45           1      False  \n",
      "1         80     60           1      False  \n",
      "2        100     80           1      False  \n",
      "3        120     80           1      False  \n",
      "48        65     30           1      False  \n",
      "49        75     40           1      False  \n",
      "50        90     50           1      False  \n",
      "75        30     40           1      False  \n",
      "76        45     55           1      False  \n",
      "77        70     70           1      False  \n",
      "110       45     40           1      False  \n",
      "111       65     55           1      False  \n",
      "122       40     60           1      False  \n",
      "166       65     45           2      False  \n",
      "167       80     60           2      False  \n",
      "168      100     80           2      False  \n",
      "197      100     50           2      False  \n",
      "202       55     50           2      False  \n",
      "203       65     80           2      False  \n",
      "204       95    110           2      False  \n"
     ]
    }
   ],
   "source": [
    "print(pokemon_df.loc[pokemon_df[\"Type 1\"] == \"Grass\"][:20])"
   ],
   "metadata": {
    "collapsed": false,
    "pycharm": {
     "name": "#%%\n"
    }
   }
  },
  {
   "cell_type": "markdown",
   "source": [
    "#### Describing and Sorting Data in Pandas"
   ],
   "metadata": {
    "collapsed": false,
    "pycharm": {
     "name": "#%% md\n"
    }
   }
  },
  {
   "cell_type": "code",
   "execution_count": 939,
   "outputs": [
    {
     "data": {
      "text/plain": "                #          HP      Attack     Defense     Sp. Atk     Sp. Def  \\\ncount  800.000000  800.000000  800.000000  800.000000  800.000000  800.000000   \nmean   362.813750   69.258750   79.001250   73.842500   72.820000   71.902500   \nstd    208.343798   25.534669   32.457366   31.183501   32.722294   27.828916   \nmin      1.000000    1.000000    5.000000    5.000000   10.000000   20.000000   \n25%    184.750000   50.000000   55.000000   50.000000   49.750000   50.000000   \n50%    364.500000   65.000000   75.000000   70.000000   65.000000   70.000000   \n75%    539.250000   80.000000  100.000000   90.000000   95.000000   90.000000   \nmax    721.000000  255.000000  190.000000  230.000000  194.000000  230.000000   \n\n            Speed  Generation  \ncount  800.000000   800.00000  \nmean    68.277500     3.32375  \nstd     29.060474     1.66129  \nmin      5.000000     1.00000  \n25%     45.000000     2.00000  \n50%     65.000000     3.00000  \n75%     90.000000     5.00000  \nmax    180.000000     6.00000  ",
      "text/html": "<div>\n<style scoped>\n    .dataframe tbody tr th:only-of-type {\n        vertical-align: middle;\n    }\n\n    .dataframe tbody tr th {\n        vertical-align: top;\n    }\n\n    .dataframe thead th {\n        text-align: right;\n    }\n</style>\n<table border=\"1\" class=\"dataframe\">\n  <thead>\n    <tr style=\"text-align: right;\">\n      <th></th>\n      <th>#</th>\n      <th>HP</th>\n      <th>Attack</th>\n      <th>Defense</th>\n      <th>Sp. Atk</th>\n      <th>Sp. Def</th>\n      <th>Speed</th>\n      <th>Generation</th>\n    </tr>\n  </thead>\n  <tbody>\n    <tr>\n      <th>count</th>\n      <td>800.000000</td>\n      <td>800.000000</td>\n      <td>800.000000</td>\n      <td>800.000000</td>\n      <td>800.000000</td>\n      <td>800.000000</td>\n      <td>800.000000</td>\n      <td>800.00000</td>\n    </tr>\n    <tr>\n      <th>mean</th>\n      <td>362.813750</td>\n      <td>69.258750</td>\n      <td>79.001250</td>\n      <td>73.842500</td>\n      <td>72.820000</td>\n      <td>71.902500</td>\n      <td>68.277500</td>\n      <td>3.32375</td>\n    </tr>\n    <tr>\n      <th>std</th>\n      <td>208.343798</td>\n      <td>25.534669</td>\n      <td>32.457366</td>\n      <td>31.183501</td>\n      <td>32.722294</td>\n      <td>27.828916</td>\n      <td>29.060474</td>\n      <td>1.66129</td>\n    </tr>\n    <tr>\n      <th>min</th>\n      <td>1.000000</td>\n      <td>1.000000</td>\n      <td>5.000000</td>\n      <td>5.000000</td>\n      <td>10.000000</td>\n      <td>20.000000</td>\n      <td>5.000000</td>\n      <td>1.00000</td>\n    </tr>\n    <tr>\n      <th>25%</th>\n      <td>184.750000</td>\n      <td>50.000000</td>\n      <td>55.000000</td>\n      <td>50.000000</td>\n      <td>49.750000</td>\n      <td>50.000000</td>\n      <td>45.000000</td>\n      <td>2.00000</td>\n    </tr>\n    <tr>\n      <th>50%</th>\n      <td>364.500000</td>\n      <td>65.000000</td>\n      <td>75.000000</td>\n      <td>70.000000</td>\n      <td>65.000000</td>\n      <td>70.000000</td>\n      <td>65.000000</td>\n      <td>3.00000</td>\n    </tr>\n    <tr>\n      <th>75%</th>\n      <td>539.250000</td>\n      <td>80.000000</td>\n      <td>100.000000</td>\n      <td>90.000000</td>\n      <td>95.000000</td>\n      <td>90.000000</td>\n      <td>90.000000</td>\n      <td>5.00000</td>\n    </tr>\n    <tr>\n      <th>max</th>\n      <td>721.000000</td>\n      <td>255.000000</td>\n      <td>190.000000</td>\n      <td>230.000000</td>\n      <td>194.000000</td>\n      <td>230.000000</td>\n      <td>180.000000</td>\n      <td>6.00000</td>\n    </tr>\n  </tbody>\n</table>\n</div>"
     },
     "execution_count": 939,
     "metadata": {},
     "output_type": "execute_result"
    }
   ],
   "source": [
    "pokemon_df.describe(include=[np.number])"
   ],
   "metadata": {
    "collapsed": false,
    "pycharm": {
     "name": "#%%\n"
    }
   }
  },
  {
   "cell_type": "code",
   "execution_count": 940,
   "outputs": [
    {
     "data": {
      "text/plain": "       #                     Name Type 1    Type 2  HP  Attack  Defense  \\\n520  469                  Yanmega    Bug    Flying  86      76       86   \n698  637                Volcarona    Bug      Fire  85      60       65   \n232  214  HeracrossMega Heracross    Bug  Fighting  80     185      115   \n231  214                Heracross    Bug  Fighting  80     125       75   \n678  617                 Accelgor    Bug       NaN  80      70       40   \n..   ...                      ...    ...       ...  ..     ...      ...   \n97    90                 Shellder  Water       NaN  30      65      100   \n129  120                   Staryu  Water       NaN  30      45       55   \n125  116                   Horsea  Water       NaN  30      40       70   \n381  349                   Feebas  Water       NaN  20      15       20   \n139  129                 Magikarp  Water       NaN  20      10       55   \n\n     Sp. Atk  Sp. Def  Speed  Generation  Legendary  \n520      116       56     95           4      False  \n698      135      105    100           5      False  \n232       40      105     75           2      False  \n231       40       95     85           2      False  \n678      100       60    145           5      False  \n..       ...      ...    ...         ...        ...  \n97        45       25     40           1      False  \n129       70       55     85           1      False  \n125       70       25     60           1      False  \n381       10       55     80           3      False  \n139       15       20     80           1      False  \n\n[800 rows x 12 columns]",
      "text/html": "<div>\n<style scoped>\n    .dataframe tbody tr th:only-of-type {\n        vertical-align: middle;\n    }\n\n    .dataframe tbody tr th {\n        vertical-align: top;\n    }\n\n    .dataframe thead th {\n        text-align: right;\n    }\n</style>\n<table border=\"1\" class=\"dataframe\">\n  <thead>\n    <tr style=\"text-align: right;\">\n      <th></th>\n      <th>#</th>\n      <th>Name</th>\n      <th>Type 1</th>\n      <th>Type 2</th>\n      <th>HP</th>\n      <th>Attack</th>\n      <th>Defense</th>\n      <th>Sp. Atk</th>\n      <th>Sp. Def</th>\n      <th>Speed</th>\n      <th>Generation</th>\n      <th>Legendary</th>\n    </tr>\n  </thead>\n  <tbody>\n    <tr>\n      <th>520</th>\n      <td>469</td>\n      <td>Yanmega</td>\n      <td>Bug</td>\n      <td>Flying</td>\n      <td>86</td>\n      <td>76</td>\n      <td>86</td>\n      <td>116</td>\n      <td>56</td>\n      <td>95</td>\n      <td>4</td>\n      <td>False</td>\n    </tr>\n    <tr>\n      <th>698</th>\n      <td>637</td>\n      <td>Volcarona</td>\n      <td>Bug</td>\n      <td>Fire</td>\n      <td>85</td>\n      <td>60</td>\n      <td>65</td>\n      <td>135</td>\n      <td>105</td>\n      <td>100</td>\n      <td>5</td>\n      <td>False</td>\n    </tr>\n    <tr>\n      <th>232</th>\n      <td>214</td>\n      <td>HeracrossMega Heracross</td>\n      <td>Bug</td>\n      <td>Fighting</td>\n      <td>80</td>\n      <td>185</td>\n      <td>115</td>\n      <td>40</td>\n      <td>105</td>\n      <td>75</td>\n      <td>2</td>\n      <td>False</td>\n    </tr>\n    <tr>\n      <th>231</th>\n      <td>214</td>\n      <td>Heracross</td>\n      <td>Bug</td>\n      <td>Fighting</td>\n      <td>80</td>\n      <td>125</td>\n      <td>75</td>\n      <td>40</td>\n      <td>95</td>\n      <td>85</td>\n      <td>2</td>\n      <td>False</td>\n    </tr>\n    <tr>\n      <th>678</th>\n      <td>617</td>\n      <td>Accelgor</td>\n      <td>Bug</td>\n      <td>NaN</td>\n      <td>80</td>\n      <td>70</td>\n      <td>40</td>\n      <td>100</td>\n      <td>60</td>\n      <td>145</td>\n      <td>5</td>\n      <td>False</td>\n    </tr>\n    <tr>\n      <th>...</th>\n      <td>...</td>\n      <td>...</td>\n      <td>...</td>\n      <td>...</td>\n      <td>...</td>\n      <td>...</td>\n      <td>...</td>\n      <td>...</td>\n      <td>...</td>\n      <td>...</td>\n      <td>...</td>\n      <td>...</td>\n    </tr>\n    <tr>\n      <th>97</th>\n      <td>90</td>\n      <td>Shellder</td>\n      <td>Water</td>\n      <td>NaN</td>\n      <td>30</td>\n      <td>65</td>\n      <td>100</td>\n      <td>45</td>\n      <td>25</td>\n      <td>40</td>\n      <td>1</td>\n      <td>False</td>\n    </tr>\n    <tr>\n      <th>129</th>\n      <td>120</td>\n      <td>Staryu</td>\n      <td>Water</td>\n      <td>NaN</td>\n      <td>30</td>\n      <td>45</td>\n      <td>55</td>\n      <td>70</td>\n      <td>55</td>\n      <td>85</td>\n      <td>1</td>\n      <td>False</td>\n    </tr>\n    <tr>\n      <th>125</th>\n      <td>116</td>\n      <td>Horsea</td>\n      <td>Water</td>\n      <td>NaN</td>\n      <td>30</td>\n      <td>40</td>\n      <td>70</td>\n      <td>70</td>\n      <td>25</td>\n      <td>60</td>\n      <td>1</td>\n      <td>False</td>\n    </tr>\n    <tr>\n      <th>381</th>\n      <td>349</td>\n      <td>Feebas</td>\n      <td>Water</td>\n      <td>NaN</td>\n      <td>20</td>\n      <td>15</td>\n      <td>20</td>\n      <td>10</td>\n      <td>55</td>\n      <td>80</td>\n      <td>3</td>\n      <td>False</td>\n    </tr>\n    <tr>\n      <th>139</th>\n      <td>129</td>\n      <td>Magikarp</td>\n      <td>Water</td>\n      <td>NaN</td>\n      <td>20</td>\n      <td>10</td>\n      <td>55</td>\n      <td>15</td>\n      <td>20</td>\n      <td>80</td>\n      <td>1</td>\n      <td>False</td>\n    </tr>\n  </tbody>\n</table>\n<p>800 rows × 12 columns</p>\n</div>"
     },
     "execution_count": 940,
     "metadata": {},
     "output_type": "execute_result"
    }
   ],
   "source": [
    "pokemon_df.sort_values([\"Type 1\", \"HP\", \"Attack\"], ascending=[True, False, False])"
   ],
   "metadata": {
    "collapsed": false,
    "pycharm": {
     "name": "#%%\n"
    }
   }
  },
  {
   "cell_type": "markdown",
   "source": [
    "#### Modifying Data in Pandas"
   ],
   "metadata": {
    "collapsed": false,
    "pycharm": {
     "name": "#%% md\n"
    }
   }
  },
  {
   "cell_type": "code",
   "execution_count": 941,
   "outputs": [
    {
     "data": {
      "text/plain": "       #                   Name   Type 1    Type 2   HP  Attack  Defense  \\\n426  384  RayquazaMega Rayquaza   Dragon    Flying  105     180      100   \n164  150    MewtwoMega Mewtwo Y  Psychic       NaN  106     150       70   \n163  150    MewtwoMega Mewtwo X  Psychic  Fighting  106     190      100   \n422  382    KyogrePrimal Kyogre    Water       NaN  100     150       90   \n424  383  GroudonPrimal Groudon   Ground      Fire  100     180      160   \n..   ...                    ...      ...       ...  ...     ...      ...   \n13    10               Caterpie      Bug       NaN   45      30       35   \n288  265                Wurmple      Bug       NaN   45      45       35   \n446  401              Kricketot      Bug       NaN   37      25       41   \n322  298                Azurill   Normal     Fairy   50      20       40   \n206  191                Sunkern    Grass       NaN   30      30       30   \n\n     Sp. Atk  Sp. Def  Speed  Generation  Legendary  Total  \n426      180      100    115           3       True    780  \n164      194      120    140           1       True    780  \n163      154      100    130           1       True    780  \n422      180      160     90           3       True    770  \n424      150       90     90           3       True    770  \n..       ...      ...    ...         ...        ...    ...  \n13        20       20     45           1      False    195  \n288       20       30     20           3      False    195  \n446       25       41     25           4      False    194  \n322       20       40     20           3      False    190  \n206       30       30     30           2      False    180  \n\n[800 rows x 13 columns]",
      "text/html": "<div>\n<style scoped>\n    .dataframe tbody tr th:only-of-type {\n        vertical-align: middle;\n    }\n\n    .dataframe tbody tr th {\n        vertical-align: top;\n    }\n\n    .dataframe thead th {\n        text-align: right;\n    }\n</style>\n<table border=\"1\" class=\"dataframe\">\n  <thead>\n    <tr style=\"text-align: right;\">\n      <th></th>\n      <th>#</th>\n      <th>Name</th>\n      <th>Type 1</th>\n      <th>Type 2</th>\n      <th>HP</th>\n      <th>Attack</th>\n      <th>Defense</th>\n      <th>Sp. Atk</th>\n      <th>Sp. Def</th>\n      <th>Speed</th>\n      <th>Generation</th>\n      <th>Legendary</th>\n      <th>Total</th>\n    </tr>\n  </thead>\n  <tbody>\n    <tr>\n      <th>426</th>\n      <td>384</td>\n      <td>RayquazaMega Rayquaza</td>\n      <td>Dragon</td>\n      <td>Flying</td>\n      <td>105</td>\n      <td>180</td>\n      <td>100</td>\n      <td>180</td>\n      <td>100</td>\n      <td>115</td>\n      <td>3</td>\n      <td>True</td>\n      <td>780</td>\n    </tr>\n    <tr>\n      <th>164</th>\n      <td>150</td>\n      <td>MewtwoMega Mewtwo Y</td>\n      <td>Psychic</td>\n      <td>NaN</td>\n      <td>106</td>\n      <td>150</td>\n      <td>70</td>\n      <td>194</td>\n      <td>120</td>\n      <td>140</td>\n      <td>1</td>\n      <td>True</td>\n      <td>780</td>\n    </tr>\n    <tr>\n      <th>163</th>\n      <td>150</td>\n      <td>MewtwoMega Mewtwo X</td>\n      <td>Psychic</td>\n      <td>Fighting</td>\n      <td>106</td>\n      <td>190</td>\n      <td>100</td>\n      <td>154</td>\n      <td>100</td>\n      <td>130</td>\n      <td>1</td>\n      <td>True</td>\n      <td>780</td>\n    </tr>\n    <tr>\n      <th>422</th>\n      <td>382</td>\n      <td>KyogrePrimal Kyogre</td>\n      <td>Water</td>\n      <td>NaN</td>\n      <td>100</td>\n      <td>150</td>\n      <td>90</td>\n      <td>180</td>\n      <td>160</td>\n      <td>90</td>\n      <td>3</td>\n      <td>True</td>\n      <td>770</td>\n    </tr>\n    <tr>\n      <th>424</th>\n      <td>383</td>\n      <td>GroudonPrimal Groudon</td>\n      <td>Ground</td>\n      <td>Fire</td>\n      <td>100</td>\n      <td>180</td>\n      <td>160</td>\n      <td>150</td>\n      <td>90</td>\n      <td>90</td>\n      <td>3</td>\n      <td>True</td>\n      <td>770</td>\n    </tr>\n    <tr>\n      <th>...</th>\n      <td>...</td>\n      <td>...</td>\n      <td>...</td>\n      <td>...</td>\n      <td>...</td>\n      <td>...</td>\n      <td>...</td>\n      <td>...</td>\n      <td>...</td>\n      <td>...</td>\n      <td>...</td>\n      <td>...</td>\n      <td>...</td>\n    </tr>\n    <tr>\n      <th>13</th>\n      <td>10</td>\n      <td>Caterpie</td>\n      <td>Bug</td>\n      <td>NaN</td>\n      <td>45</td>\n      <td>30</td>\n      <td>35</td>\n      <td>20</td>\n      <td>20</td>\n      <td>45</td>\n      <td>1</td>\n      <td>False</td>\n      <td>195</td>\n    </tr>\n    <tr>\n      <th>288</th>\n      <td>265</td>\n      <td>Wurmple</td>\n      <td>Bug</td>\n      <td>NaN</td>\n      <td>45</td>\n      <td>45</td>\n      <td>35</td>\n      <td>20</td>\n      <td>30</td>\n      <td>20</td>\n      <td>3</td>\n      <td>False</td>\n      <td>195</td>\n    </tr>\n    <tr>\n      <th>446</th>\n      <td>401</td>\n      <td>Kricketot</td>\n      <td>Bug</td>\n      <td>NaN</td>\n      <td>37</td>\n      <td>25</td>\n      <td>41</td>\n      <td>25</td>\n      <td>41</td>\n      <td>25</td>\n      <td>4</td>\n      <td>False</td>\n      <td>194</td>\n    </tr>\n    <tr>\n      <th>322</th>\n      <td>298</td>\n      <td>Azurill</td>\n      <td>Normal</td>\n      <td>Fairy</td>\n      <td>50</td>\n      <td>20</td>\n      <td>40</td>\n      <td>20</td>\n      <td>40</td>\n      <td>20</td>\n      <td>3</td>\n      <td>False</td>\n      <td>190</td>\n    </tr>\n    <tr>\n      <th>206</th>\n      <td>191</td>\n      <td>Sunkern</td>\n      <td>Grass</td>\n      <td>NaN</td>\n      <td>30</td>\n      <td>30</td>\n      <td>30</td>\n      <td>30</td>\n      <td>30</td>\n      <td>30</td>\n      <td>2</td>\n      <td>False</td>\n      <td>180</td>\n    </tr>\n  </tbody>\n</table>\n<p>800 rows × 13 columns</p>\n</div>"
     },
     "execution_count": 941,
     "metadata": {},
     "output_type": "execute_result"
    }
   ],
   "source": [
    "pokemon_df[\"Total\"] = pokemon_df[\"HP\"] + pokemon_df[\"Attack\"] + pokemon_df[\"Defense\"] + pokemon_df[\"Sp. Atk\"] + pokemon_df[\"Sp. Def\"] + pokemon_df[\"Speed\"]\n",
    "\n",
    "pokemon_df = pokemon_df.drop(columns=[\"Total\"])\n",
    "\n",
    "start = pokemon_df.columns.get_loc(\"HP\")\n",
    "end = pokemon_df.columns.get_loc(\"Speed\")\n",
    "pokemon_df[\"Total\"] = np.array(pokemon_df.iloc[:, start:end+1]).sum(axis=1)\n",
    "\n",
    "pokemon_df.sort_values(\"Total\", ascending=False)"
   ],
   "metadata": {
    "collapsed": false,
    "pycharm": {
     "name": "#%%\n"
    }
   }
  },
  {
   "cell_type": "code",
   "execution_count": 942,
   "outputs": [
    {
     "data": {
      "text/plain": "   #                       Name Type 1  Type 2  Total  HP  Attack  Defense  \\\n0  1                  Bulbasaur  Grass  Poison    318  45      49       49   \n1  2                    Ivysaur  Grass  Poison    405  60      62       63   \n2  3                   Venusaur  Grass  Poison    525  80      82       83   \n3  3      VenusaurMega Venusaur  Grass  Poison    625  80     100      123   \n4  4                 Charmander   Fire     NaN    309  39      52       43   \n5  5                 Charmeleon   Fire     NaN    405  58      64       58   \n6  6                  Charizard   Fire  Flying    534  78      84       78   \n7  6  CharizardMega Charizard X   Fire  Dragon    634  78     130      111   \n8  6  CharizardMega Charizard Y   Fire  Flying    634  78     104       78   \n9  7                   Squirtle  Water     NaN    314  44      48       65   \n\n   Sp. Atk  Sp. Def  Speed  Generation  Legendary  \n0       65       65     45           1      False  \n1       80       80     60           1      False  \n2      100      100     80           1      False  \n3      122      120     80           1      False  \n4       60       50     65           1      False  \n5       80       65     80           1      False  \n6      109       85    100           1      False  \n7      130       85    100           1      False  \n8      159      115    100           1      False  \n9       50       64     43           1      False  ",
      "text/html": "<div>\n<style scoped>\n    .dataframe tbody tr th:only-of-type {\n        vertical-align: middle;\n    }\n\n    .dataframe tbody tr th {\n        vertical-align: top;\n    }\n\n    .dataframe thead th {\n        text-align: right;\n    }\n</style>\n<table border=\"1\" class=\"dataframe\">\n  <thead>\n    <tr style=\"text-align: right;\">\n      <th></th>\n      <th>#</th>\n      <th>Name</th>\n      <th>Type 1</th>\n      <th>Type 2</th>\n      <th>Total</th>\n      <th>HP</th>\n      <th>Attack</th>\n      <th>Defense</th>\n      <th>Sp. Atk</th>\n      <th>Sp. Def</th>\n      <th>Speed</th>\n      <th>Generation</th>\n      <th>Legendary</th>\n    </tr>\n  </thead>\n  <tbody>\n    <tr>\n      <th>0</th>\n      <td>1</td>\n      <td>Bulbasaur</td>\n      <td>Grass</td>\n      <td>Poison</td>\n      <td>318</td>\n      <td>45</td>\n      <td>49</td>\n      <td>49</td>\n      <td>65</td>\n      <td>65</td>\n      <td>45</td>\n      <td>1</td>\n      <td>False</td>\n    </tr>\n    <tr>\n      <th>1</th>\n      <td>2</td>\n      <td>Ivysaur</td>\n      <td>Grass</td>\n      <td>Poison</td>\n      <td>405</td>\n      <td>60</td>\n      <td>62</td>\n      <td>63</td>\n      <td>80</td>\n      <td>80</td>\n      <td>60</td>\n      <td>1</td>\n      <td>False</td>\n    </tr>\n    <tr>\n      <th>2</th>\n      <td>3</td>\n      <td>Venusaur</td>\n      <td>Grass</td>\n      <td>Poison</td>\n      <td>525</td>\n      <td>80</td>\n      <td>82</td>\n      <td>83</td>\n      <td>100</td>\n      <td>100</td>\n      <td>80</td>\n      <td>1</td>\n      <td>False</td>\n    </tr>\n    <tr>\n      <th>3</th>\n      <td>3</td>\n      <td>VenusaurMega Venusaur</td>\n      <td>Grass</td>\n      <td>Poison</td>\n      <td>625</td>\n      <td>80</td>\n      <td>100</td>\n      <td>123</td>\n      <td>122</td>\n      <td>120</td>\n      <td>80</td>\n      <td>1</td>\n      <td>False</td>\n    </tr>\n    <tr>\n      <th>4</th>\n      <td>4</td>\n      <td>Charmander</td>\n      <td>Fire</td>\n      <td>NaN</td>\n      <td>309</td>\n      <td>39</td>\n      <td>52</td>\n      <td>43</td>\n      <td>60</td>\n      <td>50</td>\n      <td>65</td>\n      <td>1</td>\n      <td>False</td>\n    </tr>\n    <tr>\n      <th>5</th>\n      <td>5</td>\n      <td>Charmeleon</td>\n      <td>Fire</td>\n      <td>NaN</td>\n      <td>405</td>\n      <td>58</td>\n      <td>64</td>\n      <td>58</td>\n      <td>80</td>\n      <td>65</td>\n      <td>80</td>\n      <td>1</td>\n      <td>False</td>\n    </tr>\n    <tr>\n      <th>6</th>\n      <td>6</td>\n      <td>Charizard</td>\n      <td>Fire</td>\n      <td>Flying</td>\n      <td>534</td>\n      <td>78</td>\n      <td>84</td>\n      <td>78</td>\n      <td>109</td>\n      <td>85</td>\n      <td>100</td>\n      <td>1</td>\n      <td>False</td>\n    </tr>\n    <tr>\n      <th>7</th>\n      <td>6</td>\n      <td>CharizardMega Charizard X</td>\n      <td>Fire</td>\n      <td>Dragon</td>\n      <td>634</td>\n      <td>78</td>\n      <td>130</td>\n      <td>111</td>\n      <td>130</td>\n      <td>85</td>\n      <td>100</td>\n      <td>1</td>\n      <td>False</td>\n    </tr>\n    <tr>\n      <th>8</th>\n      <td>6</td>\n      <td>CharizardMega Charizard Y</td>\n      <td>Fire</td>\n      <td>Flying</td>\n      <td>634</td>\n      <td>78</td>\n      <td>104</td>\n      <td>78</td>\n      <td>159</td>\n      <td>115</td>\n      <td>100</td>\n      <td>1</td>\n      <td>False</td>\n    </tr>\n    <tr>\n      <th>9</th>\n      <td>7</td>\n      <td>Squirtle</td>\n      <td>Water</td>\n      <td>NaN</td>\n      <td>314</td>\n      <td>44</td>\n      <td>48</td>\n      <td>65</td>\n      <td>50</td>\n      <td>64</td>\n      <td>43</td>\n      <td>1</td>\n      <td>False</td>\n    </tr>\n  </tbody>\n</table>\n</div>"
     },
     "execution_count": 942,
     "metadata": {},
     "output_type": "execute_result"
    }
   ],
   "source": [
    "columns = list(pokemon_df.columns.values)\n",
    "\n",
    "startEnd = pokemon_df.columns.get_loc(\"Type 2\")\n",
    "midStart = pokemon_df.columns.get_loc(\"Total\")\n",
    "pokemon_df = pokemon_df[columns[:startEnd+1] + columns[midStart:] + columns[startEnd+1:midStart]]\n",
    "pokemon_df.head(10)"
   ],
   "metadata": {
    "collapsed": false,
    "pycharm": {
     "name": "#%%\n"
    }
   }
  },
  {
   "cell_type": "markdown",
   "source": [
    "#### Saving new DataFrame as CSV file"
   ],
   "metadata": {
    "collapsed": false,
    "pycharm": {
     "name": "#%% md\n"
    }
   }
  },
  {
   "cell_type": "code",
   "execution_count": 943,
   "outputs": [],
   "source": [
    "# pokemon_df.to_csv(\"pokemon_data_new.csv\", index=False, sep=\"\\t\")"
   ],
   "metadata": {
    "collapsed": false,
    "pycharm": {
     "name": "#%%\n"
    }
   }
  },
  {
   "cell_type": "code",
   "execution_count": 944,
   "outputs": [],
   "source": [
    "# pokemon_df.to_excel(\"pokemon_data_new.xlsx\", index=False)"
   ],
   "metadata": {
    "collapsed": false,
    "pycharm": {
     "name": "#%%\n"
    }
   }
  },
  {
   "cell_type": "markdown",
   "source": [
    "#### Filering data in DataFrame"
   ],
   "metadata": {
    "collapsed": false,
    "pycharm": {
     "name": "#%% md\n"
    }
   }
  },
  {
   "cell_type": "code",
   "execution_count": 945,
   "outputs": [],
   "source": [
    "new_df = pokemon_df.loc[((pokemon_df[\"Type 1\"] == \"Poison\") | (pokemon_df[\"Type 2\"] == \"Grass\")) & (pokemon_df[\"HP\"] >= 80)]"
   ],
   "metadata": {
    "collapsed": false,
    "pycharm": {
     "name": "#%%\n"
    }
   }
  },
  {
   "cell_type": "code",
   "execution_count": 946,
   "outputs": [
    {
     "data": {
      "text/plain": "     #       Name  Type 1  Type 2  Total   HP  Attack  Defense  Sp. Atk  \\\n0   31  Nidoqueen  Poison  Ground    505   90      92       87       75   \n1   34   Nidoking  Poison  Ground    505   81     102       77       85   \n2   88     Grimer  Poison     NaN    325   80      80       50       40   \n3   89        Muk  Poison     NaN    500  105     105       75       65   \n4  169     Crobat  Poison  Flying    535   85      90       80       70   \n\n   Sp. Def  Speed  Generation  Legendary  \n0       85     76           1      False  \n1       75     85           1      False  \n2       50     25           1      False  \n3      100     50           1      False  \n4       80    130           2      False  ",
      "text/html": "<div>\n<style scoped>\n    .dataframe tbody tr th:only-of-type {\n        vertical-align: middle;\n    }\n\n    .dataframe tbody tr th {\n        vertical-align: top;\n    }\n\n    .dataframe thead th {\n        text-align: right;\n    }\n</style>\n<table border=\"1\" class=\"dataframe\">\n  <thead>\n    <tr style=\"text-align: right;\">\n      <th></th>\n      <th>#</th>\n      <th>Name</th>\n      <th>Type 1</th>\n      <th>Type 2</th>\n      <th>Total</th>\n      <th>HP</th>\n      <th>Attack</th>\n      <th>Defense</th>\n      <th>Sp. Atk</th>\n      <th>Sp. Def</th>\n      <th>Speed</th>\n      <th>Generation</th>\n      <th>Legendary</th>\n    </tr>\n  </thead>\n  <tbody>\n    <tr>\n      <th>0</th>\n      <td>31</td>\n      <td>Nidoqueen</td>\n      <td>Poison</td>\n      <td>Ground</td>\n      <td>505</td>\n      <td>90</td>\n      <td>92</td>\n      <td>87</td>\n      <td>75</td>\n      <td>85</td>\n      <td>76</td>\n      <td>1</td>\n      <td>False</td>\n    </tr>\n    <tr>\n      <th>1</th>\n      <td>34</td>\n      <td>Nidoking</td>\n      <td>Poison</td>\n      <td>Ground</td>\n      <td>505</td>\n      <td>81</td>\n      <td>102</td>\n      <td>77</td>\n      <td>85</td>\n      <td>75</td>\n      <td>85</td>\n      <td>1</td>\n      <td>False</td>\n    </tr>\n    <tr>\n      <th>2</th>\n      <td>88</td>\n      <td>Grimer</td>\n      <td>Poison</td>\n      <td>NaN</td>\n      <td>325</td>\n      <td>80</td>\n      <td>80</td>\n      <td>50</td>\n      <td>40</td>\n      <td>50</td>\n      <td>25</td>\n      <td>1</td>\n      <td>False</td>\n    </tr>\n    <tr>\n      <th>3</th>\n      <td>89</td>\n      <td>Muk</td>\n      <td>Poison</td>\n      <td>NaN</td>\n      <td>500</td>\n      <td>105</td>\n      <td>105</td>\n      <td>75</td>\n      <td>65</td>\n      <td>100</td>\n      <td>50</td>\n      <td>1</td>\n      <td>False</td>\n    </tr>\n    <tr>\n      <th>4</th>\n      <td>169</td>\n      <td>Crobat</td>\n      <td>Poison</td>\n      <td>Flying</td>\n      <td>535</td>\n      <td>85</td>\n      <td>90</td>\n      <td>80</td>\n      <td>70</td>\n      <td>80</td>\n      <td>130</td>\n      <td>2</td>\n      <td>False</td>\n    </tr>\n  </tbody>\n</table>\n</div>"
     },
     "execution_count": 946,
     "metadata": {},
     "output_type": "execute_result"
    }
   ],
   "source": [
    "new_df.reset_index(drop=True, inplace=True)\n",
    "new_df.head(5)"
   ],
   "metadata": {
    "collapsed": false,
    "pycharm": {
     "name": "#%%\n"
    }
   }
  },
  {
   "cell_type": "code",
   "execution_count": 947,
   "outputs": [
    {
     "data": {
      "text/plain": "   index   #                       Name Type 1  Type 2  Total  HP  Attack  \\\n0      3   3      VenusaurMega Venusaur  Grass  Poison    625  80     100   \n1      7   6  CharizardMega Charizard X   Fire  Dragon    634  78     130   \n2      8   6  CharizardMega Charizard Y   Fire  Flying    634  78     104   \n3     12   9    BlastoiseMega Blastoise  Water     NaN    630  79     103   \n4     19  15      BeedrillMega Beedrill    Bug  Poison    495  65     150   \n\n   Defense  Sp. Atk  Sp. Def  Speed  Generation  Legendary  \n0      123      122      120     80           1      False  \n1      111      130       85    100           1      False  \n2       78      159      115    100           1      False  \n3      120      135      115     78           1      False  \n4       40       15       80    145           1      False  ",
      "text/html": "<div>\n<style scoped>\n    .dataframe tbody tr th:only-of-type {\n        vertical-align: middle;\n    }\n\n    .dataframe tbody tr th {\n        vertical-align: top;\n    }\n\n    .dataframe thead th {\n        text-align: right;\n    }\n</style>\n<table border=\"1\" class=\"dataframe\">\n  <thead>\n    <tr style=\"text-align: right;\">\n      <th></th>\n      <th>index</th>\n      <th>#</th>\n      <th>Name</th>\n      <th>Type 1</th>\n      <th>Type 2</th>\n      <th>Total</th>\n      <th>HP</th>\n      <th>Attack</th>\n      <th>Defense</th>\n      <th>Sp. Atk</th>\n      <th>Sp. Def</th>\n      <th>Speed</th>\n      <th>Generation</th>\n      <th>Legendary</th>\n    </tr>\n  </thead>\n  <tbody>\n    <tr>\n      <th>0</th>\n      <td>3</td>\n      <td>3</td>\n      <td>VenusaurMega Venusaur</td>\n      <td>Grass</td>\n      <td>Poison</td>\n      <td>625</td>\n      <td>80</td>\n      <td>100</td>\n      <td>123</td>\n      <td>122</td>\n      <td>120</td>\n      <td>80</td>\n      <td>1</td>\n      <td>False</td>\n    </tr>\n    <tr>\n      <th>1</th>\n      <td>7</td>\n      <td>6</td>\n      <td>CharizardMega Charizard X</td>\n      <td>Fire</td>\n      <td>Dragon</td>\n      <td>634</td>\n      <td>78</td>\n      <td>130</td>\n      <td>111</td>\n      <td>130</td>\n      <td>85</td>\n      <td>100</td>\n      <td>1</td>\n      <td>False</td>\n    </tr>\n    <tr>\n      <th>2</th>\n      <td>8</td>\n      <td>6</td>\n      <td>CharizardMega Charizard Y</td>\n      <td>Fire</td>\n      <td>Flying</td>\n      <td>634</td>\n      <td>78</td>\n      <td>104</td>\n      <td>78</td>\n      <td>159</td>\n      <td>115</td>\n      <td>100</td>\n      <td>1</td>\n      <td>False</td>\n    </tr>\n    <tr>\n      <th>3</th>\n      <td>12</td>\n      <td>9</td>\n      <td>BlastoiseMega Blastoise</td>\n      <td>Water</td>\n      <td>NaN</td>\n      <td>630</td>\n      <td>79</td>\n      <td>103</td>\n      <td>120</td>\n      <td>135</td>\n      <td>115</td>\n      <td>78</td>\n      <td>1</td>\n      <td>False</td>\n    </tr>\n    <tr>\n      <th>4</th>\n      <td>19</td>\n      <td>15</td>\n      <td>BeedrillMega Beedrill</td>\n      <td>Bug</td>\n      <td>Poison</td>\n      <td>495</td>\n      <td>65</td>\n      <td>150</td>\n      <td>40</td>\n      <td>15</td>\n      <td>80</td>\n      <td>145</td>\n      <td>1</td>\n      <td>False</td>\n    </tr>\n  </tbody>\n</table>\n</div>"
     },
     "execution_count": 947,
     "metadata": {},
     "output_type": "execute_result"
    }
   ],
   "source": [
    "other_df = pokemon_df.loc[(pokemon_df[\"Name\"].str.contains(\"Mega \"))]\n",
    "other_df = other_df.reset_index(drop=False, inplace=False)\n",
    "other_df.head(5)"
   ],
   "metadata": {
    "collapsed": false,
    "pycharm": {
     "name": "#%%\n"
    }
   }
  },
  {
   "cell_type": "code",
   "execution_count": 948,
   "outputs": [
    {
     "data": {
      "text/plain": "   index  #        Name Type 1  Type 2  Total  HP  Attack  Defense  Sp. Atk  \\\n0      0  1   Bulbasaur  Grass  Poison    318  45      49       49       65   \n1      1  2     Ivysaur  Grass  Poison    405  60      62       63       80   \n2      2  3    Venusaur  Grass  Poison    525  80      82       83      100   \n3      4  4  Charmander   Fire     NaN    309  39      52       43       60   \n4      5  5  Charmeleon   Fire     NaN    405  58      64       58       80   \n\n   Sp. Def  Speed  Generation  Legendary  \n0       65     45           1      False  \n1       80     60           1      False  \n2      100     80           1      False  \n3       50     65           1      False  \n4       65     80           1      False  ",
      "text/html": "<div>\n<style scoped>\n    .dataframe tbody tr th:only-of-type {\n        vertical-align: middle;\n    }\n\n    .dataframe tbody tr th {\n        vertical-align: top;\n    }\n\n    .dataframe thead th {\n        text-align: right;\n    }\n</style>\n<table border=\"1\" class=\"dataframe\">\n  <thead>\n    <tr style=\"text-align: right;\">\n      <th></th>\n      <th>index</th>\n      <th>#</th>\n      <th>Name</th>\n      <th>Type 1</th>\n      <th>Type 2</th>\n      <th>Total</th>\n      <th>HP</th>\n      <th>Attack</th>\n      <th>Defense</th>\n      <th>Sp. Atk</th>\n      <th>Sp. Def</th>\n      <th>Speed</th>\n      <th>Generation</th>\n      <th>Legendary</th>\n    </tr>\n  </thead>\n  <tbody>\n    <tr>\n      <th>0</th>\n      <td>0</td>\n      <td>1</td>\n      <td>Bulbasaur</td>\n      <td>Grass</td>\n      <td>Poison</td>\n      <td>318</td>\n      <td>45</td>\n      <td>49</td>\n      <td>49</td>\n      <td>65</td>\n      <td>65</td>\n      <td>45</td>\n      <td>1</td>\n      <td>False</td>\n    </tr>\n    <tr>\n      <th>1</th>\n      <td>1</td>\n      <td>2</td>\n      <td>Ivysaur</td>\n      <td>Grass</td>\n      <td>Poison</td>\n      <td>405</td>\n      <td>60</td>\n      <td>62</td>\n      <td>63</td>\n      <td>80</td>\n      <td>80</td>\n      <td>60</td>\n      <td>1</td>\n      <td>False</td>\n    </tr>\n    <tr>\n      <th>2</th>\n      <td>2</td>\n      <td>3</td>\n      <td>Venusaur</td>\n      <td>Grass</td>\n      <td>Poison</td>\n      <td>525</td>\n      <td>80</td>\n      <td>82</td>\n      <td>83</td>\n      <td>100</td>\n      <td>100</td>\n      <td>80</td>\n      <td>1</td>\n      <td>False</td>\n    </tr>\n    <tr>\n      <th>3</th>\n      <td>4</td>\n      <td>4</td>\n      <td>Charmander</td>\n      <td>Fire</td>\n      <td>NaN</td>\n      <td>309</td>\n      <td>39</td>\n      <td>52</td>\n      <td>43</td>\n      <td>60</td>\n      <td>50</td>\n      <td>65</td>\n      <td>1</td>\n      <td>False</td>\n    </tr>\n    <tr>\n      <th>4</th>\n      <td>5</td>\n      <td>5</td>\n      <td>Charmeleon</td>\n      <td>Fire</td>\n      <td>NaN</td>\n      <td>405</td>\n      <td>58</td>\n      <td>64</td>\n      <td>58</td>\n      <td>80</td>\n      <td>65</td>\n      <td>80</td>\n      <td>1</td>\n      <td>False</td>\n    </tr>\n  </tbody>\n</table>\n</div>"
     },
     "execution_count": 948,
     "metadata": {},
     "output_type": "execute_result"
    }
   ],
   "source": [
    "# negate the condition with \"~\" in front of it (instead of \"!\")\n",
    "negation_df = pokemon_df.loc[~pokemon_df[\"Name\"].str.contains(\"Mega \")]\n",
    "negation_df.reset_index(drop=False, inplace=True)\n",
    "negation_df.head(5)"
   ],
   "metadata": {
    "collapsed": false,
    "pycharm": {
     "name": "#%%\n"
    }
   }
  },
  {
   "cell_type": "code",
   "execution_count": 949,
   "outputs": [
    {
     "data": {
      "text/plain": "       #                   Name Type 1  Type 2  Total   HP  Attack  Defense  \\\n0      1              Bulbasaur  Grass  Poison    318   45      49       49   \n1      2                Ivysaur  Grass  Poison    405   60      62       63   \n2      3               Venusaur  Grass  Poison    525   80      82       83   \n3      3  VenusaurMega Venusaur  Grass  Poison    625   80     100      123   \n4      4             Charmander   Fire     NaN    309   39      52       43   \n..   ...                    ...    ...     ...    ...  ...     ...      ...   \n735  667                 Litleo   Fire  Normal    369   62      50       58   \n736  668                 Pyroar   Fire  Normal    507   86      68       72   \n740  672                 Skiddo  Grass     NaN    350   66      65       48   \n741  673                 Gogoat  Grass     NaN    531  123     100       62   \n799  721              Volcanion   Fire   Water    600   80     110      120   \n\n     Sp. Atk  Sp. Def  Speed  Generation  Legendary  \n0         65       65     45           1      False  \n1         80       80     60           1      False  \n2        100      100     80           1      False  \n3        122      120     80           1      False  \n4         60       50     65           1      False  \n..       ...      ...    ...         ...        ...  \n735       73       54     72           6      False  \n736      109       66    106           6      False  \n740       62       57     52           6      False  \n741       97       81     68           6      False  \n799      130       90     70           6       True  \n\n[122 rows x 13 columns]",
      "text/html": "<div>\n<style scoped>\n    .dataframe tbody tr th:only-of-type {\n        vertical-align: middle;\n    }\n\n    .dataframe tbody tr th {\n        vertical-align: top;\n    }\n\n    .dataframe thead th {\n        text-align: right;\n    }\n</style>\n<table border=\"1\" class=\"dataframe\">\n  <thead>\n    <tr style=\"text-align: right;\">\n      <th></th>\n      <th>#</th>\n      <th>Name</th>\n      <th>Type 1</th>\n      <th>Type 2</th>\n      <th>Total</th>\n      <th>HP</th>\n      <th>Attack</th>\n      <th>Defense</th>\n      <th>Sp. Atk</th>\n      <th>Sp. Def</th>\n      <th>Speed</th>\n      <th>Generation</th>\n      <th>Legendary</th>\n    </tr>\n  </thead>\n  <tbody>\n    <tr>\n      <th>0</th>\n      <td>1</td>\n      <td>Bulbasaur</td>\n      <td>Grass</td>\n      <td>Poison</td>\n      <td>318</td>\n      <td>45</td>\n      <td>49</td>\n      <td>49</td>\n      <td>65</td>\n      <td>65</td>\n      <td>45</td>\n      <td>1</td>\n      <td>False</td>\n    </tr>\n    <tr>\n      <th>1</th>\n      <td>2</td>\n      <td>Ivysaur</td>\n      <td>Grass</td>\n      <td>Poison</td>\n      <td>405</td>\n      <td>60</td>\n      <td>62</td>\n      <td>63</td>\n      <td>80</td>\n      <td>80</td>\n      <td>60</td>\n      <td>1</td>\n      <td>False</td>\n    </tr>\n    <tr>\n      <th>2</th>\n      <td>3</td>\n      <td>Venusaur</td>\n      <td>Grass</td>\n      <td>Poison</td>\n      <td>525</td>\n      <td>80</td>\n      <td>82</td>\n      <td>83</td>\n      <td>100</td>\n      <td>100</td>\n      <td>80</td>\n      <td>1</td>\n      <td>False</td>\n    </tr>\n    <tr>\n      <th>3</th>\n      <td>3</td>\n      <td>VenusaurMega Venusaur</td>\n      <td>Grass</td>\n      <td>Poison</td>\n      <td>625</td>\n      <td>80</td>\n      <td>100</td>\n      <td>123</td>\n      <td>122</td>\n      <td>120</td>\n      <td>80</td>\n      <td>1</td>\n      <td>False</td>\n    </tr>\n    <tr>\n      <th>4</th>\n      <td>4</td>\n      <td>Charmander</td>\n      <td>Fire</td>\n      <td>NaN</td>\n      <td>309</td>\n      <td>39</td>\n      <td>52</td>\n      <td>43</td>\n      <td>60</td>\n      <td>50</td>\n      <td>65</td>\n      <td>1</td>\n      <td>False</td>\n    </tr>\n    <tr>\n      <th>...</th>\n      <td>...</td>\n      <td>...</td>\n      <td>...</td>\n      <td>...</td>\n      <td>...</td>\n      <td>...</td>\n      <td>...</td>\n      <td>...</td>\n      <td>...</td>\n      <td>...</td>\n      <td>...</td>\n      <td>...</td>\n      <td>...</td>\n    </tr>\n    <tr>\n      <th>735</th>\n      <td>667</td>\n      <td>Litleo</td>\n      <td>Fire</td>\n      <td>Normal</td>\n      <td>369</td>\n      <td>62</td>\n      <td>50</td>\n      <td>58</td>\n      <td>73</td>\n      <td>54</td>\n      <td>72</td>\n      <td>6</td>\n      <td>False</td>\n    </tr>\n    <tr>\n      <th>736</th>\n      <td>668</td>\n      <td>Pyroar</td>\n      <td>Fire</td>\n      <td>Normal</td>\n      <td>507</td>\n      <td>86</td>\n      <td>68</td>\n      <td>72</td>\n      <td>109</td>\n      <td>66</td>\n      <td>106</td>\n      <td>6</td>\n      <td>False</td>\n    </tr>\n    <tr>\n      <th>740</th>\n      <td>672</td>\n      <td>Skiddo</td>\n      <td>Grass</td>\n      <td>NaN</td>\n      <td>350</td>\n      <td>66</td>\n      <td>65</td>\n      <td>48</td>\n      <td>62</td>\n      <td>57</td>\n      <td>52</td>\n      <td>6</td>\n      <td>False</td>\n    </tr>\n    <tr>\n      <th>741</th>\n      <td>673</td>\n      <td>Gogoat</td>\n      <td>Grass</td>\n      <td>NaN</td>\n      <td>531</td>\n      <td>123</td>\n      <td>100</td>\n      <td>62</td>\n      <td>97</td>\n      <td>81</td>\n      <td>68</td>\n      <td>6</td>\n      <td>False</td>\n    </tr>\n    <tr>\n      <th>799</th>\n      <td>721</td>\n      <td>Volcanion</td>\n      <td>Fire</td>\n      <td>Water</td>\n      <td>600</td>\n      <td>80</td>\n      <td>110</td>\n      <td>120</td>\n      <td>130</td>\n      <td>90</td>\n      <td>70</td>\n      <td>6</td>\n      <td>True</td>\n    </tr>\n  </tbody>\n</table>\n<p>122 rows × 13 columns</p>\n</div>"
     },
     "execution_count": 949,
     "metadata": {},
     "output_type": "execute_result"
    }
   ],
   "source": [
    "import re\n",
    "pokemon_df.loc[pokemon_df[\"Type 1\"].str.contains(\"fire|grass\", regex=True, flags=re.I)]"
   ],
   "metadata": {
    "collapsed": false,
    "pycharm": {
     "name": "#%%\n"
    }
   }
  },
  {
   "cell_type": "code",
   "execution_count": 950,
   "outputs": [
    {
     "data": {
      "text/plain": "       #                 Name    Type 1    Type 2  Total   HP  Attack  \\\n20    16               Pidgey    Normal    Flying    251   40      45   \n21    17            Pidgeotto    Normal    Flying    349   63      60   \n22    18              Pidgeot    Normal    Flying    479   83      80   \n23    18  PidgeotMega Pidgeot    Normal    Flying    579   83      80   \n30    25              Pikachu  Electric       NaN    320   35      55   \n136  127               Pinsir       Bug       NaN    500   65     125   \n137  127    PinsirMega Pinsir       Bug    Flying    600   65     155   \n186  172                Pichu  Electric       NaN    205   20      40   \n219  204               Pineco       Bug       NaN    290   50      65   \n239  221            Piloswine       Ice    Ground    450  100     100   \n438  393               Piplup     Water       NaN    314   53      51   \n558  499              Pignite      Fire  Fighting    418   90      93   \n578  519               Pidove    Normal    Flying    264   50      55   \n\n     Defense  Sp. Atk  Sp. Def  Speed  Generation  Legendary  \n20        40       35       35     56           1      False  \n21        55       50       50     71           1      False  \n22        75       70       70    101           1      False  \n23        80      135       80    121           1      False  \n30        40       50       50     90           1      False  \n136      100       55       70     85           1      False  \n137      120       65       90    105           1      False  \n186       15       35       35     60           2      False  \n219       90       35       35     15           2      False  \n239       80       60       60     50           2      False  \n438       53       61       56     40           4      False  \n558       55       70       55     55           5      False  \n578       50       36       30     43           5      False  ",
      "text/html": "<div>\n<style scoped>\n    .dataframe tbody tr th:only-of-type {\n        vertical-align: middle;\n    }\n\n    .dataframe tbody tr th {\n        vertical-align: top;\n    }\n\n    .dataframe thead th {\n        text-align: right;\n    }\n</style>\n<table border=\"1\" class=\"dataframe\">\n  <thead>\n    <tr style=\"text-align: right;\">\n      <th></th>\n      <th>#</th>\n      <th>Name</th>\n      <th>Type 1</th>\n      <th>Type 2</th>\n      <th>Total</th>\n      <th>HP</th>\n      <th>Attack</th>\n      <th>Defense</th>\n      <th>Sp. Atk</th>\n      <th>Sp. Def</th>\n      <th>Speed</th>\n      <th>Generation</th>\n      <th>Legendary</th>\n    </tr>\n  </thead>\n  <tbody>\n    <tr>\n      <th>20</th>\n      <td>16</td>\n      <td>Pidgey</td>\n      <td>Normal</td>\n      <td>Flying</td>\n      <td>251</td>\n      <td>40</td>\n      <td>45</td>\n      <td>40</td>\n      <td>35</td>\n      <td>35</td>\n      <td>56</td>\n      <td>1</td>\n      <td>False</td>\n    </tr>\n    <tr>\n      <th>21</th>\n      <td>17</td>\n      <td>Pidgeotto</td>\n      <td>Normal</td>\n      <td>Flying</td>\n      <td>349</td>\n      <td>63</td>\n      <td>60</td>\n      <td>55</td>\n      <td>50</td>\n      <td>50</td>\n      <td>71</td>\n      <td>1</td>\n      <td>False</td>\n    </tr>\n    <tr>\n      <th>22</th>\n      <td>18</td>\n      <td>Pidgeot</td>\n      <td>Normal</td>\n      <td>Flying</td>\n      <td>479</td>\n      <td>83</td>\n      <td>80</td>\n      <td>75</td>\n      <td>70</td>\n      <td>70</td>\n      <td>101</td>\n      <td>1</td>\n      <td>False</td>\n    </tr>\n    <tr>\n      <th>23</th>\n      <td>18</td>\n      <td>PidgeotMega Pidgeot</td>\n      <td>Normal</td>\n      <td>Flying</td>\n      <td>579</td>\n      <td>83</td>\n      <td>80</td>\n      <td>80</td>\n      <td>135</td>\n      <td>80</td>\n      <td>121</td>\n      <td>1</td>\n      <td>False</td>\n    </tr>\n    <tr>\n      <th>30</th>\n      <td>25</td>\n      <td>Pikachu</td>\n      <td>Electric</td>\n      <td>NaN</td>\n      <td>320</td>\n      <td>35</td>\n      <td>55</td>\n      <td>40</td>\n      <td>50</td>\n      <td>50</td>\n      <td>90</td>\n      <td>1</td>\n      <td>False</td>\n    </tr>\n    <tr>\n      <th>136</th>\n      <td>127</td>\n      <td>Pinsir</td>\n      <td>Bug</td>\n      <td>NaN</td>\n      <td>500</td>\n      <td>65</td>\n      <td>125</td>\n      <td>100</td>\n      <td>55</td>\n      <td>70</td>\n      <td>85</td>\n      <td>1</td>\n      <td>False</td>\n    </tr>\n    <tr>\n      <th>137</th>\n      <td>127</td>\n      <td>PinsirMega Pinsir</td>\n      <td>Bug</td>\n      <td>Flying</td>\n      <td>600</td>\n      <td>65</td>\n      <td>155</td>\n      <td>120</td>\n      <td>65</td>\n      <td>90</td>\n      <td>105</td>\n      <td>1</td>\n      <td>False</td>\n    </tr>\n    <tr>\n      <th>186</th>\n      <td>172</td>\n      <td>Pichu</td>\n      <td>Electric</td>\n      <td>NaN</td>\n      <td>205</td>\n      <td>20</td>\n      <td>40</td>\n      <td>15</td>\n      <td>35</td>\n      <td>35</td>\n      <td>60</td>\n      <td>2</td>\n      <td>False</td>\n    </tr>\n    <tr>\n      <th>219</th>\n      <td>204</td>\n      <td>Pineco</td>\n      <td>Bug</td>\n      <td>NaN</td>\n      <td>290</td>\n      <td>50</td>\n      <td>65</td>\n      <td>90</td>\n      <td>35</td>\n      <td>35</td>\n      <td>15</td>\n      <td>2</td>\n      <td>False</td>\n    </tr>\n    <tr>\n      <th>239</th>\n      <td>221</td>\n      <td>Piloswine</td>\n      <td>Ice</td>\n      <td>Ground</td>\n      <td>450</td>\n      <td>100</td>\n      <td>100</td>\n      <td>80</td>\n      <td>60</td>\n      <td>60</td>\n      <td>50</td>\n      <td>2</td>\n      <td>False</td>\n    </tr>\n    <tr>\n      <th>438</th>\n      <td>393</td>\n      <td>Piplup</td>\n      <td>Water</td>\n      <td>NaN</td>\n      <td>314</td>\n      <td>53</td>\n      <td>51</td>\n      <td>53</td>\n      <td>61</td>\n      <td>56</td>\n      <td>40</td>\n      <td>4</td>\n      <td>False</td>\n    </tr>\n    <tr>\n      <th>558</th>\n      <td>499</td>\n      <td>Pignite</td>\n      <td>Fire</td>\n      <td>Fighting</td>\n      <td>418</td>\n      <td>90</td>\n      <td>93</td>\n      <td>55</td>\n      <td>70</td>\n      <td>55</td>\n      <td>55</td>\n      <td>5</td>\n      <td>False</td>\n    </tr>\n    <tr>\n      <th>578</th>\n      <td>519</td>\n      <td>Pidove</td>\n      <td>Normal</td>\n      <td>Flying</td>\n      <td>264</td>\n      <td>50</td>\n      <td>55</td>\n      <td>50</td>\n      <td>36</td>\n      <td>30</td>\n      <td>43</td>\n      <td>5</td>\n      <td>False</td>\n    </tr>\n  </tbody>\n</table>\n</div>"
     },
     "execution_count": 950,
     "metadata": {},
     "output_type": "execute_result"
    }
   ],
   "source": [
    "pokemon_df.loc[pokemon_df[\"Name\"].str.contains(\"^pi[a-z]*\", regex=True, flags=re.I)]"
   ],
   "metadata": {
    "collapsed": false,
    "pycharm": {
     "name": "#%%\n"
    }
   }
  },
  {
   "cell_type": "markdown",
   "source": [
    "#### Conditional Modification of DataFrame"
   ],
   "metadata": {
    "collapsed": false,
    "pycharm": {
     "name": "#%% md\n"
    }
   }
  },
  {
   "cell_type": "code",
   "execution_count": 951,
   "outputs": [
    {
     "data": {
      "text/plain": "       #                   Name   Type 1  Type 2  Total  HP  Attack  Defense  \\\n0      1              Bulbasaur    Grass  Poison    318  45      49       49   \n1      2                Ivysaur    Grass  Poison    405  60      62       63   \n2      3               Venusaur    Grass  Poison    525  80      82       83   \n3      3  VenusaurMega Venusaur    Grass  Poison    625  80     100      123   \n4      4             Charmander   Flamer     NaN    309  39      52       43   \n..   ...                    ...      ...     ...    ...  ..     ...      ...   \n795  719                Diancie     Rock   Fairy    600  50     100      150   \n796  719    DiancieMega Diancie     Rock   Fairy    700  50     160      110   \n797  720    HoopaHoopa Confined  Psychic   Ghost    600  80     110       60   \n798  720     HoopaHoopa Unbound  Psychic    Dark    680  80     160       60   \n799  721              Volcanion   Flamer   Water    600  80     110      120   \n\n     Sp. Atk  Sp. Def  Speed  Generation  Legendary  \n0         65       65     45           1      False  \n1         80       80     60           1      False  \n2        100      100     80           1      False  \n3        122      120     80           1      False  \n4         60       50     65           1      False  \n..       ...      ...    ...         ...        ...  \n795      100      150     50           6       True  \n796      160      110    110           6       True  \n797      150      130     70           6       True  \n798      170      130     80           6       True  \n799      130       90     70           6       True  \n\n[800 rows x 13 columns]",
      "text/html": "<div>\n<style scoped>\n    .dataframe tbody tr th:only-of-type {\n        vertical-align: middle;\n    }\n\n    .dataframe tbody tr th {\n        vertical-align: top;\n    }\n\n    .dataframe thead th {\n        text-align: right;\n    }\n</style>\n<table border=\"1\" class=\"dataframe\">\n  <thead>\n    <tr style=\"text-align: right;\">\n      <th></th>\n      <th>#</th>\n      <th>Name</th>\n      <th>Type 1</th>\n      <th>Type 2</th>\n      <th>Total</th>\n      <th>HP</th>\n      <th>Attack</th>\n      <th>Defense</th>\n      <th>Sp. Atk</th>\n      <th>Sp. Def</th>\n      <th>Speed</th>\n      <th>Generation</th>\n      <th>Legendary</th>\n    </tr>\n  </thead>\n  <tbody>\n    <tr>\n      <th>0</th>\n      <td>1</td>\n      <td>Bulbasaur</td>\n      <td>Grass</td>\n      <td>Poison</td>\n      <td>318</td>\n      <td>45</td>\n      <td>49</td>\n      <td>49</td>\n      <td>65</td>\n      <td>65</td>\n      <td>45</td>\n      <td>1</td>\n      <td>False</td>\n    </tr>\n    <tr>\n      <th>1</th>\n      <td>2</td>\n      <td>Ivysaur</td>\n      <td>Grass</td>\n      <td>Poison</td>\n      <td>405</td>\n      <td>60</td>\n      <td>62</td>\n      <td>63</td>\n      <td>80</td>\n      <td>80</td>\n      <td>60</td>\n      <td>1</td>\n      <td>False</td>\n    </tr>\n    <tr>\n      <th>2</th>\n      <td>3</td>\n      <td>Venusaur</td>\n      <td>Grass</td>\n      <td>Poison</td>\n      <td>525</td>\n      <td>80</td>\n      <td>82</td>\n      <td>83</td>\n      <td>100</td>\n      <td>100</td>\n      <td>80</td>\n      <td>1</td>\n      <td>False</td>\n    </tr>\n    <tr>\n      <th>3</th>\n      <td>3</td>\n      <td>VenusaurMega Venusaur</td>\n      <td>Grass</td>\n      <td>Poison</td>\n      <td>625</td>\n      <td>80</td>\n      <td>100</td>\n      <td>123</td>\n      <td>122</td>\n      <td>120</td>\n      <td>80</td>\n      <td>1</td>\n      <td>False</td>\n    </tr>\n    <tr>\n      <th>4</th>\n      <td>4</td>\n      <td>Charmander</td>\n      <td>Flamer</td>\n      <td>NaN</td>\n      <td>309</td>\n      <td>39</td>\n      <td>52</td>\n      <td>43</td>\n      <td>60</td>\n      <td>50</td>\n      <td>65</td>\n      <td>1</td>\n      <td>False</td>\n    </tr>\n    <tr>\n      <th>...</th>\n      <td>...</td>\n      <td>...</td>\n      <td>...</td>\n      <td>...</td>\n      <td>...</td>\n      <td>...</td>\n      <td>...</td>\n      <td>...</td>\n      <td>...</td>\n      <td>...</td>\n      <td>...</td>\n      <td>...</td>\n      <td>...</td>\n    </tr>\n    <tr>\n      <th>795</th>\n      <td>719</td>\n      <td>Diancie</td>\n      <td>Rock</td>\n      <td>Fairy</td>\n      <td>600</td>\n      <td>50</td>\n      <td>100</td>\n      <td>150</td>\n      <td>100</td>\n      <td>150</td>\n      <td>50</td>\n      <td>6</td>\n      <td>True</td>\n    </tr>\n    <tr>\n      <th>796</th>\n      <td>719</td>\n      <td>DiancieMega Diancie</td>\n      <td>Rock</td>\n      <td>Fairy</td>\n      <td>700</td>\n      <td>50</td>\n      <td>160</td>\n      <td>110</td>\n      <td>160</td>\n      <td>110</td>\n      <td>110</td>\n      <td>6</td>\n      <td>True</td>\n    </tr>\n    <tr>\n      <th>797</th>\n      <td>720</td>\n      <td>HoopaHoopa Confined</td>\n      <td>Psychic</td>\n      <td>Ghost</td>\n      <td>600</td>\n      <td>80</td>\n      <td>110</td>\n      <td>60</td>\n      <td>150</td>\n      <td>130</td>\n      <td>70</td>\n      <td>6</td>\n      <td>True</td>\n    </tr>\n    <tr>\n      <th>798</th>\n      <td>720</td>\n      <td>HoopaHoopa Unbound</td>\n      <td>Psychic</td>\n      <td>Dark</td>\n      <td>680</td>\n      <td>80</td>\n      <td>160</td>\n      <td>60</td>\n      <td>170</td>\n      <td>130</td>\n      <td>80</td>\n      <td>6</td>\n      <td>True</td>\n    </tr>\n    <tr>\n      <th>799</th>\n      <td>721</td>\n      <td>Volcanion</td>\n      <td>Flamer</td>\n      <td>Water</td>\n      <td>600</td>\n      <td>80</td>\n      <td>110</td>\n      <td>120</td>\n      <td>130</td>\n      <td>90</td>\n      <td>70</td>\n      <td>6</td>\n      <td>True</td>\n    </tr>\n  </tbody>\n</table>\n<p>800 rows × 13 columns</p>\n</div>"
     },
     "execution_count": 951,
     "metadata": {},
     "output_type": "execute_result"
    }
   ],
   "source": [
    "pokemon_df.loc[pokemon_df[\"Type 1\"] == \"Fire\", \"Type 1\"] = \"Flamer\"\n",
    "pokemon_df"
   ],
   "metadata": {
    "collapsed": false,
    "pycharm": {
     "name": "#%%\n"
    }
   }
  },
  {
   "cell_type": "code",
   "execution_count": 952,
   "outputs": [
    {
     "data": {
      "text/plain": "       #                   Name   Type 1  Type 2  Total  HP  Attack  Defense  \\\n0      1              Bulbasaur    Grass  Poison    318  45      49       49   \n1      2                Ivysaur    Grass  Poison    405  60      62       63   \n2      3               Venusaur    Grass  Poison    525  80      82       83   \n3      3  VenusaurMega Venusaur    Grass  Poison    625  80     100      123   \n4      4             Charmander   Flamer     NaN    309  39      52       43   \n..   ...                    ...      ...     ...    ...  ..     ...      ...   \n795  719                Diancie     Rock   Fairy    600  50     100      150   \n796  719    DiancieMega Diancie     Rock   Fairy    700  50     160      110   \n797  720    HoopaHoopa Confined  Psychic   Ghost    600  80     110       60   \n798  720     HoopaHoopa Unbound  Psychic    Dark    680  80     160       60   \n799  721              Volcanion   Flamer   Water    600  80     110      120   \n\n     Sp. Atk  Sp. Def  Speed  Generation  Legendary  \n0         65       65     45           1      False  \n1         80       80     60           1      False  \n2        100      100     80           1       True  \n3        122      120     80           1       True  \n4         60       50     65           1      False  \n..       ...      ...    ...         ...        ...  \n795      100      150     50           1       True  \n796      160      110    110           1       True  \n797      150      130     70           1       True  \n798      170      130     80           1       True  \n799      130       90     70           1       True  \n\n[800 rows x 13 columns]",
      "text/html": "<div>\n<style scoped>\n    .dataframe tbody tr th:only-of-type {\n        vertical-align: middle;\n    }\n\n    .dataframe tbody tr th {\n        vertical-align: top;\n    }\n\n    .dataframe thead th {\n        text-align: right;\n    }\n</style>\n<table border=\"1\" class=\"dataframe\">\n  <thead>\n    <tr style=\"text-align: right;\">\n      <th></th>\n      <th>#</th>\n      <th>Name</th>\n      <th>Type 1</th>\n      <th>Type 2</th>\n      <th>Total</th>\n      <th>HP</th>\n      <th>Attack</th>\n      <th>Defense</th>\n      <th>Sp. Atk</th>\n      <th>Sp. Def</th>\n      <th>Speed</th>\n      <th>Generation</th>\n      <th>Legendary</th>\n    </tr>\n  </thead>\n  <tbody>\n    <tr>\n      <th>0</th>\n      <td>1</td>\n      <td>Bulbasaur</td>\n      <td>Grass</td>\n      <td>Poison</td>\n      <td>318</td>\n      <td>45</td>\n      <td>49</td>\n      <td>49</td>\n      <td>65</td>\n      <td>65</td>\n      <td>45</td>\n      <td>1</td>\n      <td>False</td>\n    </tr>\n    <tr>\n      <th>1</th>\n      <td>2</td>\n      <td>Ivysaur</td>\n      <td>Grass</td>\n      <td>Poison</td>\n      <td>405</td>\n      <td>60</td>\n      <td>62</td>\n      <td>63</td>\n      <td>80</td>\n      <td>80</td>\n      <td>60</td>\n      <td>1</td>\n      <td>False</td>\n    </tr>\n    <tr>\n      <th>2</th>\n      <td>3</td>\n      <td>Venusaur</td>\n      <td>Grass</td>\n      <td>Poison</td>\n      <td>525</td>\n      <td>80</td>\n      <td>82</td>\n      <td>83</td>\n      <td>100</td>\n      <td>100</td>\n      <td>80</td>\n      <td>1</td>\n      <td>True</td>\n    </tr>\n    <tr>\n      <th>3</th>\n      <td>3</td>\n      <td>VenusaurMega Venusaur</td>\n      <td>Grass</td>\n      <td>Poison</td>\n      <td>625</td>\n      <td>80</td>\n      <td>100</td>\n      <td>123</td>\n      <td>122</td>\n      <td>120</td>\n      <td>80</td>\n      <td>1</td>\n      <td>True</td>\n    </tr>\n    <tr>\n      <th>4</th>\n      <td>4</td>\n      <td>Charmander</td>\n      <td>Flamer</td>\n      <td>NaN</td>\n      <td>309</td>\n      <td>39</td>\n      <td>52</td>\n      <td>43</td>\n      <td>60</td>\n      <td>50</td>\n      <td>65</td>\n      <td>1</td>\n      <td>False</td>\n    </tr>\n    <tr>\n      <th>...</th>\n      <td>...</td>\n      <td>...</td>\n      <td>...</td>\n      <td>...</td>\n      <td>...</td>\n      <td>...</td>\n      <td>...</td>\n      <td>...</td>\n      <td>...</td>\n      <td>...</td>\n      <td>...</td>\n      <td>...</td>\n      <td>...</td>\n    </tr>\n    <tr>\n      <th>795</th>\n      <td>719</td>\n      <td>Diancie</td>\n      <td>Rock</td>\n      <td>Fairy</td>\n      <td>600</td>\n      <td>50</td>\n      <td>100</td>\n      <td>150</td>\n      <td>100</td>\n      <td>150</td>\n      <td>50</td>\n      <td>1</td>\n      <td>True</td>\n    </tr>\n    <tr>\n      <th>796</th>\n      <td>719</td>\n      <td>DiancieMega Diancie</td>\n      <td>Rock</td>\n      <td>Fairy</td>\n      <td>700</td>\n      <td>50</td>\n      <td>160</td>\n      <td>110</td>\n      <td>160</td>\n      <td>110</td>\n      <td>110</td>\n      <td>1</td>\n      <td>True</td>\n    </tr>\n    <tr>\n      <th>797</th>\n      <td>720</td>\n      <td>HoopaHoopa Confined</td>\n      <td>Psychic</td>\n      <td>Ghost</td>\n      <td>600</td>\n      <td>80</td>\n      <td>110</td>\n      <td>60</td>\n      <td>150</td>\n      <td>130</td>\n      <td>70</td>\n      <td>1</td>\n      <td>True</td>\n    </tr>\n    <tr>\n      <th>798</th>\n      <td>720</td>\n      <td>HoopaHoopa Unbound</td>\n      <td>Psychic</td>\n      <td>Dark</td>\n      <td>680</td>\n      <td>80</td>\n      <td>160</td>\n      <td>60</td>\n      <td>170</td>\n      <td>130</td>\n      <td>80</td>\n      <td>1</td>\n      <td>True</td>\n    </tr>\n    <tr>\n      <th>799</th>\n      <td>721</td>\n      <td>Volcanion</td>\n      <td>Flamer</td>\n      <td>Water</td>\n      <td>600</td>\n      <td>80</td>\n      <td>110</td>\n      <td>120</td>\n      <td>130</td>\n      <td>90</td>\n      <td>70</td>\n      <td>1</td>\n      <td>True</td>\n    </tr>\n  </tbody>\n</table>\n<p>800 rows × 13 columns</p>\n</div>"
     },
     "execution_count": 952,
     "metadata": {},
     "output_type": "execute_result"
    }
   ],
   "source": [
    "pokemon_df.loc[pokemon_df[\"Total\"] > 500, [\"Generation\", \"Legendary\"]] = [1, True]\n",
    "pokemon_df"
   ],
   "metadata": {
    "collapsed": false,
    "pycharm": {
     "name": "#%%\n"
    }
   }
  },
  {
   "cell_type": "code",
   "execution_count": 953,
   "outputs": [
    {
     "data": {
      "text/plain": "                   #       Total         HP      Attack     Defense  \\\nType 1                                                                \nDragon    474.375000  550.531250  83.312500  112.125000   86.375000   \nSteel     442.851852  487.703704  65.222222   92.703704  126.370370   \nFlying    677.750000  485.000000  70.750000   78.750000   66.250000   \nPsychic   380.807018  475.947368  70.631579   71.456140   67.684211   \nFlamer    327.403846  458.076923  69.903846   84.769231   67.769231   \nRock      392.727273  453.750000  65.363636   92.863636  100.795455   \nDark      461.354839  445.741935  66.806452   88.387097   70.225806   \nElectric  363.500000  443.409091  59.795455   69.090909   66.295455   \nGhost     486.500000  439.562500  64.437500   73.781250   81.187500   \nGround    356.281250  437.500000  73.781250   95.750000   84.843750   \nIce       423.541667  433.458333  72.000000   72.750000   71.416667   \nWater     303.089286  430.455357  72.062500   74.151786   72.946429   \nGrass     344.871429  421.142857  67.271429   73.214286   70.800000   \nFighting  363.851852  416.444444  69.851852   96.777778   65.925926   \nFairy     449.529412  413.176471  74.117647   61.529412   65.705882   \nNormal    319.173469  401.683673  77.275510   73.469388   59.846939   \nPoison    251.785714  399.142857  67.250000   74.678571   68.821429   \nBug       334.492754  378.927536  56.884058   70.971014   70.724638   \n\n            Sp. Atk    Sp. Def       Speed  Generation  Legendary  \nType 1                                                             \nDragon    96.843750  88.843750   83.031250    2.062500   0.625000  \nSteel     67.518519  80.629630   55.259259    2.555556   0.481481  \nFlying    94.250000  72.500000  102.500000    2.250000   0.750000  \nPsychic   98.403509  86.280702   81.491228    2.561404   0.403509  \nFlamer    88.980769  72.211538   74.442308    2.423077   0.403846  \nRock      63.340909  75.477273   55.909091    2.568182   0.295455  \nDark      74.645161  69.516129   76.161290    3.064516   0.322581  \nElectric  90.022727  73.704545   84.500000    2.340909   0.386364  \nGhost     79.343750  76.468750   64.343750    3.718750   0.187500  \nGround    56.468750  62.750000   63.906250    2.187500   0.312500  \nIce       77.541667  76.291667   63.458333    2.666667   0.333333  \nWater     74.812500  70.517857   65.964286    2.455357   0.250000  \nGrass     77.500000  70.428571   61.928571    2.728571   0.242857  \nFighting  53.111111  64.703704   66.074074    2.777778   0.222222  \nFairy     78.529412  84.705882   48.588235    3.058824   0.235294  \nNormal    55.816327  63.724490   71.551020    2.693878   0.153061  \nPoison    60.428571  64.392857   63.571429    2.500000   0.107143  \nBug       53.869565  64.797101   61.681159    3.014493   0.101449  ",
      "text/html": "<div>\n<style scoped>\n    .dataframe tbody tr th:only-of-type {\n        vertical-align: middle;\n    }\n\n    .dataframe tbody tr th {\n        vertical-align: top;\n    }\n\n    .dataframe thead th {\n        text-align: right;\n    }\n</style>\n<table border=\"1\" class=\"dataframe\">\n  <thead>\n    <tr style=\"text-align: right;\">\n      <th></th>\n      <th>#</th>\n      <th>Total</th>\n      <th>HP</th>\n      <th>Attack</th>\n      <th>Defense</th>\n      <th>Sp. Atk</th>\n      <th>Sp. Def</th>\n      <th>Speed</th>\n      <th>Generation</th>\n      <th>Legendary</th>\n    </tr>\n    <tr>\n      <th>Type 1</th>\n      <th></th>\n      <th></th>\n      <th></th>\n      <th></th>\n      <th></th>\n      <th></th>\n      <th></th>\n      <th></th>\n      <th></th>\n      <th></th>\n    </tr>\n  </thead>\n  <tbody>\n    <tr>\n      <th>Dragon</th>\n      <td>474.375000</td>\n      <td>550.531250</td>\n      <td>83.312500</td>\n      <td>112.125000</td>\n      <td>86.375000</td>\n      <td>96.843750</td>\n      <td>88.843750</td>\n      <td>83.031250</td>\n      <td>2.062500</td>\n      <td>0.625000</td>\n    </tr>\n    <tr>\n      <th>Steel</th>\n      <td>442.851852</td>\n      <td>487.703704</td>\n      <td>65.222222</td>\n      <td>92.703704</td>\n      <td>126.370370</td>\n      <td>67.518519</td>\n      <td>80.629630</td>\n      <td>55.259259</td>\n      <td>2.555556</td>\n      <td>0.481481</td>\n    </tr>\n    <tr>\n      <th>Flying</th>\n      <td>677.750000</td>\n      <td>485.000000</td>\n      <td>70.750000</td>\n      <td>78.750000</td>\n      <td>66.250000</td>\n      <td>94.250000</td>\n      <td>72.500000</td>\n      <td>102.500000</td>\n      <td>2.250000</td>\n      <td>0.750000</td>\n    </tr>\n    <tr>\n      <th>Psychic</th>\n      <td>380.807018</td>\n      <td>475.947368</td>\n      <td>70.631579</td>\n      <td>71.456140</td>\n      <td>67.684211</td>\n      <td>98.403509</td>\n      <td>86.280702</td>\n      <td>81.491228</td>\n      <td>2.561404</td>\n      <td>0.403509</td>\n    </tr>\n    <tr>\n      <th>Flamer</th>\n      <td>327.403846</td>\n      <td>458.076923</td>\n      <td>69.903846</td>\n      <td>84.769231</td>\n      <td>67.769231</td>\n      <td>88.980769</td>\n      <td>72.211538</td>\n      <td>74.442308</td>\n      <td>2.423077</td>\n      <td>0.403846</td>\n    </tr>\n    <tr>\n      <th>Rock</th>\n      <td>392.727273</td>\n      <td>453.750000</td>\n      <td>65.363636</td>\n      <td>92.863636</td>\n      <td>100.795455</td>\n      <td>63.340909</td>\n      <td>75.477273</td>\n      <td>55.909091</td>\n      <td>2.568182</td>\n      <td>0.295455</td>\n    </tr>\n    <tr>\n      <th>Dark</th>\n      <td>461.354839</td>\n      <td>445.741935</td>\n      <td>66.806452</td>\n      <td>88.387097</td>\n      <td>70.225806</td>\n      <td>74.645161</td>\n      <td>69.516129</td>\n      <td>76.161290</td>\n      <td>3.064516</td>\n      <td>0.322581</td>\n    </tr>\n    <tr>\n      <th>Electric</th>\n      <td>363.500000</td>\n      <td>443.409091</td>\n      <td>59.795455</td>\n      <td>69.090909</td>\n      <td>66.295455</td>\n      <td>90.022727</td>\n      <td>73.704545</td>\n      <td>84.500000</td>\n      <td>2.340909</td>\n      <td>0.386364</td>\n    </tr>\n    <tr>\n      <th>Ghost</th>\n      <td>486.500000</td>\n      <td>439.562500</td>\n      <td>64.437500</td>\n      <td>73.781250</td>\n      <td>81.187500</td>\n      <td>79.343750</td>\n      <td>76.468750</td>\n      <td>64.343750</td>\n      <td>3.718750</td>\n      <td>0.187500</td>\n    </tr>\n    <tr>\n      <th>Ground</th>\n      <td>356.281250</td>\n      <td>437.500000</td>\n      <td>73.781250</td>\n      <td>95.750000</td>\n      <td>84.843750</td>\n      <td>56.468750</td>\n      <td>62.750000</td>\n      <td>63.906250</td>\n      <td>2.187500</td>\n      <td>0.312500</td>\n    </tr>\n    <tr>\n      <th>Ice</th>\n      <td>423.541667</td>\n      <td>433.458333</td>\n      <td>72.000000</td>\n      <td>72.750000</td>\n      <td>71.416667</td>\n      <td>77.541667</td>\n      <td>76.291667</td>\n      <td>63.458333</td>\n      <td>2.666667</td>\n      <td>0.333333</td>\n    </tr>\n    <tr>\n      <th>Water</th>\n      <td>303.089286</td>\n      <td>430.455357</td>\n      <td>72.062500</td>\n      <td>74.151786</td>\n      <td>72.946429</td>\n      <td>74.812500</td>\n      <td>70.517857</td>\n      <td>65.964286</td>\n      <td>2.455357</td>\n      <td>0.250000</td>\n    </tr>\n    <tr>\n      <th>Grass</th>\n      <td>344.871429</td>\n      <td>421.142857</td>\n      <td>67.271429</td>\n      <td>73.214286</td>\n      <td>70.800000</td>\n      <td>77.500000</td>\n      <td>70.428571</td>\n      <td>61.928571</td>\n      <td>2.728571</td>\n      <td>0.242857</td>\n    </tr>\n    <tr>\n      <th>Fighting</th>\n      <td>363.851852</td>\n      <td>416.444444</td>\n      <td>69.851852</td>\n      <td>96.777778</td>\n      <td>65.925926</td>\n      <td>53.111111</td>\n      <td>64.703704</td>\n      <td>66.074074</td>\n      <td>2.777778</td>\n      <td>0.222222</td>\n    </tr>\n    <tr>\n      <th>Fairy</th>\n      <td>449.529412</td>\n      <td>413.176471</td>\n      <td>74.117647</td>\n      <td>61.529412</td>\n      <td>65.705882</td>\n      <td>78.529412</td>\n      <td>84.705882</td>\n      <td>48.588235</td>\n      <td>3.058824</td>\n      <td>0.235294</td>\n    </tr>\n    <tr>\n      <th>Normal</th>\n      <td>319.173469</td>\n      <td>401.683673</td>\n      <td>77.275510</td>\n      <td>73.469388</td>\n      <td>59.846939</td>\n      <td>55.816327</td>\n      <td>63.724490</td>\n      <td>71.551020</td>\n      <td>2.693878</td>\n      <td>0.153061</td>\n    </tr>\n    <tr>\n      <th>Poison</th>\n      <td>251.785714</td>\n      <td>399.142857</td>\n      <td>67.250000</td>\n      <td>74.678571</td>\n      <td>68.821429</td>\n      <td>60.428571</td>\n      <td>64.392857</td>\n      <td>63.571429</td>\n      <td>2.500000</td>\n      <td>0.107143</td>\n    </tr>\n    <tr>\n      <th>Bug</th>\n      <td>334.492754</td>\n      <td>378.927536</td>\n      <td>56.884058</td>\n      <td>70.971014</td>\n      <td>70.724638</td>\n      <td>53.869565</td>\n      <td>64.797101</td>\n      <td>61.681159</td>\n      <td>3.014493</td>\n      <td>0.101449</td>\n    </tr>\n  </tbody>\n</table>\n</div>"
     },
     "execution_count": 953,
     "metadata": {},
     "output_type": "execute_result"
    }
   ],
   "source": [
    "obj = pokemon_df.groupby([\"Type 1\"])\n",
    "obj.mean().sort_values([\"Total\"], ascending=False)"
   ],
   "metadata": {
    "collapsed": false,
    "pycharm": {
     "name": "#%%\n"
    }
   }
  },
  {
   "cell_type": "code",
   "execution_count": 954,
   "outputs": [
    {
     "data": {
      "text/plain": "              #  Total    HP  Attack  Defense  Sp. Atk  Sp. Def  Speed  \\\nType 1                                                                   \nBug       23080  26146  3925    4897     4880     3717     4471   4256   \nDark      14302  13818  2071    2740     2177     2314     2155   2361   \nDragon    15180  17617  2666    3588     2764     3099     2843   2657   \nElectric  15994  19510  2631    3040     2917     3961     3243   3718   \nFairy      7642   7024  1260    1046     1117     1335     1440    826   \nFighting   9824  11244  1886    2613     1780     1434     1747   1784   \nFlamer    17025  23820  3635    4408     3524     4627     3755   3871   \nFlying     2711   1940   283     315      265      377      290    410   \nGhost     15568  14066  2062    2361     2598     2539     2447   2059   \nGrass     24141  29480  4709    5125     4956     5425     4930   4335   \nGround    11401  14000  2361    3064     2715     1807     2008   2045   \nIce       10165  10403  1728    1746     1714     1861     1831   1523   \nNormal    31279  39365  7573    7200     5865     5470     6245   7012   \nPoison     7050  11176  1883    2091     1927     1692     1803   1780   \nPsychic   21706  27129  4026    4073     3858     5609     4918   4645   \nRock      17280  19965  2876    4086     4435     2787     3321   2460   \nSteel     11957  13168  1761    2503     3412     1823     2177   1492   \nWater     33946  48211  8071    8305     8170     8379     7898   7388   \n\n          Generation  Legendary  \nType 1                           \nBug              208          7  \nDark              95         10  \nDragon            66         20  \nElectric         103         17  \nFairy             52          4  \nFighting          75          6  \nFlamer           126         21  \nFlying             9          3  \nGhost            119          6  \nGrass            191         17  \nGround            70         10  \nIce               64          8  \nNormal           264         15  \nPoison            70          3  \nPsychic          146         23  \nRock             113         13  \nSteel             69         13  \nWater            275         28  ",
      "text/html": "<div>\n<style scoped>\n    .dataframe tbody tr th:only-of-type {\n        vertical-align: middle;\n    }\n\n    .dataframe tbody tr th {\n        vertical-align: top;\n    }\n\n    .dataframe thead th {\n        text-align: right;\n    }\n</style>\n<table border=\"1\" class=\"dataframe\">\n  <thead>\n    <tr style=\"text-align: right;\">\n      <th></th>\n      <th>#</th>\n      <th>Total</th>\n      <th>HP</th>\n      <th>Attack</th>\n      <th>Defense</th>\n      <th>Sp. Atk</th>\n      <th>Sp. Def</th>\n      <th>Speed</th>\n      <th>Generation</th>\n      <th>Legendary</th>\n    </tr>\n    <tr>\n      <th>Type 1</th>\n      <th></th>\n      <th></th>\n      <th></th>\n      <th></th>\n      <th></th>\n      <th></th>\n      <th></th>\n      <th></th>\n      <th></th>\n      <th></th>\n    </tr>\n  </thead>\n  <tbody>\n    <tr>\n      <th>Bug</th>\n      <td>23080</td>\n      <td>26146</td>\n      <td>3925</td>\n      <td>4897</td>\n      <td>4880</td>\n      <td>3717</td>\n      <td>4471</td>\n      <td>4256</td>\n      <td>208</td>\n      <td>7</td>\n    </tr>\n    <tr>\n      <th>Dark</th>\n      <td>14302</td>\n      <td>13818</td>\n      <td>2071</td>\n      <td>2740</td>\n      <td>2177</td>\n      <td>2314</td>\n      <td>2155</td>\n      <td>2361</td>\n      <td>95</td>\n      <td>10</td>\n    </tr>\n    <tr>\n      <th>Dragon</th>\n      <td>15180</td>\n      <td>17617</td>\n      <td>2666</td>\n      <td>3588</td>\n      <td>2764</td>\n      <td>3099</td>\n      <td>2843</td>\n      <td>2657</td>\n      <td>66</td>\n      <td>20</td>\n    </tr>\n    <tr>\n      <th>Electric</th>\n      <td>15994</td>\n      <td>19510</td>\n      <td>2631</td>\n      <td>3040</td>\n      <td>2917</td>\n      <td>3961</td>\n      <td>3243</td>\n      <td>3718</td>\n      <td>103</td>\n      <td>17</td>\n    </tr>\n    <tr>\n      <th>Fairy</th>\n      <td>7642</td>\n      <td>7024</td>\n      <td>1260</td>\n      <td>1046</td>\n      <td>1117</td>\n      <td>1335</td>\n      <td>1440</td>\n      <td>826</td>\n      <td>52</td>\n      <td>4</td>\n    </tr>\n    <tr>\n      <th>Fighting</th>\n      <td>9824</td>\n      <td>11244</td>\n      <td>1886</td>\n      <td>2613</td>\n      <td>1780</td>\n      <td>1434</td>\n      <td>1747</td>\n      <td>1784</td>\n      <td>75</td>\n      <td>6</td>\n    </tr>\n    <tr>\n      <th>Flamer</th>\n      <td>17025</td>\n      <td>23820</td>\n      <td>3635</td>\n      <td>4408</td>\n      <td>3524</td>\n      <td>4627</td>\n      <td>3755</td>\n      <td>3871</td>\n      <td>126</td>\n      <td>21</td>\n    </tr>\n    <tr>\n      <th>Flying</th>\n      <td>2711</td>\n      <td>1940</td>\n      <td>283</td>\n      <td>315</td>\n      <td>265</td>\n      <td>377</td>\n      <td>290</td>\n      <td>410</td>\n      <td>9</td>\n      <td>3</td>\n    </tr>\n    <tr>\n      <th>Ghost</th>\n      <td>15568</td>\n      <td>14066</td>\n      <td>2062</td>\n      <td>2361</td>\n      <td>2598</td>\n      <td>2539</td>\n      <td>2447</td>\n      <td>2059</td>\n      <td>119</td>\n      <td>6</td>\n    </tr>\n    <tr>\n      <th>Grass</th>\n      <td>24141</td>\n      <td>29480</td>\n      <td>4709</td>\n      <td>5125</td>\n      <td>4956</td>\n      <td>5425</td>\n      <td>4930</td>\n      <td>4335</td>\n      <td>191</td>\n      <td>17</td>\n    </tr>\n    <tr>\n      <th>Ground</th>\n      <td>11401</td>\n      <td>14000</td>\n      <td>2361</td>\n      <td>3064</td>\n      <td>2715</td>\n      <td>1807</td>\n      <td>2008</td>\n      <td>2045</td>\n      <td>70</td>\n      <td>10</td>\n    </tr>\n    <tr>\n      <th>Ice</th>\n      <td>10165</td>\n      <td>10403</td>\n      <td>1728</td>\n      <td>1746</td>\n      <td>1714</td>\n      <td>1861</td>\n      <td>1831</td>\n      <td>1523</td>\n      <td>64</td>\n      <td>8</td>\n    </tr>\n    <tr>\n      <th>Normal</th>\n      <td>31279</td>\n      <td>39365</td>\n      <td>7573</td>\n      <td>7200</td>\n      <td>5865</td>\n      <td>5470</td>\n      <td>6245</td>\n      <td>7012</td>\n      <td>264</td>\n      <td>15</td>\n    </tr>\n    <tr>\n      <th>Poison</th>\n      <td>7050</td>\n      <td>11176</td>\n      <td>1883</td>\n      <td>2091</td>\n      <td>1927</td>\n      <td>1692</td>\n      <td>1803</td>\n      <td>1780</td>\n      <td>70</td>\n      <td>3</td>\n    </tr>\n    <tr>\n      <th>Psychic</th>\n      <td>21706</td>\n      <td>27129</td>\n      <td>4026</td>\n      <td>4073</td>\n      <td>3858</td>\n      <td>5609</td>\n      <td>4918</td>\n      <td>4645</td>\n      <td>146</td>\n      <td>23</td>\n    </tr>\n    <tr>\n      <th>Rock</th>\n      <td>17280</td>\n      <td>19965</td>\n      <td>2876</td>\n      <td>4086</td>\n      <td>4435</td>\n      <td>2787</td>\n      <td>3321</td>\n      <td>2460</td>\n      <td>113</td>\n      <td>13</td>\n    </tr>\n    <tr>\n      <th>Steel</th>\n      <td>11957</td>\n      <td>13168</td>\n      <td>1761</td>\n      <td>2503</td>\n      <td>3412</td>\n      <td>1823</td>\n      <td>2177</td>\n      <td>1492</td>\n      <td>69</td>\n      <td>13</td>\n    </tr>\n    <tr>\n      <th>Water</th>\n      <td>33946</td>\n      <td>48211</td>\n      <td>8071</td>\n      <td>8305</td>\n      <td>8170</td>\n      <td>8379</td>\n      <td>7898</td>\n      <td>7388</td>\n      <td>275</td>\n      <td>28</td>\n    </tr>\n  </tbody>\n</table>\n</div>"
     },
     "execution_count": 954,
     "metadata": {},
     "output_type": "execute_result"
    }
   ],
   "source": [
    "obj = pokemon_df.groupby([\"Type 1\"])\n",
    "obj.sum()"
   ],
   "metadata": {
    "collapsed": false,
    "pycharm": {
     "name": "#%%\n"
    }
   }
  },
  {
   "cell_type": "code",
   "execution_count": 956,
   "outputs": [
    {
     "data": {
      "text/plain": "Type 1  Type 2  \nBug     Electric     2\n        Fighting     2\n        Fire         2\n        Flying      14\n        Ghost        1\n                    ..\nWater   Ice          3\n        Poison       3\n        Psychic      5\n        Rock         4\n        Steel        1\nName: Count, Length: 136, dtype: int64"
     },
     "execution_count": 956,
     "metadata": {},
     "output_type": "execute_result"
    }
   ],
   "source": [
    "pokemon_df[\"Count\"] = 1\n",
    "pokemon_df.groupby([\"Type 1\", \"Type 2\"]).count()[\"Count\"]"
   ],
   "metadata": {
    "collapsed": false,
    "pycharm": {
     "name": "#%%\n"
    }
   }
  }
 ],
 "metadata": {
  "kernelspec": {
   "display_name": "Python 3",
   "language": "python",
   "name": "python3"
  },
  "language_info": {
   "codemirror_mode": {
    "name": "ipython",
    "version": 2
   },
   "file_extension": ".py",
   "mimetype": "text/x-python",
   "name": "python",
   "nbconvert_exporter": "python",
   "pygments_lexer": "ipython2",
   "version": "2.7.6"
  }
 },
 "nbformat": 4,
 "nbformat_minor": 0
}