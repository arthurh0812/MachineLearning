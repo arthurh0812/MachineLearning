{
 "cells": [
  {
   "cell_type": "code",
   "execution_count": 148,
   "metadata": {},
   "outputs": [],
   "source": [
    "import numpy as np\n",
    "import math\n",
    "np.random.seed(42)"
   ]
  },
  {
   "cell_type": "code",
   "execution_count": 149,
   "metadata": {},
   "outputs": [],
   "source": [
    "def generate_dataset():\n",
    "    num_samples_class1 = 10\n",
    "    num_samples_class2 = 6\n",
    "    num_samples_class3 = 13\n",
    "    cov = np.array([[1, 0], [0, 1]])\n",
    "    data1 = np.random.multivariate_normal(\n",
    "        np.array([0, 0]), cov, num_samples_class1\n",
    "    )\n",
    "    data2 = np.random.multivariate_normal(\n",
    "        np.array([-10, 4]), cov, num_samples_class2\n",
    "    )\n",
    "    data3 = np.random.multivariate_normal(\n",
    "        np.array([10, 10]), cov, num_samples_class3\n",
    "    )\n",
    "    data = np.concatenate((data1, data2, data3), axis=0)\n",
    "    classes = np.array(\n",
    "        [0 for i in range(num_samples_class1)] +\n",
    "        [1 for i in range(num_samples_class2)] +\n",
    "        [2 for i in range(num_samples_class3)]\n",
    "    )\n",
    "    return data, classes"
   ]
  },
  {
   "cell_type": "code",
   "execution_count": 150,
   "metadata": {},
   "outputs": [],
   "source": [
    "data, classes = generate_dataset()"
   ]
  },
  {
   "cell_type": "code",
   "execution_count": 151,
   "metadata": {},
   "outputs": [
    {
     "name": "stdout",
     "output_type": "stream",
     "text": [
      "x shape: (29, 2)\n",
      "y shape: (29,)\n"
     ]
    }
   ],
   "source": [
    "print(f\"x shape: {data.shape}\")\n",
    "print(f\"y shape: {classes.shape}\")"
   ]
  },
  {
   "cell_type": "code",
   "execution_count": 152,
   "metadata": {},
   "outputs": [
    {
     "name": "stdout",
     "output_type": "stream",
     "text": [
      "x:\n",
      "[[  0.49671415  -0.1382643 ]\n",
      " [  0.64768854   1.52302986]\n",
      " [ -0.23415337  -0.23413696]\n",
      " [  1.57921282   0.76743473]\n",
      " [ -0.46947439   0.54256004]\n",
      " [ -0.46341769  -0.46572975]\n",
      " [  0.24196227  -1.91328024]\n",
      " [ -1.72491783  -0.56228753]\n",
      " [ -1.01283112   0.31424733]\n",
      " [ -0.90802408  -1.4123037 ]\n",
      " [ -8.53435123   3.7742237 ]\n",
      " [ -9.9324718    2.57525181]\n",
      " [-10.54438272   4.11092259]\n",
      " [-11.15099358   4.37569802]\n",
      " [-10.60063869   3.70830625]\n",
      " [-10.60170661   5.85227818]\n",
      " [  9.98650278   8.94228907]\n",
      " [ 10.82254491   8.77915635]\n",
      " [ 10.2088636    8.04032988]\n",
      " [  8.67181395  10.19686124]\n",
      " [ 10.73846658  10.17136828]\n",
      " [  9.88435172   9.6988963 ]\n",
      " [  8.52147801   9.28015579]\n",
      " [  9.53936123  11.05712223]\n",
      " [ 10.34361829   8.23695984]\n",
      " [ 10.32408397   9.61491772]\n",
      " [  9.323078    10.61167629]\n",
      " [ 11.03099952  10.93128012]\n",
      " [  9.16078248   9.69078762]]\n",
      "y:\n",
      "[0 0 0 0 0 0 0 0 0 0 1 1 1 1 1 1 2 2 2 2 2 2 2 2 2 2 2 2 2]\n"
     ]
    }
   ],
   "source": [
    "print(f\"x:\\n{data}\")\n",
    "print(f\"y:\\n{classes}\")"
   ]
  },
  {
   "cell_type": "code",
   "execution_count": 153,
   "metadata": {},
   "outputs": [],
   "source": [
    "import matplotlib.pyplot as plot\n",
    "\n",
    "def plot_dataset(x, y):\n",
    "    colors = [\"red\", \"green\", \"blue\"]\n",
    "    for index, point in enumerate(x):\n",
    "        classIdx = classes[index]\n",
    "        plot.scatter(point[0], point[1], color=colors[classIdx]) \n",
    "    plot.show()"
   ]
  },
  {
   "cell_type": "code",
   "execution_count": 154,
   "metadata": {},
   "outputs": [
    {
     "data": {
      "image/png": "[encoded data removed]",
      "text/plain": [
       "<Figure size 432x288 with 1 Axes>"
      ]
     },
     "metadata": {
      "needs_background": "light"
     },
     "output_type": "display_data"
    }
   ],
   "source": [
    "plot_dataset(data, classes)"
   ]
  },
  {
   "cell_type": "markdown",
   "metadata": {},
   "source": [
    "KNN Implementation"
   ]
  },
  {
   "cell_type": "code",
   "execution_count": 155,
   "metadata": {},
   "outputs": [],
   "source": [
    "class KNeighborClassifier:\n",
    "    def __init__(self, k_neighbors: int = 5):\n",
    "        self.k_neighbors = k_neighbors\n",
    "        self.data: np.ndarray\n",
    "        self.classes: np.ndarray\n",
    "        self.num_classes: int\n",
    "    \n",
    "    def kneighbors(self, data: np.ndarray):\n",
    "        distances = np.zeros((len(data), len(self.data)), dtype=np.float)\n",
    "        for j, sample in enumerate(data):\n",
    "            for k, x_i in enumerate(self.data):\n",
    "                distances[j][k] = self._distance(sample, x_i)\n",
    "                \n",
    "        closest_idx = np.argsort(distances[:])\n",
    "        kneighbors_idx = closest_idx[:, :self.k_neighbors]\n",
    "        return kneighbors_idx\n",
    "    \n",
    "    def _distance(self, p1: np.ndarray, p2: np.ndarray):\n",
    "        deltaX = np.abs(p2[0]-p1[0])\n",
    "        deltaY = np.abs(p2[1]-p1[1])\n",
    "        distance = math.pow(deltaX, 2) + math.pow(deltaY, 2)\n",
    "        return math.sqrt(distance)\n",
    "    \n",
    "    def fit(self, X: np.ndarray, y: np.ndarray):\n",
    "        self.data = X\n",
    "        self.classes = y\n",
    "        self.num_classes = len(np.unique(y))\n",
    "        \n",
    "    def _count_classes(self, kneighbors_idx):\n",
    "        counts = np.zeros(self.num_classes)\n",
    "        neighbor_classes = self.classes[kneighbors_idx]\n",
    "        for nclass in neighbor_classes:\n",
    "            counts[nclass] += 1\n",
    "        return np.argmax(counts)\n",
    "    \n",
    "    def predict(self, data: np.ndarray):\n",
    "        neighbors_idxs = self.kneighbors(data)\n",
    "        predictions = np.array([self._count_classes(idx) for idx in neighbors_idxs])\n",
    "        return predictions\n",
    "    \n",
    "    def score(self, data: np.ndarray, classes: np.ndarray):\n",
    "        class_pred = self.predict(data)\n",
    "        accuracy = np.mean(class_pred == classes)\n",
    "        return accuracy\n",
    "        \n",
    "        "
   ]
  },
  {
   "cell_type": "code",
   "execution_count": 156,
   "metadata": {},
   "outputs": [],
   "source": [
    "data_test = np.array(\n",
    "    [[0.0, 4.0],\n",
    "    [-5.0, 4.0]]\n",
    ")\n",
    "classes_test = np.array(\n",
    "    [0, 1]\n",
    ")"
   ]
  },
  {
   "cell_type": "code",
   "execution_count": 157,
   "metadata": {},
   "outputs": [
    {
     "name": "stdout",
     "output_type": "stream",
     "text": [
      "test data:\n",
      "[[ 0.  4.]\n",
      " [-5.  4.]]\n",
      "test classes:\n",
      "[0 1]\n",
      "class pred:\n",
      "[0 1]\n",
      "accuracy:\n",
      "100.0%\n"
     ]
    }
   ],
   "source": [
    "clf = KNeighborClassifier(k_neighbors=3)\n",
    "clf.fit(data, classes)\n",
    "\n",
    "prediction = clf.predict(data_test)\n",
    "accuracy = clf.score(data_test, classes_test)\n",
    "\n",
    "print(f\"test data:\\n{data_test}\")\n",
    "print(f\"test classes:\\n{classes_test}\")\n",
    "print(f\"class pred:\\n{prediction}\")\n",
    "print(f\"accuracy:\\n{accuracy*100}%\")"
   ]
  }
 ],
 "metadata": {
  "interpreter": {
   "hash": "f43ba6cefd8f24580ff42e8af3aabb69fa421e7aad4e479f4a62a25e10b01fe1"
  },
  "kernelspec": {
   "display_name": "Python 3.9.12 ('base')",
   "language": "python",
   "name": "python3"
  },
  "language_info": {
   "codemirror_mode": {
    "name": "ipython",
    "version": 3
   },
   "file_extension": ".py",
   "mimetype": "text/x-python",
   "name": "python",
   "nbconvert_exporter": "python",
   "pygments_lexer": "ipython3",
   "version": "3.9.12"
  },
  "orig_nbformat": 4
 },
 "nbformat": 4,
 "nbformat_minor": 2
}
