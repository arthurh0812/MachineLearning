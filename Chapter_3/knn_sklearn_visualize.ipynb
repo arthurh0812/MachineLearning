{
 "cells": [
  {
   "cell_type": "markdown",
   "metadata": {},
   "source": [
    "### Decision Border Plot"
   ]
  },
  {
   "cell_type": "code",
   "execution_count": 15,
   "metadata": {},
   "outputs": [],
   "source": [
    "from typing import Any\n",
    "import numpy as np\n",
    "import matplotlib.pyplot as plt\n",
    "from matplotlib.colors import ListedColormap\n",
    "from sklearn.neighbors import KNeighborsClassifier\n",
    "from sklearn import utils, datasets\n",
    "\n",
    "np.random.seed(42)\n",
    "\n",
    "cmap_background = ListedColormap([\"#FFAAAA\", \"#AAAAFF\", \"#AAFFAA\"])\n",
    "\n",
    "cmap_point = [\n",
    "    \"red\",\n",
    "    \"blue\",\n",
    "    \"green\"\n",
    "]"
   ]
  },
  {
   "cell_type": "code",
   "execution_count": 16,
   "metadata": {},
   "outputs": [],
   "source": [
    "iris:utils.Bunch = datasets.load_iris()\n",
    "x = iris.data\n",
    "y = iris.target\n",
    "num_samples = x.shape[0]\n",
    "num_feats = x.shape[1]\n",
    "num_classes = y.shape[0]\n",
    "test_size = num_samples // 3\n",
    "filtered_data = x[:, :2]\n",
    "\n",
    "random_data_points = np.random.permutation(num_samples)\n",
    "\n",
    "training_data_points = filtered_data[random_data_points[:-test_size]]\n",
    "training_classes = y[random_data_points[:-test_size]]\n",
    "\n",
    "test_data_points = filtered_data[random_data_points[-test_size:]]\n",
    "test_classes = y[random_data_points[-test_size:]]"
   ]
  },
  {
   "cell_type": "code",
   "execution_count": 17,
   "metadata": {},
   "outputs": [
    {
     "data": {
      "text/html": [
       "<style>#sk-container-id-3 {color: black;background-color: white;}#sk-container-id-3 pre{padding: 0;}#sk-container-id-3 div.sk-toggleable {background-color: white;}#sk-container-id-3 label.sk-toggleable__label {cursor: pointer;display: block;width: 100%;margin-bottom: 0;padding: 0.3em;box-sizing: border-box;text-align: center;}#sk-container-id-3 label.sk-toggleable__label-arrow:before {content: \"▸\";float: left;margin-right: 0.25em;color: #696969;}#sk-container-id-3 label.sk-toggleable__label-arrow:hover:before {color: black;}#sk-container-id-3 div.sk-estimator:hover label.sk-toggleable__label-arrow:before {color: black;}#sk-container-id-3 div.sk-toggleable__content {max-height: 0;max-width: 0;overflow: hidden;text-align: left;background-color: #f0f8ff;}#sk-container-id-3 div.sk-toggleable__content pre {margin: 0.2em;color: black;border-radius: 0.25em;background-color: #f0f8ff;}#sk-container-id-3 input.sk-toggleable__control:checked~div.sk-toggleable__content {max-height: 200px;max-width: 100%;overflow: auto;}#sk-container-id-3 input.sk-toggleable__control:checked~label.sk-toggleable__label-arrow:before {content: \"▾\";}#sk-container-id-3 div.sk-estimator input.sk-toggleable__control:checked~label.sk-toggleable__label {background-color: #d4ebff;}#sk-container-id-3 div.sk-label input.sk-toggleable__control:checked~label.sk-toggleable__label {background-color: #d4ebff;}#sk-container-id-3 input.sk-hidden--visually {border: 0;clip: rect(1px 1px 1px 1px);clip: rect(1px, 1px, 1px, 1px);height: 1px;margin: -1px;overflow: hidden;padding: 0;position: absolute;width: 1px;}#sk-container-id-3 div.sk-estimator {font-family: monospace;background-color: #f0f8ff;border: 1px dotted black;border-radius: 0.25em;box-sizing: border-box;margin-bottom: 0.5em;}#sk-container-id-3 div.sk-estimator:hover {background-color: #d4ebff;}#sk-container-id-3 div.sk-parallel-item::after {content: \"\";width: 100%;border-bottom: 1px solid gray;flex-grow: 1;}#sk-container-id-3 div.sk-label:hover label.sk-toggleable__label {background-color: #d4ebff;}#sk-container-id-3 div.sk-serial::before {content: \"\";position: absolute;border-left: 1px solid gray;box-sizing: border-box;top: 0;bottom: 0;left: 50%;z-index: 0;}#sk-container-id-3 div.sk-serial {display: flex;flex-direction: column;align-items: center;background-color: white;padding-right: 0.2em;padding-left: 0.2em;position: relative;}#sk-container-id-3 div.sk-item {position: relative;z-index: 1;}#sk-container-id-3 div.sk-parallel {display: flex;align-items: stretch;justify-content: center;background-color: white;position: relative;}#sk-container-id-3 div.sk-item::before, #sk-container-id-3 div.sk-parallel-item::before {content: \"\";position: absolute;border-left: 1px solid gray;box-sizing: border-box;top: 0;bottom: 0;left: 50%;z-index: -1;}#sk-container-id-3 div.sk-parallel-item {display: flex;flex-direction: column;z-index: 1;position: relative;background-color: white;}#sk-container-id-3 div.sk-parallel-item:first-child::after {align-self: flex-end;width: 50%;}#sk-container-id-3 div.sk-parallel-item:last-child::after {align-self: flex-start;width: 50%;}#sk-container-id-3 div.sk-parallel-item:only-child::after {width: 0;}#sk-container-id-3 div.sk-dashed-wrapped {border: 1px dashed gray;margin: 0 0.4em 0.5em 0.4em;box-sizing: border-box;padding-bottom: 0.4em;background-color: white;}#sk-container-id-3 div.sk-label label {font-family: monospace;font-weight: bold;display: inline-block;line-height: 1.2em;}#sk-container-id-3 div.sk-label-container {text-align: center;}#sk-container-id-3 div.sk-container {/* jupyter's `normalize.less` sets `[hidden] { display: none; }` but bootstrap.min.css set `[hidden] { display: none !important; }` so we also need the `!important` here to be able to override the default hidden behavior on the sphinx rendered scikit-learn.org. See: https://github.com/scikit-learn/scikit-learn/issues/21755 */display: inline-block !important;position: relative;}#sk-container-id-3 div.sk-text-repr-fallback {display: none;}</style><div id=\"sk-container-id-3\" class=\"sk-top-container\"><div class=\"sk-text-repr-fallback\"><pre>KNeighborsClassifier(n_neighbors=8)</pre><b>In a Jupyter environment, please rerun this cell to show the HTML representation or trust the notebook. <br />On GitHub, the HTML representation is unable to render, please try loading this page with nbviewer.org.</b></div><div class=\"sk-container\" hidden><div class=\"sk-item\"><div class=\"sk-estimator sk-toggleable\"><input class=\"sk-toggleable__control sk-hidden--visually\" id=\"sk-estimator-id-3\" type=\"checkbox\" checked><label for=\"sk-estimator-id-3\" class=\"sk-toggleable__label sk-toggleable__label-arrow\">KNeighborsClassifier</label><div class=\"sk-toggleable__content\"><pre>KNeighborsClassifier(n_neighbors=8)</pre></div></div></div></div></div>"
      ],
      "text/plain": [
       "KNeighborsClassifier(n_neighbors=8)"
      ]
     },
     "execution_count": 17,
     "metadata": {},
     "output_type": "execute_result"
    }
   ],
   "source": [
    "clf = KNeighborsClassifier(n_neighbors=8, weights=\"uniform\")\n",
    "clf.fit(training_data_points, training_classes)"
   ]
  },
  {
   "cell_type": "code",
   "execution_count": 18,
   "metadata": {},
   "outputs": [],
   "source": [
    "def  make_meshgrid(\n",
    "    x: np.ndarray, \n",
    "    y: np.ndarray\n",
    ") -> np.ndarray:\n",
    "    step = 0.05\n",
    "    offset = 0.1\n",
    "    minX = np.min(x)\n",
    "    maxX = np.max(x)\n",
    "    x_axis = np.arange(start=minX-offset, stop=maxX+offset, step=step)\n",
    "    minY = np.min(y)\n",
    "    maxY = np.max(y)\n",
    "    y_axis = np.arange(start=minY-offset, stop=maxY+offset, step=step)\n",
    "    return np.meshgrid(x_axis, y_axis)\n",
    "    "
   ]
  },
  {
   "cell_type": "code",
   "execution_count": 19,
   "metadata": {},
   "outputs": [],
   "source": [
    "def plot_contours(\n",
    "    ax: plt.Axes,\n",
    "    clf: KNeighborsClassifier,\n",
    "    x_grid: np.ndarray,\n",
    "    y_grid: np.ndarray,\n",
    "    **params: Any,\n",
    "):\n",
    "    data_points = np.vstack([x_grid.flatten(), y_grid.flatten()]).transpose()\n",
    "    pred = clf.predict(data_points)\n",
    "    pred = np.reshape(pred, newshape=(x_grid.shape))\n",
    "    ax.contourf(x_grid, y_grid, pred, **params)\n",
    "    "
   ]
  },
  {
   "cell_type": "code",
   "execution_count": 20,
   "metadata": {},
   "outputs": [],
   "source": [
    "def plot_decision_border(clf: KNeighborsClassifier, training_data: np.ndarray, training_classes: np.ndarray, test_data: np.ndarray, test_classes: np.ndarray) -> None:\n",
    "    figure, axes = plt.subplots()\n",
    "    x0 = training_data[:, 0]\n",
    "    x1 = training_data[:, 1]\n",
    "    x_grid, y_grid = make_meshgrid(x0, x1)\n",
    "    plot_contours(axes, clf, x_grid, y_grid, cmap=cmap_background, alpha=0.9)\n",
    "    for idx, point in enumerate(training_data): # plot all the training data points\n",
    "        plt.scatter(\n",
    "            x=point[0],\n",
    "            y=point[1],\n",
    "            color=cmap_point[training_classes[idx]],\n",
    "            s=15.0,\n",
    "            marker=\"o\"\n",
    "        )\n",
    "    for idx, point in enumerate(test_data): # plot all the test data points\n",
    "        plt.scatter(\n",
    "            x=point[0],\n",
    "            y=point[1],\n",
    "            color=cmap_point[test_classes[idx]],\n",
    "            s=40.0,\n",
    "            marker=\"*\",\n",
    "        )\n",
    "    plt.show()\n",
    "    "
   ]
  },
  {
   "cell_type": "code",
   "execution_count": 21,
   "metadata": {},
   "outputs": [
    {
     "data": {
      "image/png": "[encoded data removed]",
      "text/plain": [
       "<Figure size 432x288 with 1 Axes>"
      ]
     },
     "metadata": {
      "needs_background": "light"
     },
     "output_type": "display_data"
    }
   ],
   "source": [
    "plot_decision_border(clf, training_data_points, training_classes, test_data_points, test_classes)"
   ]
  }
 ],
 "metadata": {
  "interpreter": {
   "hash": "51e5c816a08402adef3619d7d3c49e15420d29584bda5bdd5168180760e3c22f"
  },
  "kernelspec": {
   "display_name": "Python 3.10.5 ('sklearn-env')",
   "language": "python",
   "name": "python3"
  },
  "language_info": {
   "codemirror_mode": {
    "name": "ipython",
    "version": 3
   },
   "file_extension": ".py",
   "mimetype": "text/x-python",
   "name": "python",
   "nbconvert_exporter": "python",
   "pygments_lexer": "ipython3",
   "version": "3.10.4"
  },
  "orig_nbformat": 4
 },
 "nbformat": 4,
 "nbformat_minor": 2
}
